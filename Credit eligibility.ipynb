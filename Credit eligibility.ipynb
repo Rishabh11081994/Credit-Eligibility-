{
 "cells": [
  {
   "cell_type": "code",
   "execution_count": 132,
   "id": "e4cb729f",
   "metadata": {},
   "outputs": [],
   "source": [
    "import pandas as pd\n",
    "import matplotlib.pyplot as plt\n",
    "import seaborn as sns\n",
    "import plotly.express as px\n",
    "import numpy as np\n",
    "import statsmodels.api as sm\n",
    "import statsmodels.stats.api as sms\n",
    "\n",
    "from statsmodels.stats.outliers_influence import variance_inflation_factor\n",
    "from sklearn.metrics import classification_report\n",
    "\n",
    "\n",
    "from scipy import stats\n",
    "\n",
    "from sklearn.feature_selection import RFE\n",
    "\n",
    "from sklearn.linear_model import LogisticRegression\n",
    "from sklearn.tree import DecisionTreeClassifier\n",
    "from sklearn.neighbors import KNeighborsClassifier\n",
    "from sklearn.naive_bayes import GaussianNB, BernoulliNB, CategoricalNB\n",
    "from sklearn.ensemble import AdaBoostClassifier, GradientBoostingClassifier, RandomForestClassifier\n",
    "from sklearn.svm import SVC\n",
    "\n",
    "from xgboost import XGBClassifier\n",
    "\n",
    "from imblearn.over_sampling import SMOTE\n",
    "from imblearn.under_sampling import RandomUnderSampler\n",
    "\n",
    "from sklearn.metrics import SCORERS\n",
    "\n",
    "from sklearn import metrics\n",
    "from sklearn.preprocessing import LabelEncoder, OneHotEncoder, StandardScaler, MinMaxScaler\n",
    "from sklearn.model_selection import train_test_split\n",
    "from sklearn.model_selection import GridSearchCV"
   ]
  },
  {
   "cell_type": "markdown",
   "id": "15c766a1",
   "metadata": {},
   "source": [
    "Objective: Objective of the project to predict the target variable y whose value is yes or no. Y attributes provide information\n",
    "whether the person is eligible for the credit card or. The features like age, job ,education, marital status present in \n",
    "the data which impacts the target variable. In the give data  target variable is categorical, so various classification algorithms \n",
    "has been implemented to check and find the best fit.\n",
    "\n",
    "Statistical approach were also implemented , where the effort were put on to find the significant attributes \n",
    "from the data "
   ]
  },
  {
   "cell_type": "code",
   "execution_count": 2,
   "id": "6455ca0e",
   "metadata": {},
   "outputs": [
    {
     "data": {
      "text/html": [
       "<div>\n",
       "<style scoped>\n",
       "    .dataframe tbody tr th:only-of-type {\n",
       "        vertical-align: middle;\n",
       "    }\n",
       "\n",
       "    .dataframe tbody tr th {\n",
       "        vertical-align: top;\n",
       "    }\n",
       "\n",
       "    .dataframe thead th {\n",
       "        text-align: right;\n",
       "    }\n",
       "</style>\n",
       "<table border=\"1\" class=\"dataframe\">\n",
       "  <thead>\n",
       "    <tr style=\"text-align: right;\">\n",
       "      <th></th>\n",
       "      <th>Id</th>\n",
       "      <th>age</th>\n",
       "      <th>job</th>\n",
       "      <th>marital</th>\n",
       "      <th>education</th>\n",
       "      <th>default</th>\n",
       "      <th>balance</th>\n",
       "      <th>housing</th>\n",
       "      <th>loan</th>\n",
       "      <th>contact</th>\n",
       "      <th>day</th>\n",
       "      <th>month</th>\n",
       "      <th>duration</th>\n",
       "      <th>campaign</th>\n",
       "      <th>pdays</th>\n",
       "      <th>previous</th>\n",
       "      <th>poutcome</th>\n",
       "      <th>y</th>\n",
       "    </tr>\n",
       "  </thead>\n",
       "  <tbody>\n",
       "    <tr>\n",
       "      <th>0</th>\n",
       "      <td>1001</td>\n",
       "      <td>999.0</td>\n",
       "      <td>management</td>\n",
       "      <td>married</td>\n",
       "      <td>tertiary</td>\n",
       "      <td>no</td>\n",
       "      <td>2143.0</td>\n",
       "      <td>yes</td>\n",
       "      <td>no</td>\n",
       "      <td>unknown</td>\n",
       "      <td>5</td>\n",
       "      <td>may</td>\n",
       "      <td>261</td>\n",
       "      <td>1</td>\n",
       "      <td>-1</td>\n",
       "      <td>0</td>\n",
       "      <td>unknown</td>\n",
       "      <td>no</td>\n",
       "    </tr>\n",
       "    <tr>\n",
       "      <th>1</th>\n",
       "      <td>1002</td>\n",
       "      <td>44.0</td>\n",
       "      <td>technician</td>\n",
       "      <td>single</td>\n",
       "      <td>secondary</td>\n",
       "      <td>no</td>\n",
       "      <td>29.0</td>\n",
       "      <td>yes</td>\n",
       "      <td>no</td>\n",
       "      <td>unknown</td>\n",
       "      <td>5</td>\n",
       "      <td>may</td>\n",
       "      <td>151</td>\n",
       "      <td>1</td>\n",
       "      <td>-1</td>\n",
       "      <td>0</td>\n",
       "      <td>unknown</td>\n",
       "      <td>no</td>\n",
       "    </tr>\n",
       "    <tr>\n",
       "      <th>2</th>\n",
       "      <td>1003</td>\n",
       "      <td>33.0</td>\n",
       "      <td>entrepreneur</td>\n",
       "      <td>married</td>\n",
       "      <td>secondary</td>\n",
       "      <td>no</td>\n",
       "      <td>2.0</td>\n",
       "      <td>yes</td>\n",
       "      <td>yes</td>\n",
       "      <td>unknown</td>\n",
       "      <td>5</td>\n",
       "      <td>may</td>\n",
       "      <td>76</td>\n",
       "      <td>1</td>\n",
       "      <td>-1</td>\n",
       "      <td>0</td>\n",
       "      <td>unknown</td>\n",
       "      <td>no</td>\n",
       "    </tr>\n",
       "    <tr>\n",
       "      <th>3</th>\n",
       "      <td>1004</td>\n",
       "      <td>47.0</td>\n",
       "      <td>blue-collar</td>\n",
       "      <td>married</td>\n",
       "      <td>unknown</td>\n",
       "      <td>no</td>\n",
       "      <td>1506.0</td>\n",
       "      <td>yes</td>\n",
       "      <td>no</td>\n",
       "      <td>unknown</td>\n",
       "      <td>5</td>\n",
       "      <td>may</td>\n",
       "      <td>92</td>\n",
       "      <td>1</td>\n",
       "      <td>-1</td>\n",
       "      <td>0</td>\n",
       "      <td>unknown</td>\n",
       "      <td>no</td>\n",
       "    </tr>\n",
       "    <tr>\n",
       "      <th>4</th>\n",
       "      <td>1005</td>\n",
       "      <td>33.0</td>\n",
       "      <td>unknown</td>\n",
       "      <td>single</td>\n",
       "      <td>unknown</td>\n",
       "      <td>no</td>\n",
       "      <td>1.0</td>\n",
       "      <td>no</td>\n",
       "      <td>no</td>\n",
       "      <td>unknown</td>\n",
       "      <td>5</td>\n",
       "      <td>may</td>\n",
       "      <td>198</td>\n",
       "      <td>1</td>\n",
       "      <td>-1</td>\n",
       "      <td>0</td>\n",
       "      <td>unknown</td>\n",
       "      <td>no</td>\n",
       "    </tr>\n",
       "  </tbody>\n",
       "</table>\n",
       "</div>"
      ],
      "text/plain": [
       "     Id    age           job  marital  education default  balance housing  \\\n",
       "0  1001  999.0    management  married   tertiary      no   2143.0     yes   \n",
       "1  1002   44.0    technician   single  secondary      no     29.0     yes   \n",
       "2  1003   33.0  entrepreneur  married  secondary      no      2.0     yes   \n",
       "3  1004   47.0   blue-collar  married    unknown      no   1506.0     yes   \n",
       "4  1005   33.0       unknown   single    unknown      no      1.0      no   \n",
       "\n",
       "  loan  contact  day month  duration  campaign  pdays  previous poutcome   y  \n",
       "0   no  unknown    5   may       261         1     -1         0  unknown  no  \n",
       "1   no  unknown    5   may       151         1     -1         0  unknown  no  \n",
       "2  yes  unknown    5   may        76         1     -1         0  unknown  no  \n",
       "3   no  unknown    5   may        92         1     -1         0  unknown  no  \n",
       "4   no  unknown    5   may       198         1     -1         0  unknown  no  "
      ]
     },
     "execution_count": 2,
     "metadata": {},
     "output_type": "execute_result"
    }
   ],
   "source": [
    "data = pd.read_csv('Assignment-2_Data.csv')\n",
    "data.head() # checking the data "
   ]
  },
  {
   "cell_type": "code",
   "execution_count": 3,
   "id": "fc9c8dc7",
   "metadata": {},
   "outputs": [
    {
     "data": {
      "text/plain": [
       "(45211, 18)"
      ]
     },
     "execution_count": 3,
     "metadata": {},
     "output_type": "execute_result"
    }
   ],
   "source": [
    "data.shape # checking the shape of the data"
   ]
  },
  {
   "cell_type": "code",
   "execution_count": 4,
   "id": "8434c719",
   "metadata": {},
   "outputs": [
    {
     "data": {
      "text/plain": [
       "Id             int64\n",
       "age          float64\n",
       "job           object\n",
       "marital       object\n",
       "education     object\n",
       "default       object\n",
       "balance      float64\n",
       "housing       object\n",
       "loan          object\n",
       "contact       object\n",
       "day            int64\n",
       "month         object\n",
       "duration       int64\n",
       "campaign       int64\n",
       "pdays          int64\n",
       "previous       int64\n",
       "poutcome      object\n",
       "y             object\n",
       "dtype: object"
      ]
     },
     "execution_count": 4,
     "metadata": {},
     "output_type": "execute_result"
    }
   ],
   "source": [
    "data.dtypes #"
   ]
  },
  {
   "cell_type": "code",
   "execution_count": 5,
   "id": "90f744d8",
   "metadata": {},
   "outputs": [
    {
     "data": {
      "text/plain": [
       "0"
      ]
     },
     "execution_count": 5,
     "metadata": {},
     "output_type": "execute_result"
    }
   ],
   "source": [
    "data.duplicated().sum() # no rows duplicated"
   ]
  },
  {
   "cell_type": "code",
   "execution_count": 6,
   "id": "93695a55",
   "metadata": {},
   "outputs": [
    {
     "data": {
      "text/plain": [
       "Id           0\n",
       "age          9\n",
       "job          0\n",
       "marital      0\n",
       "education    0\n",
       "default      0\n",
       "balance      3\n",
       "housing      0\n",
       "loan         0\n",
       "contact      0\n",
       "day          0\n",
       "month        0\n",
       "duration     0\n",
       "campaign     0\n",
       "pdays        0\n",
       "previous     0\n",
       "poutcome     0\n",
       "y            0\n",
       "dtype: int64"
      ]
     },
     "execution_count": 6,
     "metadata": {},
     "output_type": "execute_result"
    }
   ],
   "source": [
    "data.isnull().sum() # null values are present in the age and balance feature"
   ]
  },
  {
   "cell_type": "code",
   "execution_count": 7,
   "id": "534aeb7c",
   "metadata": {},
   "outputs": [
    {
     "data": {
      "text/html": [
       "<div>\n",
       "<style scoped>\n",
       "    .dataframe tbody tr th:only-of-type {\n",
       "        vertical-align: middle;\n",
       "    }\n",
       "\n",
       "    .dataframe tbody tr th {\n",
       "        vertical-align: top;\n",
       "    }\n",
       "\n",
       "    .dataframe thead th {\n",
       "        text-align: right;\n",
       "    }\n",
       "</style>\n",
       "<table border=\"1\" class=\"dataframe\">\n",
       "  <thead>\n",
       "    <tr style=\"text-align: right;\">\n",
       "      <th></th>\n",
       "      <th>Id</th>\n",
       "      <th>age</th>\n",
       "      <th>balance</th>\n",
       "      <th>day</th>\n",
       "      <th>duration</th>\n",
       "      <th>campaign</th>\n",
       "      <th>pdays</th>\n",
       "      <th>previous</th>\n",
       "    </tr>\n",
       "  </thead>\n",
       "  <tbody>\n",
       "    <tr>\n",
       "      <th>count</th>\n",
       "      <td>45211.000000</td>\n",
       "      <td>45202.000000</td>\n",
       "      <td>45208.000000</td>\n",
       "      <td>45211.000000</td>\n",
       "      <td>45211.000000</td>\n",
       "      <td>45211.000000</td>\n",
       "      <td>45211.000000</td>\n",
       "      <td>45211.000000</td>\n",
       "    </tr>\n",
       "    <tr>\n",
       "      <th>mean</th>\n",
       "      <td>23606.000000</td>\n",
       "      <td>40.954714</td>\n",
       "      <td>1362.346620</td>\n",
       "      <td>15.806419</td>\n",
       "      <td>258.163080</td>\n",
       "      <td>2.763841</td>\n",
       "      <td>40.197828</td>\n",
       "      <td>0.580323</td>\n",
       "    </tr>\n",
       "    <tr>\n",
       "      <th>std</th>\n",
       "      <td>13051.435847</td>\n",
       "      <td>11.539144</td>\n",
       "      <td>3044.852387</td>\n",
       "      <td>8.322476</td>\n",
       "      <td>257.527812</td>\n",
       "      <td>3.098021</td>\n",
       "      <td>100.128746</td>\n",
       "      <td>2.303441</td>\n",
       "    </tr>\n",
       "    <tr>\n",
       "      <th>min</th>\n",
       "      <td>1001.000000</td>\n",
       "      <td>-1.000000</td>\n",
       "      <td>-8019.000000</td>\n",
       "      <td>1.000000</td>\n",
       "      <td>0.000000</td>\n",
       "      <td>1.000000</td>\n",
       "      <td>-1.000000</td>\n",
       "      <td>0.000000</td>\n",
       "    </tr>\n",
       "    <tr>\n",
       "      <th>25%</th>\n",
       "      <td>12303.500000</td>\n",
       "      <td>33.000000</td>\n",
       "      <td>72.000000</td>\n",
       "      <td>8.000000</td>\n",
       "      <td>103.000000</td>\n",
       "      <td>1.000000</td>\n",
       "      <td>-1.000000</td>\n",
       "      <td>0.000000</td>\n",
       "    </tr>\n",
       "    <tr>\n",
       "      <th>50%</th>\n",
       "      <td>23606.000000</td>\n",
       "      <td>39.000000</td>\n",
       "      <td>448.000000</td>\n",
       "      <td>16.000000</td>\n",
       "      <td>180.000000</td>\n",
       "      <td>2.000000</td>\n",
       "      <td>-1.000000</td>\n",
       "      <td>0.000000</td>\n",
       "    </tr>\n",
       "    <tr>\n",
       "      <th>75%</th>\n",
       "      <td>34908.500000</td>\n",
       "      <td>48.000000</td>\n",
       "      <td>1428.000000</td>\n",
       "      <td>21.000000</td>\n",
       "      <td>319.000000</td>\n",
       "      <td>3.000000</td>\n",
       "      <td>-1.000000</td>\n",
       "      <td>0.000000</td>\n",
       "    </tr>\n",
       "    <tr>\n",
       "      <th>max</th>\n",
       "      <td>46211.000000</td>\n",
       "      <td>999.000000</td>\n",
       "      <td>102127.000000</td>\n",
       "      <td>31.000000</td>\n",
       "      <td>4918.000000</td>\n",
       "      <td>63.000000</td>\n",
       "      <td>871.000000</td>\n",
       "      <td>275.000000</td>\n",
       "    </tr>\n",
       "  </tbody>\n",
       "</table>\n",
       "</div>"
      ],
      "text/plain": [
       "                 Id           age        balance           day      duration  \\\n",
       "count  45211.000000  45202.000000   45208.000000  45211.000000  45211.000000   \n",
       "mean   23606.000000     40.954714    1362.346620     15.806419    258.163080   \n",
       "std    13051.435847     11.539144    3044.852387      8.322476    257.527812   \n",
       "min     1001.000000     -1.000000   -8019.000000      1.000000      0.000000   \n",
       "25%    12303.500000     33.000000      72.000000      8.000000    103.000000   \n",
       "50%    23606.000000     39.000000     448.000000     16.000000    180.000000   \n",
       "75%    34908.500000     48.000000    1428.000000     21.000000    319.000000   \n",
       "max    46211.000000    999.000000  102127.000000     31.000000   4918.000000   \n",
       "\n",
       "           campaign         pdays      previous  \n",
       "count  45211.000000  45211.000000  45211.000000  \n",
       "mean       2.763841     40.197828      0.580323  \n",
       "std        3.098021    100.128746      2.303441  \n",
       "min        1.000000     -1.000000      0.000000  \n",
       "25%        1.000000     -1.000000      0.000000  \n",
       "50%        2.000000     -1.000000      0.000000  \n",
       "75%        3.000000     -1.000000      0.000000  \n",
       "max       63.000000    871.000000    275.000000  "
      ]
     },
     "execution_count": 7,
     "metadata": {},
     "output_type": "execute_result"
    }
   ],
   "source": [
    "data.describe() # five poin summary"
   ]
  },
  {
   "cell_type": "markdown",
   "id": "4bd75caf",
   "metadata": {},
   "source": [
    "The mean values and median in the data are different, it appears all the features are not following normal distribution "
   ]
  },
  {
   "cell_type": "code",
   "execution_count": 8,
   "id": "8c62f45d",
   "metadata": {},
   "outputs": [
    {
     "data": {
      "text/html": [
       "<div>\n",
       "<style scoped>\n",
       "    .dataframe tbody tr th:only-of-type {\n",
       "        vertical-align: middle;\n",
       "    }\n",
       "\n",
       "    .dataframe tbody tr th {\n",
       "        vertical-align: top;\n",
       "    }\n",
       "\n",
       "    .dataframe thead th {\n",
       "        text-align: right;\n",
       "    }\n",
       "</style>\n",
       "<table border=\"1\" class=\"dataframe\">\n",
       "  <thead>\n",
       "    <tr style=\"text-align: right;\">\n",
       "      <th></th>\n",
       "      <th>job</th>\n",
       "      <th>marital</th>\n",
       "      <th>education</th>\n",
       "      <th>default</th>\n",
       "      <th>housing</th>\n",
       "      <th>loan</th>\n",
       "      <th>contact</th>\n",
       "      <th>month</th>\n",
       "      <th>poutcome</th>\n",
       "      <th>y</th>\n",
       "    </tr>\n",
       "  </thead>\n",
       "  <tbody>\n",
       "    <tr>\n",
       "      <th>count</th>\n",
       "      <td>45211</td>\n",
       "      <td>45211</td>\n",
       "      <td>45211</td>\n",
       "      <td>45211</td>\n",
       "      <td>45211</td>\n",
       "      <td>45211</td>\n",
       "      <td>45211</td>\n",
       "      <td>45211</td>\n",
       "      <td>45211</td>\n",
       "      <td>45211</td>\n",
       "    </tr>\n",
       "    <tr>\n",
       "      <th>unique</th>\n",
       "      <td>12</td>\n",
       "      <td>3</td>\n",
       "      <td>4</td>\n",
       "      <td>2</td>\n",
       "      <td>2</td>\n",
       "      <td>2</td>\n",
       "      <td>3</td>\n",
       "      <td>12</td>\n",
       "      <td>4</td>\n",
       "      <td>2</td>\n",
       "    </tr>\n",
       "    <tr>\n",
       "      <th>top</th>\n",
       "      <td>blue-collar</td>\n",
       "      <td>married</td>\n",
       "      <td>secondary</td>\n",
       "      <td>no</td>\n",
       "      <td>yes</td>\n",
       "      <td>no</td>\n",
       "      <td>cellular</td>\n",
       "      <td>may</td>\n",
       "      <td>unknown</td>\n",
       "      <td>no</td>\n",
       "    </tr>\n",
       "    <tr>\n",
       "      <th>freq</th>\n",
       "      <td>9732</td>\n",
       "      <td>27214</td>\n",
       "      <td>23202</td>\n",
       "      <td>44396</td>\n",
       "      <td>25130</td>\n",
       "      <td>37967</td>\n",
       "      <td>29285</td>\n",
       "      <td>13766</td>\n",
       "      <td>36959</td>\n",
       "      <td>39922</td>\n",
       "    </tr>\n",
       "  </tbody>\n",
       "</table>\n",
       "</div>"
      ],
      "text/plain": [
       "                job  marital  education default housing   loan   contact  \\\n",
       "count         45211    45211      45211   45211   45211  45211     45211   \n",
       "unique           12        3          4       2       2      2         3   \n",
       "top     blue-collar  married  secondary      no     yes     no  cellular   \n",
       "freq           9732    27214      23202   44396   25130  37967     29285   \n",
       "\n",
       "        month poutcome      y  \n",
       "count   45211    45211  45211  \n",
       "unique     12        4      2  \n",
       "top       may  unknown     no  \n",
       "freq    13766    36959  39922  "
      ]
     },
     "execution_count": 8,
     "metadata": {},
     "output_type": "execute_result"
    }
   ],
   "source": [
    "data.select_dtypes(include=object).describe() # summary for the categorical variable"
   ]
  },
  {
   "cell_type": "code",
   "execution_count": 9,
   "id": "df2524a5",
   "metadata": {},
   "outputs": [
    {
     "name": "stdout",
     "output_type": "stream",
     "text": [
      "job 12\n",
      "marital 3\n",
      "education 4\n",
      "default 2\n",
      "housing 2\n",
      "loan 2\n",
      "contact 3\n",
      "month 12\n",
      "poutcome 4\n",
      "y 2\n"
     ]
    }
   ],
   "source": [
    "for col in data.select_dtypes(include=object).columns:\n",
    "    print(col, data[col].nunique()) # find the count of unique values in the feautures"
   ]
  },
  {
   "cell_type": "markdown",
   "id": "6a053ec6",
   "metadata": {},
   "source": [
    "Job and month contains 12 types of unique values, while converting these categorical variable to one hot vector\n",
    "will increase the size of data, let's see if the label encoding of job and month work well."
   ]
  },
  {
   "cell_type": "code",
   "execution_count": 10,
   "id": "3157bd7a",
   "metadata": {},
   "outputs": [
    {
     "name": "stdout",
     "output_type": "stream",
     "text": [
      "\n",
      "\n",
      "job = ['management' 'technician' 'entrepreneur' 'blue-collar' 'unknown'\n",
      " 'retired' 'admin.' 'services' 'self-employed' 'unemployed' 'housemaid'\n",
      " 'student']\n",
      "\n",
      "\n",
      "marital = ['married' 'single' 'divorced']\n",
      "\n",
      "\n",
      "education = ['tertiary' 'secondary' 'unknown' 'primary']\n",
      "\n",
      "\n",
      "default = ['no' 'yes']\n",
      "\n",
      "\n",
      "housing = ['yes' 'no']\n",
      "\n",
      "\n",
      "loan = ['no' 'yes']\n",
      "\n",
      "\n",
      "contact = ['unknown' 'cellular' 'telephone']\n",
      "\n",
      "\n",
      "month = ['may' 'jun' 'jul' 'aug' 'oct' 'nov' 'dec' 'jan' 'feb' 'mar' 'apr' 'sep']\n",
      "\n",
      "\n",
      "poutcome = ['unknown' 'failure' 'other' 'success']\n",
      "\n",
      "\n",
      "y = ['no' 'yes']\n"
     ]
    }
   ],
   "source": [
    "for col in data.select_dtypes(include=object).columns:\n",
    "    print('\\n')\n",
    "    print(col,'=', data[col].unique()) # checking the data details inside each attributes"
   ]
  },
  {
   "cell_type": "code",
   "execution_count": 11,
   "id": "0c7fe97f",
   "metadata": {},
   "outputs": [
    {
     "data": {
      "text/plain": [
       "no     0.883015\n",
       "yes    0.116985\n",
       "Name: y, dtype: float64"
      ]
     },
     "execution_count": 11,
     "metadata": {},
     "output_type": "execute_result"
    }
   ],
   "source": [
    "data['y'].value_counts()/len(data) # data is not balanced"
   ]
  },
  {
   "cell_type": "markdown",
   "id": "10779913",
   "metadata": {},
   "source": [
    "Above details confirms that the value 'no' and 'yes' are not balanced in the target variable. This is a problem\n",
    "of class imbalance. We will deal this issue after analysis when modeling part will be focused"
   ]
  },
  {
   "cell_type": "code",
   "execution_count": 12,
   "id": "7501c89d",
   "metadata": {},
   "outputs": [
    {
     "data": {
      "image/png": "[encoded data removed]",
      "text/plain": [
       "<Figure size 1080x576 with 8 Axes>"
      ]
     },
     "metadata": {
      "needs_background": "light"
     },
     "output_type": "display_data"
    }
   ],
   "source": [
    "# box plot of nume\n",
    "fig ,axes = plt.subplots(4,2,figsize=(15,8),sharex=False)\n",
    "sns.boxplot(ax=axes[0][0],y = data['age'])\n",
    "sns.boxplot(ax=axes[0][1],y = data['balance'])\n",
    "sns.boxplot(ax=axes[1][0],y = data['day'])\n",
    "sns.boxplot(ax=axes[1][1],y = data['duration'])\n",
    "sns.boxplot(ax=axes[2][0],y = data['campaign'])\n",
    "sns.boxplot(ax=axes[2][1],y = data['pdays'])\n",
    "sns.boxplot(ax=axes[3][0],y = data['previous'])\n",
    "sns.boxplot(ax=axes[3][1],y = data['Id'])\n",
    "plt.show()"
   ]
  },
  {
   "cell_type": "markdown",
   "id": "f8c89de6",
   "metadata": {},
   "source": [
    "From above boxplot it is clear there are outliers in the age,\n",
    "the data doest not appear to follow normal distribution"
   ]
  },
  {
   "cell_type": "code",
   "execution_count": 13,
   "id": "9843170c",
   "metadata": {},
   "outputs": [
    {
     "data": {
      "text/html": [
       "<div>\n",
       "<style scoped>\n",
       "    .dataframe tbody tr th:only-of-type {\n",
       "        vertical-align: middle;\n",
       "    }\n",
       "\n",
       "    .dataframe tbody tr th {\n",
       "        vertical-align: top;\n",
       "    }\n",
       "\n",
       "    .dataframe thead th {\n",
       "        text-align: right;\n",
       "    }\n",
       "</style>\n",
       "<table border=\"1\" class=\"dataframe\">\n",
       "  <thead>\n",
       "    <tr style=\"text-align: right;\">\n",
       "      <th></th>\n",
       "      <th>Id</th>\n",
       "      <th>age</th>\n",
       "      <th>job</th>\n",
       "      <th>marital</th>\n",
       "      <th>education</th>\n",
       "      <th>default</th>\n",
       "      <th>balance</th>\n",
       "      <th>housing</th>\n",
       "      <th>loan</th>\n",
       "      <th>contact</th>\n",
       "      <th>day</th>\n",
       "      <th>month</th>\n",
       "      <th>duration</th>\n",
       "      <th>campaign</th>\n",
       "      <th>pdays</th>\n",
       "      <th>previous</th>\n",
       "      <th>poutcome</th>\n",
       "      <th>y</th>\n",
       "    </tr>\n",
       "  </thead>\n",
       "  <tbody>\n",
       "    <tr>\n",
       "      <th>0</th>\n",
       "      <td>1001</td>\n",
       "      <td>999.0</td>\n",
       "      <td>management</td>\n",
       "      <td>married</td>\n",
       "      <td>tertiary</td>\n",
       "      <td>no</td>\n",
       "      <td>2143.0</td>\n",
       "      <td>yes</td>\n",
       "      <td>no</td>\n",
       "      <td>unknown</td>\n",
       "      <td>5</td>\n",
       "      <td>may</td>\n",
       "      <td>261</td>\n",
       "      <td>1</td>\n",
       "      <td>-1</td>\n",
       "      <td>0</td>\n",
       "      <td>unknown</td>\n",
       "      <td>no</td>\n",
       "    </tr>\n",
       "  </tbody>\n",
       "</table>\n",
       "</div>"
      ],
      "text/plain": [
       "     Id    age         job  marital education default  balance housing loan  \\\n",
       "0  1001  999.0  management  married  tertiary      no   2143.0     yes   no   \n",
       "\n",
       "   contact  day month  duration  campaign  pdays  previous poutcome   y  \n",
       "0  unknown    5   may       261         1     -1         0  unknown  no  "
      ]
     },
     "execution_count": 13,
     "metadata": {},
     "output_type": "execute_result"
    }
   ],
   "source": [
    "data[data['age']>100] #  age of person cannnot be 999, it is mistake, must be dealt"
   ]
  },
  {
   "cell_type": "code",
   "execution_count": 14,
   "id": "e98d990d",
   "metadata": {},
   "outputs": [
    {
     "data": {
      "text/html": [
       "<div>\n",
       "<style scoped>\n",
       "    .dataframe tbody tr th:only-of-type {\n",
       "        vertical-align: middle;\n",
       "    }\n",
       "\n",
       "    .dataframe tbody tr th {\n",
       "        vertical-align: top;\n",
       "    }\n",
       "\n",
       "    .dataframe thead th {\n",
       "        text-align: right;\n",
       "    }\n",
       "</style>\n",
       "<table border=\"1\" class=\"dataframe\">\n",
       "  <thead>\n",
       "    <tr style=\"text-align: right;\">\n",
       "      <th></th>\n",
       "      <th>Id</th>\n",
       "      <th>age</th>\n",
       "      <th>job</th>\n",
       "      <th>marital</th>\n",
       "      <th>education</th>\n",
       "      <th>default</th>\n",
       "      <th>balance</th>\n",
       "      <th>housing</th>\n",
       "      <th>loan</th>\n",
       "      <th>contact</th>\n",
       "      <th>day</th>\n",
       "      <th>month</th>\n",
       "      <th>duration</th>\n",
       "      <th>campaign</th>\n",
       "      <th>pdays</th>\n",
       "      <th>previous</th>\n",
       "      <th>poutcome</th>\n",
       "      <th>y</th>\n",
       "    </tr>\n",
       "  </thead>\n",
       "  <tbody>\n",
       "    <tr>\n",
       "      <th>0</th>\n",
       "      <td>1002</td>\n",
       "      <td>44.0</td>\n",
       "      <td>technician</td>\n",
       "      <td>single</td>\n",
       "      <td>secondary</td>\n",
       "      <td>no</td>\n",
       "      <td>29.0</td>\n",
       "      <td>yes</td>\n",
       "      <td>no</td>\n",
       "      <td>unknown</td>\n",
       "      <td>5</td>\n",
       "      <td>may</td>\n",
       "      <td>151</td>\n",
       "      <td>1</td>\n",
       "      <td>-1</td>\n",
       "      <td>0</td>\n",
       "      <td>unknown</td>\n",
       "      <td>no</td>\n",
       "    </tr>\n",
       "    <tr>\n",
       "      <th>1</th>\n",
       "      <td>1003</td>\n",
       "      <td>33.0</td>\n",
       "      <td>entrepreneur</td>\n",
       "      <td>married</td>\n",
       "      <td>secondary</td>\n",
       "      <td>no</td>\n",
       "      <td>2.0</td>\n",
       "      <td>yes</td>\n",
       "      <td>yes</td>\n",
       "      <td>unknown</td>\n",
       "      <td>5</td>\n",
       "      <td>may</td>\n",
       "      <td>76</td>\n",
       "      <td>1</td>\n",
       "      <td>-1</td>\n",
       "      <td>0</td>\n",
       "      <td>unknown</td>\n",
       "      <td>no</td>\n",
       "    </tr>\n",
       "    <tr>\n",
       "      <th>2</th>\n",
       "      <td>1004</td>\n",
       "      <td>47.0</td>\n",
       "      <td>blue-collar</td>\n",
       "      <td>married</td>\n",
       "      <td>unknown</td>\n",
       "      <td>no</td>\n",
       "      <td>1506.0</td>\n",
       "      <td>yes</td>\n",
       "      <td>no</td>\n",
       "      <td>unknown</td>\n",
       "      <td>5</td>\n",
       "      <td>may</td>\n",
       "      <td>92</td>\n",
       "      <td>1</td>\n",
       "      <td>-1</td>\n",
       "      <td>0</td>\n",
       "      <td>unknown</td>\n",
       "      <td>no</td>\n",
       "    </tr>\n",
       "    <tr>\n",
       "      <th>3</th>\n",
       "      <td>1005</td>\n",
       "      <td>33.0</td>\n",
       "      <td>unknown</td>\n",
       "      <td>single</td>\n",
       "      <td>unknown</td>\n",
       "      <td>no</td>\n",
       "      <td>1.0</td>\n",
       "      <td>no</td>\n",
       "      <td>no</td>\n",
       "      <td>unknown</td>\n",
       "      <td>5</td>\n",
       "      <td>may</td>\n",
       "      <td>198</td>\n",
       "      <td>1</td>\n",
       "      <td>-1</td>\n",
       "      <td>0</td>\n",
       "      <td>unknown</td>\n",
       "      <td>no</td>\n",
       "    </tr>\n",
       "    <tr>\n",
       "      <th>4</th>\n",
       "      <td>1006</td>\n",
       "      <td>35.0</td>\n",
       "      <td>management</td>\n",
       "      <td>married</td>\n",
       "      <td>tertiary</td>\n",
       "      <td>no</td>\n",
       "      <td>231.0</td>\n",
       "      <td>yes</td>\n",
       "      <td>no</td>\n",
       "      <td>unknown</td>\n",
       "      <td>5</td>\n",
       "      <td>may</td>\n",
       "      <td>139</td>\n",
       "      <td>1</td>\n",
       "      <td>-1</td>\n",
       "      <td>0</td>\n",
       "      <td>unknown</td>\n",
       "      <td>no</td>\n",
       "    </tr>\n",
       "  </tbody>\n",
       "</table>\n",
       "</div>"
      ],
      "text/plain": [
       "     Id   age           job  marital  education default  balance housing loan  \\\n",
       "0  1002  44.0    technician   single  secondary      no     29.0     yes   no   \n",
       "1  1003  33.0  entrepreneur  married  secondary      no      2.0     yes  yes   \n",
       "2  1004  47.0   blue-collar  married    unknown      no   1506.0     yes   no   \n",
       "3  1005  33.0       unknown   single    unknown      no      1.0      no   no   \n",
       "4  1006  35.0    management  married   tertiary      no    231.0     yes   no   \n",
       "\n",
       "   contact  day month  duration  campaign  pdays  previous poutcome   y  \n",
       "0  unknown    5   may       151         1     -1         0  unknown  no  \n",
       "1  unknown    5   may        76         1     -1         0  unknown  no  \n",
       "2  unknown    5   may        92         1     -1         0  unknown  no  \n",
       "3  unknown    5   may       198         1     -1         0  unknown  no  \n",
       "4  unknown    5   may       139         1     -1         0  unknown  no  "
      ]
     },
     "execution_count": 14,
     "metadata": {},
     "output_type": "execute_result"
    }
   ],
   "source": [
    "data.drop(index=0, inplace=True) # dropping index with age 999 as this figure of age is not possible\n",
    "data.reset_index(drop=True, inplace=True)\n",
    "data.head()"
   ]
  },
  {
   "cell_type": "code",
   "execution_count": 15,
   "id": "c67e585d",
   "metadata": {},
   "outputs": [],
   "source": [
    "# Dealing with nll values"
   ]
  },
  {
   "cell_type": "code",
   "execution_count": 16,
   "id": "f0890b7c",
   "metadata": {},
   "outputs": [
    {
     "data": {
      "text/plain": [
       "45210"
      ]
     },
     "execution_count": 16,
     "metadata": {},
     "output_type": "execute_result"
    }
   ],
   "source": [
    "len(data)"
   ]
  },
  {
   "cell_type": "code",
   "execution_count": 17,
   "id": "6ea1c5dc",
   "metadata": {},
   "outputs": [
    {
     "data": {
      "text/plain": [
       "Id           0\n",
       "age          9\n",
       "job          0\n",
       "marital      0\n",
       "education    0\n",
       "default      0\n",
       "balance      3\n",
       "housing      0\n",
       "loan         0\n",
       "contact      0\n",
       "day          0\n",
       "month        0\n",
       "duration     0\n",
       "campaign     0\n",
       "pdays        0\n",
       "previous     0\n",
       "poutcome     0\n",
       "y            0\n",
       "dtype: int64"
      ]
     },
     "execution_count": 17,
     "metadata": {},
     "output_type": "execute_result"
    }
   ],
   "source": [
    "data.isnull().sum()"
   ]
  },
  {
   "cell_type": "code",
   "execution_count": 18,
   "id": "5d778363",
   "metadata": {},
   "outputs": [],
   "source": [
    "data['age'] = data['age'].fillna(value=data['age'].median())\n",
    "\n",
    "data['balance']=data['balance'].fillna(value=data['balance'].median())\n"
   ]
  },
  {
   "cell_type": "code",
   "execution_count": 19,
   "id": "81cd408d",
   "metadata": {},
   "outputs": [],
   "source": [
    "try: \n",
    "    data['y'].replace({'yes':1,'no':0}, inplace=True)\n",
    "except:\n",
    "    pass"
   ]
  },
  {
   "cell_type": "code",
   "execution_count": 20,
   "id": "72eded29",
   "metadata": {},
   "outputs": [
    {
     "data": {
      "text/plain": [
       "Id           0\n",
       "age          0\n",
       "job          0\n",
       "marital      0\n",
       "education    0\n",
       "default      0\n",
       "balance      0\n",
       "housing      0\n",
       "loan         0\n",
       "contact      0\n",
       "day          0\n",
       "month        0\n",
       "duration     0\n",
       "campaign     0\n",
       "pdays        0\n",
       "previous     0\n",
       "poutcome     0\n",
       "y            0\n",
       "dtype: int64"
      ]
     },
     "execution_count": 20,
     "metadata": {},
     "output_type": "execute_result"
    }
   ],
   "source": [
    "data.isnull().sum()"
   ]
  },
  {
   "cell_type": "markdown",
   "id": "aa0a1b7a",
   "metadata": {},
   "source": [
    "# Data analysis"
   ]
  },
  {
   "cell_type": "code",
   "execution_count": 21,
   "id": "989e9201",
   "metadata": {},
   "outputs": [
    {
     "data": {
      "image/png": "[encoded data removed]",
      "text/plain": [
       "<Figure size 1080x576 with 8 Axes>"
      ]
     },
     "metadata": {
      "needs_background": "light"
     },
     "output_type": "display_data"
    }
   ],
   "source": [
    "\n",
    "fig ,axes = plt.subplots(4,2,figsize=(15,8),sharex=False)\n",
    "sns.histplot(ax=axes[0][0],x = data['age'])\n",
    "\n",
    "sns.histplot(ax=axes[0][1],x = data['balance'])\n",
    "sns.histplot(ax=axes[1][0],x = data['day'])\n",
    "sns.histplot(ax=axes[1][1],x = data['duration'])\n",
    "sns.histplot(ax=axes[2][0],x = data['campaign'])\n",
    "sns.histplot(ax=axes[2][1],x = data['pdays'])\n",
    "sns.histplot(ax=axes[3][0],x = data['previous'])\n",
    "sns.histplot(ax=axes[3][1],x = data['Id'])\n",
    "plt.show()"
   ]
  },
  {
   "cell_type": "code",
   "execution_count": 22,
   "id": "701b77a0",
   "metadata": {},
   "outputs": [
    {
     "data": {
      "text/plain": [
       "job          12\n",
       "marital       3\n",
       "education     4\n",
       "default       2\n",
       "housing       2\n",
       "loan          2\n",
       "contact       3\n",
       "month        12\n",
       "poutcome      4\n",
       "dtype: int64"
      ]
     },
     "execution_count": 22,
     "metadata": {},
     "output_type": "execute_result"
    }
   ],
   "source": [
    "data.select_dtypes(include=object).nunique()"
   ]
  },
  {
   "cell_type": "code",
   "execution_count": 23,
   "id": "e05d3c85",
   "metadata": {},
   "outputs": [
    {
     "data": {
      "image/png": "[encoded data removed]",
      "text/plain": [
       "<Figure size 1440x864 with 9 Axes>"
      ]
     },
     "metadata": {
      "needs_background": "light"
     },
     "output_type": "display_data"
    }
   ],
   "source": [
    "# countplot \n",
    "fig ,axes = plt.subplots(9,1,figsize=(20,12),sharex=False)\n",
    "a1= sns.countplot(ax=axes[0],x = data['marital'])\n",
    "a1.set_xlabel('Marital Status')\n",
    "a1.set_title('Count Plot of Categorical Variables', fontdict={'size':15,'color':'green'})\n",
    "a2 =sns.countplot(ax=axes[1],x = data['education'])\n",
    "a2.set_xlabel('Education')\n",
    "a3 = sns.countplot(ax=axes[2],x = data['default'])\n",
    "a3.set_xlabel('Default')\n",
    "a4= sns.countplot(ax=axes[3],x = data['housing'])\n",
    "a4.set_xlabel('Housing')\n",
    "a5 =sns.countplot(ax=axes[4],x = data['loan'])\n",
    "a5.set_xlabel('Loan')\n",
    "a6= sns.countplot(ax=axes[5],x = data['contact'])\n",
    "a6.set_xlabel('Contact')\n",
    "a7= sns.countplot(ax=axes[6],x = data['month'])\n",
    "a7.set_xlabel('Month')\n",
    "a8 =sns.countplot(ax=axes[7],x = data['poutcome'])\n",
    "a8.set_xlabel('Outcome')\n",
    "a9 = sns.countplot(ax=axes[8],x = data['job'])\n",
    "a9.set_xlabel('Job')\n",
    "fig.subplots_adjust(hspace=1, wspace=0.125,)\n",
    "plt.show()"
   ]
  },
  {
   "cell_type": "markdown",
   "id": "f6ba029b",
   "metadata": {},
   "source": [
    "From the count plot it is clear that the frequencies of call categories of the attributes are not so equally balanced.\n",
    "This may be the reason that model so trained will not be very good. For training the model representation of each class of the\n",
    "predictor attributes should be good so that model learn  well from the data. Since, we have this data only.\n",
    "We would like to go ahead with our approach. |"
   ]
  },
  {
   "cell_type": "code",
   "execution_count": 24,
   "id": "ad395f2e",
   "metadata": {},
   "outputs": [
    {
     "name": "stderr",
     "output_type": "stream",
     "text": [
      "C:\\Users\\rishw\\anaconda3\\lib\\site-packages\\seaborn\\_decorators.py:36: FutureWarning: Pass the following variable as a keyword arg: x. From version 0.12, the only valid positional argument will be `data`, and passing other arguments without an explicit keyword will result in an error or misinterpretation.\n",
      "  warnings.warn(\n"
     ]
    },
    {
     "data": {
      "image/png": "[encoded data removed]",
      "text/plain": [
       "<Figure size 432x288 with 1 Axes>"
      ]
     },
     "metadata": {
      "needs_background": "light"
     },
     "output_type": "display_data"
    }
   ],
   "source": [
    "sns.countplot(data['y']) # count plot of target class\n",
    "plt.show()\n",
    "plt.show()"
   ]
  },
  {
   "cell_type": "markdown",
   "id": "224bb2a8",
   "metadata": {},
   "source": [
    "The traget class contains binary output where 1 means the candidate is good for the credit and zero means not good\n",
    "\n",
    "The classes are not equally distributed. Here we need to balance the class before training the model"
   ]
  },
  {
   "cell_type": "code",
   "execution_count": 25,
   "id": "f053b68c",
   "metadata": {},
   "outputs": [
    {
     "data": {
      "text/plain": [
       "0    88.301261\n",
       "1    11.698739\n",
       "Name: y, dtype: float64"
      ]
     },
     "execution_count": 25,
     "metadata": {},
     "output_type": "execute_result"
    }
   ],
   "source": [
    "data['y'].value_counts()/len(data)*100 # data is not balanced"
   ]
  },
  {
   "cell_type": "markdown",
   "id": "63a6cdf9",
   "metadata": {},
   "source": [
    "The above percentage shows that 0 (not good for credit) class is in majority containg around 88% of the data"
   ]
  },
  {
   "cell_type": "code",
   "execution_count": 26,
   "id": "390e2029",
   "metadata": {},
   "outputs": [],
   "source": [
    "def BarPlot(columnName): # function to creat the bar plot\n",
    "    for col in data.select_dtypes(include=object):\n",
    "        print(col)\n",
    "        plt.figure(figsize=(12,4))\n",
    "        sns.barplot(x=data[col], y= data[columnName],hue =data['y'])\n",
    "        plt.xticks(rotation=90)\n",
    "        plt.show()"
   ]
  },
  {
   "cell_type": "code",
   "execution_count": 27,
   "id": "c7b71dab",
   "metadata": {},
   "outputs": [
    {
     "name": "stdout",
     "output_type": "stream",
     "text": [
      "job\n"
     ]
    },
    {
     "data": {
      "image/png": "[encoded data removed]",
      "text/plain": [
       "<Figure size 864x288 with 1 Axes>"
      ]
     },
     "metadata": {
      "needs_background": "light"
     },
     "output_type": "display_data"
    },
    {
     "name": "stdout",
     "output_type": "stream",
     "text": [
      "marital\n"
     ]
    },
    {
     "data": {
      "image/png": "[encoded data removed]",
      "text/plain": [
       "<Figure size 864x288 with 1 Axes>"
      ]
     },
     "metadata": {
      "needs_background": "light"
     },
     "output_type": "display_data"
    },
    {
     "name": "stdout",
     "output_type": "stream",
     "text": [
      "education\n"
     ]
    },
    {
     "data": {
      "image/png": "[encoded data removed]",
      "text/plain": [
       "<Figure size 864x288 with 1 Axes>"
      ]
     },
     "metadata": {
      "needs_background": "light"
     },
     "output_type": "display_data"
    },
    {
     "name": "stdout",
     "output_type": "stream",
     "text": [
      "default\n"
     ]
    },
    {
     "data": {
      "image/png": "[encoded data removed]",
      "text/plain": [
       "<Figure size 864x288 with 1 Axes>"
      ]
     },
     "metadata": {
      "needs_background": "light"
     },
     "output_type": "display_data"
    },
    {
     "name": "stdout",
     "output_type": "stream",
     "text": [
      "housing\n"
     ]
    },
    {
     "data": {
      "image/png": "[encoded data removed]",
      "text/plain": [
       "<Figure size 864x288 with 1 Axes>"
      ]
     },
     "metadata": {
      "needs_background": "light"
     },
     "output_type": "display_data"
    },
    {
     "name": "stdout",
     "output_type": "stream",
     "text": [
      "loan\n"
     ]
    },
    {
     "data": {
      "image/png": "[encoded data removed]",
      "text/plain": [
       "<Figure size 864x288 with 1 Axes>"
      ]
     },
     "metadata": {
      "needs_background": "light"
     },
     "output_type": "display_data"
    },
    {
     "name": "stdout",
     "output_type": "stream",
     "text": [
      "contact\n"
     ]
    },
    {
     "data": {
      "image/png": "[encoded data removed]",
      "text/plain": [
       "<Figure size 864x288 with 1 Axes>"
      ]
     },
     "metadata": {
      "needs_background": "light"
     },
     "output_type": "display_data"
    },
    {
     "name": "stdout",
     "output_type": "stream",
     "text": [
      "month\n"
     ]
    },
    {
     "data": {
      "image/png": "[encoded data removed]",
      "text/plain": [
       "<Figure size 864x288 with 1 Axes>"
      ]
     },
     "metadata": {
      "needs_background": "light"
     },
     "output_type": "display_data"
    },
    {
     "name": "stdout",
     "output_type": "stream",
     "text": [
      "poutcome\n"
     ]
    },
    {
     "data": {
      "image/png": "[encoded data removed]",
      "text/plain": [
       "<Figure size 864x288 with 1 Axes>"
      ]
     },
     "metadata": {
      "needs_background": "light"
     },
     "output_type": "display_data"
    }
   ],
   "source": [
    "BarPlot('balance') # creating side bar chart with target class , balance and categorical attributes"
   ]
  },
  {
   "cell_type": "markdown",
   "id": "9b036802",
   "metadata": {},
   "source": [
    "While ploting different categorical attributes with balance attributes we can see that balance plays important role \n",
    "in differentiating the categorical variables classes\n",
    "\n",
    "It can be seen that each class in the categorical attributes mean is different for the target class, there is a chance balance plays important role in deciding whether person is eligible for the credits"
   ]
  },
  {
   "cell_type": "code",
   "execution_count": 28,
   "id": "948c7571",
   "metadata": {},
   "outputs": [
    {
     "name": "stdout",
     "output_type": "stream",
     "text": [
      "job\n"
     ]
    },
    {
     "data": {
      "image/png": "[encoded data removed]",
      "text/plain": [
       "<Figure size 864x288 with 1 Axes>"
      ]
     },
     "metadata": {
      "needs_background": "light"
     },
     "output_type": "display_data"
    },
    {
     "name": "stdout",
     "output_type": "stream",
     "text": [
      "marital\n"
     ]
    },
    {
     "data": {
      "image/png": "[encoded data removed]",
      "text/plain": [
       "<Figure size 864x288 with 1 Axes>"
      ]
     },
     "metadata": {
      "needs_background": "light"
     },
     "output_type": "display_data"
    },
    {
     "name": "stdout",
     "output_type": "stream",
     "text": [
      "education\n"
     ]
    },
    {
     "data": {
      "image/png": "[encoded data removed]",
      "text/plain": [
       "<Figure size 864x288 with 1 Axes>"
      ]
     },
     "metadata": {
      "needs_background": "light"
     },
     "output_type": "display_data"
    },
    {
     "name": "stdout",
     "output_type": "stream",
     "text": [
      "default\n"
     ]
    },
    {
     "data": {
      "image/png": "[encoded data removed]",
      "text/plain": [
       "<Figure size 864x288 with 1 Axes>"
      ]
     },
     "metadata": {
      "needs_background": "light"
     },
     "output_type": "display_data"
    },
    {
     "name": "stdout",
     "output_type": "stream",
     "text": [
      "housing\n"
     ]
    },
    {
     "data": {
      "image/png": "[encoded data removed]",
      "text/plain": [
       "<Figure size 864x288 with 1 Axes>"
      ]
     },
     "metadata": {
      "needs_background": "light"
     },
     "output_type": "display_data"
    },
    {
     "name": "stdout",
     "output_type": "stream",
     "text": [
      "loan\n"
     ]
    },
    {
     "data": {
      "image/png": "[encoded data removed]",
      "text/plain": [
       "<Figure size 864x288 with 1 Axes>"
      ]
     },
     "metadata": {
      "needs_background": "light"
     },
     "output_type": "display_data"
    },
    {
     "name": "stdout",
     "output_type": "stream",
     "text": [
      "contact\n"
     ]
    },
    {
     "data": {
      "image/png": "[encoded data removed]",
      "text/plain": [
       "<Figure size 864x288 with 1 Axes>"
      ]
     },
     "metadata": {
      "needs_background": "light"
     },
     "output_type": "display_data"
    },
    {
     "name": "stdout",
     "output_type": "stream",
     "text": [
      "month\n"
     ]
    },
    {
     "data": {
      "image/png": "[encoded data removed]",
      "text/plain": [
       "<Figure size 864x288 with 1 Axes>"
      ]
     },
     "metadata": {
      "needs_background": "light"
     },
     "output_type": "display_data"
    },
    {
     "name": "stdout",
     "output_type": "stream",
     "text": [
      "poutcome\n"
     ]
    },
    {
     "data": {
      "image/png": "[encoded data removed]",
      "text/plain": [
       "<Figure size 864x288 with 1 Axes>"
      ]
     },
     "metadata": {
      "needs_background": "light"
     },
     "output_type": "display_data"
    }
   ],
   "source": [
    "BarPlot('age') #creating side bar chart with target class , age and categorical attributes"
   ]
  },
  {
   "cell_type": "markdown",
   "id": "03c5e13a",
   "metadata": {},
   "source": [
    "From above plots it appear that target variable is not much impacted by age as the mean of both class of the target\n",
    "variable appears equivalent"
   ]
  },
  {
   "cell_type": "code",
   "execution_count": 29,
   "id": "240decaa",
   "metadata": {},
   "outputs": [
    {
     "data": {
      "image/png": "[encoded data removed]",
      "text/plain": [
       "<Figure size 864x576 with 1 Axes>"
      ]
     },
     "metadata": {
      "needs_background": "light"
     },
     "output_type": "display_data"
    }
   ],
   "source": [
    "plt.figure(figsize=(12,8)) # balance\n",
    "plt.title('Scatter plot Balance vs Age')\n",
    "sns.scatterplot(x=data['age'],y=data['balance'], hue=data['y'])\n",
    "plt.show()"
   ]
  },
  {
   "cell_type": "markdown",
   "id": "ca1fea04",
   "metadata": {},
   "source": [
    "There appear trend that with age balance increases, but it is not so strong as there people with mediocre age\n",
    "having high as well low balance"
   ]
  },
  {
   "cell_type": "code",
   "execution_count": 30,
   "id": "5b96de14",
   "metadata": {},
   "outputs": [
    {
     "data": {
      "image/png": "[encoded data removed]",
      "text/plain": [
       "<Figure size 864x576 with 1 Axes>"
      ]
     },
     "metadata": {
      "needs_background": "light"
     },
     "output_type": "display_data"
    }
   ],
   "source": [
    "plt.figure(figsize=(12,8))\n",
    "plt.title(\"Trend line for the balance and age\")\n",
    "sns.regplot(x=data['age'],y=data['balance'],line_kws={'color':'green'})\n",
    "plt.show()"
   ]
  },
  {
   "cell_type": "markdown",
   "id": "9f46751c",
   "metadata": {},
   "source": [
    "The trend lines shows that with age balance increase, but the slope of line is very less "
   ]
  },
  {
   "cell_type": "markdown",
   "id": "4f9ef8ef",
   "metadata": {},
   "source": [
    "### Statistical test for the balance and the age"
   ]
  },
  {
   "cell_type": "code",
   "execution_count": 31,
   "id": "fbba8439",
   "metadata": {},
   "outputs": [
    {
     "data": {
      "text/plain": [
       "(45210, 18)"
      ]
     },
     "execution_count": 31,
     "metadata": {},
     "output_type": "execute_result"
    }
   ],
   "source": [
    "data.shape"
   ]
  },
  {
   "cell_type": "code",
   "execution_count": 32,
   "id": "93564cbe",
   "metadata": {},
   "outputs": [
    {
     "data": {
      "text/plain": [
       "4393      228.0\n",
       "4438     3750.0\n",
       "26378    2289.0\n",
       "42133    5871.0\n",
       "2667      452.0\n",
       "          ...  \n",
       "35749     265.0\n",
       "37219       0.0\n",
       "25799       0.0\n",
       "34018     477.0\n",
       "1222       20.0\n",
       "Name: balance, Length: 4500, dtype: float64"
      ]
     },
     "execution_count": 32,
     "metadata": {},
     "output_type": "execute_result"
    }
   ],
   "source": [
    "data['balance'].sample(n=4500, random_state=10)"
   ]
  },
  {
   "cell_type": "code",
   "execution_count": 33,
   "id": "e310e195",
   "metadata": {},
   "outputs": [
    {
     "name": "stdout",
     "output_type": "stream",
     "text": [
      "ShapiroResult(statistic=0.4770895838737488, pvalue=0.0)\n",
      "age ShapiroResult(statistic=0.9597294926643372, pvalue=1.3011298095057312e-33)\n"
     ]
    }
   ],
   "source": [
    "balance = data['balance'].sample(n=4500, random_state=10) # randomly getting 4500 records for shapiro test \n",
    "age = data['age'].sample(n=4500, random_state=10)  # randomly checking \n",
    "print(stats.shapiro(balance))\n",
    "print('age', stats.shapiro(age))"
   ]
  },
  {
   "cell_type": "markdown",
   "id": "1054d1b7",
   "metadata": {},
   "source": [
    "Balance and Age are not normal \n",
    "Going for spearman r non parametric test"
   ]
  },
  {
   "cell_type": "code",
   "execution_count": 34,
   "id": "e4ff341d",
   "metadata": {},
   "outputs": [
    {
     "data": {
      "text/plain": [
       "SpearmanrResult(correlation=0.09622475498659533, pvalue=1.8660182304796786e-93)"
      ]
     },
     "execution_count": 34,
     "metadata": {},
     "output_type": "execute_result"
    }
   ],
   "source": [
    "stats.spearmanr(data['balance'], data['age'])\n",
    "# significantly balance and age are correlated but the strenght of linear relationship is not so good it is only 0.096"
   ]
  },
  {
   "cell_type": "code",
   "execution_count": 35,
   "id": "208db572",
   "metadata": {},
   "outputs": [
    {
     "data": {
      "image/png": "[encoded data removed]",
      "text/plain": [
       "<Figure size 864x576 with 1 Axes>"
      ]
     },
     "metadata": {
      "needs_background": "light"
     },
     "output_type": "display_data"
    }
   ],
   "source": [
    "plt.figure(figsize=(12,8))\n",
    "plt.title(\"Age vs Credit\")\n",
    "sns.boxplot(y=data['age'],x=data['y'])\n",
    "plt.show()"
   ]
  },
  {
   "cell_type": "markdown",
   "id": "b30d60a7",
   "metadata": {},
   "source": [
    "The distribution is not normal for both the age and credit , there is mild difference in the mean \n",
    "\n",
    "It can be noticed from the graph that high age lies in both classes , so we conclude high balance does not neccessarily \n",
    "means the person is eligible for the credit"
   ]
  },
  {
   "cell_type": "code",
   "execution_count": 36,
   "id": "eca6c458",
   "metadata": {},
   "outputs": [
    {
     "data": {
      "image/png": "[encoded data removed]",
      "text/plain": [
       "<Figure size 864x576 with 1 Axes>"
      ]
     },
     "metadata": {
      "needs_background": "light"
     },
     "output_type": "display_data"
    }
   ],
   "source": [
    "plt.figure(figsize=(12,8))\n",
    "plt.title(\"Balance vs Credit\")\n",
    "sns.boxplot(y=data['balance'],x=data['y'])\n",
    "plt.show()"
   ]
  },
  {
   "cell_type": "markdown",
   "id": "f12cb452",
   "metadata": {},
   "source": [
    "Similarly,it can be noticed from the graph that high age lies in both classes , so we conclude high balance does not neccessarily \n",
    "means the person is eligible for the credit"
   ]
  },
  {
   "cell_type": "code",
   "execution_count": 37,
   "id": "4d70611d",
   "metadata": {},
   "outputs": [
    {
     "data": {
      "image/png": "[encoded data removed]",
      "text/plain": [
       "<Figure size 864x576 with 1 Axes>"
      ]
     },
     "metadata": {
      "needs_background": "light"
     },
     "output_type": "display_data"
    }
   ],
   "source": [
    "plt.figure(figsize=(12,8))\n",
    "plt.title('Campaign vs credit')\n",
    "sns.boxplot(y=data['campaign'],x=data['y'])\n",
    "plt.show()"
   ]
  },
  {
   "cell_type": "markdown",
   "id": "4bbf8845",
   "metadata": {},
   "source": [
    "From above graph it is clear that when campaign days are more than 40 it will definitely lie under not eligible class for the credit"
   ]
  },
  {
   "cell_type": "code",
   "execution_count": 38,
   "id": "cb5bb864",
   "metadata": {},
   "outputs": [
    {
     "data": {
      "text/html": [
       "<div>\n",
       "<style scoped>\n",
       "    .dataframe tbody tr th:only-of-type {\n",
       "        vertical-align: middle;\n",
       "    }\n",
       "\n",
       "    .dataframe tbody tr th {\n",
       "        vertical-align: top;\n",
       "    }\n",
       "\n",
       "    .dataframe thead th {\n",
       "        text-align: right;\n",
       "    }\n",
       "</style>\n",
       "<table border=\"1\" class=\"dataframe\">\n",
       "  <thead>\n",
       "    <tr style=\"text-align: right;\">\n",
       "      <th></th>\n",
       "      <th>age</th>\n",
       "      <th>balance</th>\n",
       "      <th>day</th>\n",
       "      <th>duration</th>\n",
       "      <th>campaign</th>\n",
       "      <th>pdays</th>\n",
       "      <th>previous</th>\n",
       "    </tr>\n",
       "  </thead>\n",
       "  <tbody>\n",
       "    <tr>\n",
       "      <th>age</th>\n",
       "      <td>1.000000</td>\n",
       "      <td>0.097704</td>\n",
       "      <td>-0.009114</td>\n",
       "      <td>-0.004809</td>\n",
       "      <td>0.004906</td>\n",
       "      <td>-0.023695</td>\n",
       "      <td>0.000826</td>\n",
       "    </tr>\n",
       "    <tr>\n",
       "      <th>balance</th>\n",
       "      <td>0.097704</td>\n",
       "      <td>1.000000</td>\n",
       "      <td>0.004504</td>\n",
       "      <td>0.021561</td>\n",
       "      <td>-0.014578</td>\n",
       "      <td>0.003436</td>\n",
       "      <td>0.016674</td>\n",
       "    </tr>\n",
       "    <tr>\n",
       "      <th>day</th>\n",
       "      <td>-0.009114</td>\n",
       "      <td>0.004504</td>\n",
       "      <td>1.000000</td>\n",
       "      <td>-0.030207</td>\n",
       "      <td>0.162477</td>\n",
       "      <td>-0.093058</td>\n",
       "      <td>-0.051719</td>\n",
       "    </tr>\n",
       "    <tr>\n",
       "      <th>duration</th>\n",
       "      <td>-0.004809</td>\n",
       "      <td>0.021561</td>\n",
       "      <td>-0.030207</td>\n",
       "      <td>1.000000</td>\n",
       "      <td>-0.084570</td>\n",
       "      <td>-0.001565</td>\n",
       "      <td>0.001203</td>\n",
       "    </tr>\n",
       "    <tr>\n",
       "      <th>campaign</th>\n",
       "      <td>0.004906</td>\n",
       "      <td>-0.014578</td>\n",
       "      <td>0.162477</td>\n",
       "      <td>-0.084570</td>\n",
       "      <td>1.000000</td>\n",
       "      <td>-0.088633</td>\n",
       "      <td>-0.032859</td>\n",
       "    </tr>\n",
       "    <tr>\n",
       "      <th>pdays</th>\n",
       "      <td>-0.023695</td>\n",
       "      <td>0.003436</td>\n",
       "      <td>-0.093058</td>\n",
       "      <td>-0.001565</td>\n",
       "      <td>-0.088633</td>\n",
       "      <td>1.000000</td>\n",
       "      <td>0.454819</td>\n",
       "    </tr>\n",
       "    <tr>\n",
       "      <th>previous</th>\n",
       "      <td>0.000826</td>\n",
       "      <td>0.016674</td>\n",
       "      <td>-0.051719</td>\n",
       "      <td>0.001203</td>\n",
       "      <td>-0.032859</td>\n",
       "      <td>0.454819</td>\n",
       "      <td>1.000000</td>\n",
       "    </tr>\n",
       "  </tbody>\n",
       "</table>\n",
       "</div>"
      ],
      "text/plain": [
       "               age   balance       day  duration  campaign     pdays  previous\n",
       "age       1.000000  0.097704 -0.009114 -0.004809  0.004906 -0.023695  0.000826\n",
       "balance   0.097704  1.000000  0.004504  0.021561 -0.014578  0.003436  0.016674\n",
       "day      -0.009114  0.004504  1.000000 -0.030207  0.162477 -0.093058 -0.051719\n",
       "duration -0.004809  0.021561 -0.030207  1.000000 -0.084570 -0.001565  0.001203\n",
       "campaign  0.004906 -0.014578  0.162477 -0.084570  1.000000 -0.088633 -0.032859\n",
       "pdays    -0.023695  0.003436 -0.093058 -0.001565 -0.088633  1.000000  0.454819\n",
       "previous  0.000826  0.016674 -0.051719  0.001203 -0.032859  0.454819  1.000000"
      ]
     },
     "execution_count": 38,
     "metadata": {},
     "output_type": "execute_result"
    }
   ],
   "source": [
    "data.drop(columns=['y','Id'],axis =1).corr() # correlation matrix"
   ]
  },
  {
   "cell_type": "code",
   "execution_count": 39,
   "id": "9d4d55c6",
   "metadata": {},
   "outputs": [
    {
     "data": {
      "image/png": "[encoded data removed]",
      "text/plain": [
       "<Figure size 1080x720 with 2 Axes>"
      ]
     },
     "metadata": {
      "needs_background": "light"
     },
     "output_type": "display_data"
    }
   ],
   "source": [
    "plt.figure(figsize=(15,10)) \n",
    "plt.title(\"Heat map of Correlation matrix\")\n",
    "sns.heatmap(data.drop(columns=['y','Id'],axis =1).corr(), annot=True, cmap='coolwarm')\n",
    "plt.show()"
   ]
  },
  {
   "cell_type": "markdown",
   "id": "f177f31d",
   "metadata": {},
   "source": [
    "From above it is clear that multicollinearity is very less in the data, only previous and pdays attributes show medium and positive correlation. This is a good sign, to build good model the multicollinearity should be negligible in the data"
   ]
  },
  {
   "cell_type": "markdown",
   "id": "4dd2cf89",
   "metadata": {},
   "source": [
    "# Modelling"
   ]
  },
  {
   "cell_type": "code",
   "execution_count": 40,
   "id": "a4d514c4",
   "metadata": {},
   "outputs": [],
   "source": [
    "dataModel = data.copy() # making copy of the data "
   ]
  },
  {
   "cell_type": "code",
   "execution_count": 41,
   "id": "ac188f0d",
   "metadata": {},
   "outputs": [
    {
     "data": {
      "text/html": [
       "<div>\n",
       "<style scoped>\n",
       "    .dataframe tbody tr th:only-of-type {\n",
       "        vertical-align: middle;\n",
       "    }\n",
       "\n",
       "    .dataframe tbody tr th {\n",
       "        vertical-align: top;\n",
       "    }\n",
       "\n",
       "    .dataframe thead th {\n",
       "        text-align: right;\n",
       "    }\n",
       "</style>\n",
       "<table border=\"1\" class=\"dataframe\">\n",
       "  <thead>\n",
       "    <tr style=\"text-align: right;\">\n",
       "      <th></th>\n",
       "      <th>Id</th>\n",
       "      <th>age</th>\n",
       "      <th>job</th>\n",
       "      <th>marital</th>\n",
       "      <th>education</th>\n",
       "      <th>default</th>\n",
       "      <th>balance</th>\n",
       "      <th>housing</th>\n",
       "      <th>loan</th>\n",
       "      <th>contact</th>\n",
       "      <th>day</th>\n",
       "      <th>month</th>\n",
       "      <th>duration</th>\n",
       "      <th>campaign</th>\n",
       "      <th>pdays</th>\n",
       "      <th>previous</th>\n",
       "      <th>poutcome</th>\n",
       "      <th>y</th>\n",
       "    </tr>\n",
       "  </thead>\n",
       "  <tbody>\n",
       "    <tr>\n",
       "      <th>0</th>\n",
       "      <td>1002</td>\n",
       "      <td>44.0</td>\n",
       "      <td>technician</td>\n",
       "      <td>single</td>\n",
       "      <td>secondary</td>\n",
       "      <td>no</td>\n",
       "      <td>29.0</td>\n",
       "      <td>yes</td>\n",
       "      <td>no</td>\n",
       "      <td>unknown</td>\n",
       "      <td>5</td>\n",
       "      <td>may</td>\n",
       "      <td>151</td>\n",
       "      <td>1</td>\n",
       "      <td>-1</td>\n",
       "      <td>0</td>\n",
       "      <td>unknown</td>\n",
       "      <td>0</td>\n",
       "    </tr>\n",
       "    <tr>\n",
       "      <th>1</th>\n",
       "      <td>1003</td>\n",
       "      <td>33.0</td>\n",
       "      <td>entrepreneur</td>\n",
       "      <td>married</td>\n",
       "      <td>secondary</td>\n",
       "      <td>no</td>\n",
       "      <td>2.0</td>\n",
       "      <td>yes</td>\n",
       "      <td>yes</td>\n",
       "      <td>unknown</td>\n",
       "      <td>5</td>\n",
       "      <td>may</td>\n",
       "      <td>76</td>\n",
       "      <td>1</td>\n",
       "      <td>-1</td>\n",
       "      <td>0</td>\n",
       "      <td>unknown</td>\n",
       "      <td>0</td>\n",
       "    </tr>\n",
       "    <tr>\n",
       "      <th>2</th>\n",
       "      <td>1004</td>\n",
       "      <td>47.0</td>\n",
       "      <td>blue-collar</td>\n",
       "      <td>married</td>\n",
       "      <td>unknown</td>\n",
       "      <td>no</td>\n",
       "      <td>1506.0</td>\n",
       "      <td>yes</td>\n",
       "      <td>no</td>\n",
       "      <td>unknown</td>\n",
       "      <td>5</td>\n",
       "      <td>may</td>\n",
       "      <td>92</td>\n",
       "      <td>1</td>\n",
       "      <td>-1</td>\n",
       "      <td>0</td>\n",
       "      <td>unknown</td>\n",
       "      <td>0</td>\n",
       "    </tr>\n",
       "    <tr>\n",
       "      <th>3</th>\n",
       "      <td>1005</td>\n",
       "      <td>33.0</td>\n",
       "      <td>unknown</td>\n",
       "      <td>single</td>\n",
       "      <td>unknown</td>\n",
       "      <td>no</td>\n",
       "      <td>1.0</td>\n",
       "      <td>no</td>\n",
       "      <td>no</td>\n",
       "      <td>unknown</td>\n",
       "      <td>5</td>\n",
       "      <td>may</td>\n",
       "      <td>198</td>\n",
       "      <td>1</td>\n",
       "      <td>-1</td>\n",
       "      <td>0</td>\n",
       "      <td>unknown</td>\n",
       "      <td>0</td>\n",
       "    </tr>\n",
       "    <tr>\n",
       "      <th>4</th>\n",
       "      <td>1006</td>\n",
       "      <td>35.0</td>\n",
       "      <td>management</td>\n",
       "      <td>married</td>\n",
       "      <td>tertiary</td>\n",
       "      <td>no</td>\n",
       "      <td>231.0</td>\n",
       "      <td>yes</td>\n",
       "      <td>no</td>\n",
       "      <td>unknown</td>\n",
       "      <td>5</td>\n",
       "      <td>may</td>\n",
       "      <td>139</td>\n",
       "      <td>1</td>\n",
       "      <td>-1</td>\n",
       "      <td>0</td>\n",
       "      <td>unknown</td>\n",
       "      <td>0</td>\n",
       "    </tr>\n",
       "  </tbody>\n",
       "</table>\n",
       "</div>"
      ],
      "text/plain": [
       "     Id   age           job  marital  education default  balance housing loan  \\\n",
       "0  1002  44.0    technician   single  secondary      no     29.0     yes   no   \n",
       "1  1003  33.0  entrepreneur  married  secondary      no      2.0     yes  yes   \n",
       "2  1004  47.0   blue-collar  married    unknown      no   1506.0     yes   no   \n",
       "3  1005  33.0       unknown   single    unknown      no      1.0      no   no   \n",
       "4  1006  35.0    management  married   tertiary      no    231.0     yes   no   \n",
       "\n",
       "   contact  day month  duration  campaign  pdays  previous poutcome  y  \n",
       "0  unknown    5   may       151         1     -1         0  unknown  0  \n",
       "1  unknown    5   may        76         1     -1         0  unknown  0  \n",
       "2  unknown    5   may        92         1     -1         0  unknown  0  \n",
       "3  unknown    5   may       198         1     -1         0  unknown  0  \n",
       "4  unknown    5   may       139         1     -1         0  unknown  0  "
      ]
     },
     "execution_count": 41,
     "metadata": {},
     "output_type": "execute_result"
    }
   ],
   "source": [
    "dataModel.head()"
   ]
  },
  {
   "cell_type": "code",
   "execution_count": 47,
   "id": "187910fd",
   "metadata": {},
   "outputs": [],
   "source": [
    "# creating list of categorical variables\n",
    "cat_columns = dataModel.select_dtypes(include=object).columns # categorical attributes\n",
    "cat_columns_one_hot = ['marital','education','default','housing','loan','contact','poutcome'] # attributes for one hot encoding\n",
    "cat_columns_label_encoder = ['job','month'] # taking thesse variables for label encoder\n",
    "\n",
    "# applying label encoder\n",
    "Label_Encoder_month = LabelEncoder()\n",
    "Label_Encoder_job = LabelEncoder()\n",
    "dataModel['month'] = Label_Encoder_month.fit_transform(dataModel['month'])\n",
    "dataModel['job'] = Label_Encoder_job.fit_transform(dataModel['job'])\n",
    "\n",
    "# creating list of numerical variables for the transformation\n",
    "num_list = list(data.select_dtypes(exclude=object).drop(['Id','y'],axis=1).columns)\n",
    "\n",
    "# applying one hot encoding\n",
    "OHencoder = OneHotEncoder(sparse=False)\n",
    "X_one_hot_encoder = OHencoder.fit_transform(data[cat_columns_one_hot])\n",
    "\n",
    "# creating data frame of one hot encoded matrix\n",
    "df_one_hot_encoder = pd.DataFrame(X_one_hot_encoder, columns=OHencoder.get_feature_names_out())\n",
    "\n",
    "# dropping categorical attributes from the data as these are encoded\n",
    "try:\n",
    "    dataModel.drop(columns = cat_columns_one_hot, axis =1 ,inplace=True)\n",
    "except:\n",
    "    pass\n",
    "# dropping id as it is not required\n",
    "try:\n",
    "    dataModel.drop(columns='Id',axis=1, inplace=True)\n",
    "except:\n",
    "    pass\n",
    "\n",
    "# conversion of numerical attributes using standard scaler\n",
    "Standard_Scaler = StandardScaler()\n",
    "X_array= Standard_Scaler.fit_transform(dataModel[num_list])\n",
    "# creating data frame for the transformed numerical columns\n",
    "X_scaled_num = pd.DataFrame(X_array,columns=Standard_Scaler.get_feature_names_out() )\n",
    "X_scaled_num.head()\n",
    "\n",
    "# replacing data with the transformed column\n",
    "for col in X_scaled_num.columns:\n",
    "    dataModel[col] = X_scaled_num[col]\n",
    "\n",
    "# mergind two data frame\n",
    "df_merged = pd.merge(dataModel,df_one_hot_encoder,left_index=True, right_index=True)\n",
    "\n",
    "# seperating predictor and response variables from the data\n",
    "y = df_merged['y']\n",
    "X = df_merged.drop(columns='y',axis =1)\n",
    "\n",
    "# adding constant to the data to build stats model\n",
    "X = sm.add_constant(X)"
   ]
  },
  {
   "cell_type": "code",
   "execution_count": 48,
   "id": "a815ad47",
   "metadata": {},
   "outputs": [
    {
     "data": {
      "text/html": [
       "<div>\n",
       "<style scoped>\n",
       "    .dataframe tbody tr th:only-of-type {\n",
       "        vertical-align: middle;\n",
       "    }\n",
       "\n",
       "    .dataframe tbody tr th {\n",
       "        vertical-align: top;\n",
       "    }\n",
       "\n",
       "    .dataframe thead th {\n",
       "        text-align: right;\n",
       "    }\n",
       "</style>\n",
       "<table border=\"1\" class=\"dataframe\">\n",
       "  <thead>\n",
       "    <tr style=\"text-align: right;\">\n",
       "      <th></th>\n",
       "      <th>const</th>\n",
       "      <th>age</th>\n",
       "      <th>job</th>\n",
       "      <th>balance</th>\n",
       "      <th>day</th>\n",
       "      <th>month</th>\n",
       "      <th>duration</th>\n",
       "      <th>campaign</th>\n",
       "      <th>pdays</th>\n",
       "      <th>previous</th>\n",
       "      <th>...</th>\n",
       "      <th>housing_yes</th>\n",
       "      <th>loan_no</th>\n",
       "      <th>loan_yes</th>\n",
       "      <th>contact_cellular</th>\n",
       "      <th>contact_telephone</th>\n",
       "      <th>contact_unknown</th>\n",
       "      <th>poutcome_failure</th>\n",
       "      <th>poutcome_other</th>\n",
       "      <th>poutcome_success</th>\n",
       "      <th>poutcome_unknown</th>\n",
       "    </tr>\n",
       "  </thead>\n",
       "  <tbody>\n",
       "    <tr>\n",
       "      <th>0</th>\n",
       "      <td>1.0</td>\n",
       "      <td>0.288732</td>\n",
       "      <td>9</td>\n",
       "      <td>-0.437890</td>\n",
       "      <td>-1.298515</td>\n",
       "      <td>8</td>\n",
       "      <td>-0.416122</td>\n",
       "      <td>-0.569359</td>\n",
       "      <td>-0.411458</td>\n",
       "      <td>-0.251943</td>\n",
       "      <td>...</td>\n",
       "      <td>1.0</td>\n",
       "      <td>1.0</td>\n",
       "      <td>0.0</td>\n",
       "      <td>0.0</td>\n",
       "      <td>0.0</td>\n",
       "      <td>1.0</td>\n",
       "      <td>0.0</td>\n",
       "      <td>0.0</td>\n",
       "      <td>0.0</td>\n",
       "      <td>1.0</td>\n",
       "    </tr>\n",
       "    <tr>\n",
       "      <th>1</th>\n",
       "      <td>1.0</td>\n",
       "      <td>-0.746869</td>\n",
       "      <td>2</td>\n",
       "      <td>-0.446758</td>\n",
       "      <td>-1.298515</td>\n",
       "      <td>8</td>\n",
       "      <td>-0.707353</td>\n",
       "      <td>-0.569359</td>\n",
       "      <td>-0.411458</td>\n",
       "      <td>-0.251943</td>\n",
       "      <td>...</td>\n",
       "      <td>1.0</td>\n",
       "      <td>0.0</td>\n",
       "      <td>1.0</td>\n",
       "      <td>0.0</td>\n",
       "      <td>0.0</td>\n",
       "      <td>1.0</td>\n",
       "      <td>0.0</td>\n",
       "      <td>0.0</td>\n",
       "      <td>0.0</td>\n",
       "      <td>1.0</td>\n",
       "    </tr>\n",
       "    <tr>\n",
       "      <th>2</th>\n",
       "      <td>1.0</td>\n",
       "      <td>0.571168</td>\n",
       "      <td>1</td>\n",
       "      <td>0.047206</td>\n",
       "      <td>-1.298515</td>\n",
       "      <td>8</td>\n",
       "      <td>-0.645224</td>\n",
       "      <td>-0.569359</td>\n",
       "      <td>-0.411458</td>\n",
       "      <td>-0.251943</td>\n",
       "      <td>...</td>\n",
       "      <td>1.0</td>\n",
       "      <td>1.0</td>\n",
       "      <td>0.0</td>\n",
       "      <td>0.0</td>\n",
       "      <td>0.0</td>\n",
       "      <td>1.0</td>\n",
       "      <td>0.0</td>\n",
       "      <td>0.0</td>\n",
       "      <td>0.0</td>\n",
       "      <td>1.0</td>\n",
       "    </tr>\n",
       "    <tr>\n",
       "      <th>3</th>\n",
       "      <td>1.0</td>\n",
       "      <td>-0.746869</td>\n",
       "      <td>11</td>\n",
       "      <td>-0.447086</td>\n",
       "      <td>-1.298515</td>\n",
       "      <td>8</td>\n",
       "      <td>-0.233618</td>\n",
       "      <td>-0.569359</td>\n",
       "      <td>-0.411458</td>\n",
       "      <td>-0.251943</td>\n",
       "      <td>...</td>\n",
       "      <td>0.0</td>\n",
       "      <td>1.0</td>\n",
       "      <td>0.0</td>\n",
       "      <td>0.0</td>\n",
       "      <td>0.0</td>\n",
       "      <td>1.0</td>\n",
       "      <td>0.0</td>\n",
       "      <td>0.0</td>\n",
       "      <td>0.0</td>\n",
       "      <td>1.0</td>\n",
       "    </tr>\n",
       "    <tr>\n",
       "      <th>4</th>\n",
       "      <td>1.0</td>\n",
       "      <td>-0.558578</td>\n",
       "      <td>4</td>\n",
       "      <td>-0.371546</td>\n",
       "      <td>-1.298515</td>\n",
       "      <td>8</td>\n",
       "      <td>-0.462719</td>\n",
       "      <td>-0.569359</td>\n",
       "      <td>-0.411458</td>\n",
       "      <td>-0.251943</td>\n",
       "      <td>...</td>\n",
       "      <td>1.0</td>\n",
       "      <td>1.0</td>\n",
       "      <td>0.0</td>\n",
       "      <td>0.0</td>\n",
       "      <td>0.0</td>\n",
       "      <td>1.0</td>\n",
       "      <td>0.0</td>\n",
       "      <td>0.0</td>\n",
       "      <td>0.0</td>\n",
       "      <td>1.0</td>\n",
       "    </tr>\n",
       "  </tbody>\n",
       "</table>\n",
       "<p>5 rows × 30 columns</p>\n",
       "</div>"
      ],
      "text/plain": [
       "   const       age  job   balance       day  month  duration  campaign  \\\n",
       "0    1.0  0.288732    9 -0.437890 -1.298515      8 -0.416122 -0.569359   \n",
       "1    1.0 -0.746869    2 -0.446758 -1.298515      8 -0.707353 -0.569359   \n",
       "2    1.0  0.571168    1  0.047206 -1.298515      8 -0.645224 -0.569359   \n",
       "3    1.0 -0.746869   11 -0.447086 -1.298515      8 -0.233618 -0.569359   \n",
       "4    1.0 -0.558578    4 -0.371546 -1.298515      8 -0.462719 -0.569359   \n",
       "\n",
       "      pdays  previous  ...  housing_yes  loan_no  loan_yes  contact_cellular  \\\n",
       "0 -0.411458 -0.251943  ...          1.0      1.0       0.0               0.0   \n",
       "1 -0.411458 -0.251943  ...          1.0      0.0       1.0               0.0   \n",
       "2 -0.411458 -0.251943  ...          1.0      1.0       0.0               0.0   \n",
       "3 -0.411458 -0.251943  ...          0.0      1.0       0.0               0.0   \n",
       "4 -0.411458 -0.251943  ...          1.0      1.0       0.0               0.0   \n",
       "\n",
       "   contact_telephone  contact_unknown  poutcome_failure  poutcome_other  \\\n",
       "0                0.0              1.0               0.0             0.0   \n",
       "1                0.0              1.0               0.0             0.0   \n",
       "2                0.0              1.0               0.0             0.0   \n",
       "3                0.0              1.0               0.0             0.0   \n",
       "4                0.0              1.0               0.0             0.0   \n",
       "\n",
       "   poutcome_success  poutcome_unknown  \n",
       "0               0.0               1.0  \n",
       "1               0.0               1.0  \n",
       "2               0.0               1.0  \n",
       "3               0.0               1.0  \n",
       "4               0.0               1.0  \n",
       "\n",
       "[5 rows x 30 columns]"
      ]
     },
     "execution_count": 48,
     "metadata": {},
     "output_type": "execute_result"
    }
   ],
   "source": [
    "X.head() # demo of data"
   ]
  },
  {
   "cell_type": "code",
   "execution_count": 51,
   "id": "9cde8358",
   "metadata": {},
   "outputs": [
    {
     "name": "stdout",
     "output_type": "stream",
     "text": [
      "X_train's shape (36168, 30)\n",
      "X test's shape' (9042, 30)\n",
      "y_train's shape (36168,)\n",
      "y_test's shape (9042,)\n"
     ]
    }
   ],
   "source": [
    "X_train, X_test, y_train, y_test = train_test_split(\n",
    "...     X, y, test_size=0.2, random_state=42) # splitting the data in ratio 80:20\n",
    "\n",
    "print(\"X_train's shape\",X_train.shape)\n",
    "print(\"X test's shape'\",X_test.shape)\n",
    "print(\"y_train's shape\",y_train.shape)\n",
    "print(\"y_test's shape\",y_test.shape)"
   ]
  },
  {
   "cell_type": "code",
   "execution_count": 55,
   "id": "8fbbdc05",
   "metadata": {},
   "outputs": [
    {
     "name": "stdout",
     "output_type": "stream",
     "text": [
      "Logistic Regression Model\n",
      "test score 0.898363193983632\n",
      "train score 0.9014598540145985\n",
      "\n",
      " Target classes percentage\n",
      "0    0.883013\n",
      "1    0.116987\n",
      "Name: y, dtype: float64\n"
     ]
    }
   ],
   "source": [
    "# Building logistic model \n",
    "model_logistic = LogisticRegression(max_iter=500)\n",
    "model_logistic.fit(X_train, y_train)\n",
    "print('Logistic Regression Model')\n",
    "print('test score',model_logistic.score(X_test, y_test))\n",
    "print('train score',model_logistic.score(X_train, y_train))\n",
    "# above model shows that the difference between train and test model is small\n",
    "print(\"\\n Target classes percentage\")\n",
    "print(data['y'].value_counts()/len(data))"
   ]
  },
  {
   "cell_type": "markdown",
   "id": "2d1b5a4c",
   "metadata": {},
   "source": [
    "Model evaluation: The model that built shows accuray of 89 % while the representation of one class itself is \n",
    "88.3% we can say that model is learning something but need to improve further"
   ]
  },
  {
   "cell_type": "code",
   "execution_count": 56,
   "id": "0e558979",
   "metadata": {},
   "outputs": [
    {
     "name": "stdout",
     "output_type": "stream",
     "text": [
      "Warning: Maximum number of iterations has been exceeded.\n",
      "         Current function value: 0.251618\n",
      "         Iterations: 35\n",
      "                           Logit Regression Results                           \n",
      "==============================================================================\n",
      "Dep. Variable:                      y   No. Observations:                45210\n",
      "Model:                          Logit   Df Residuals:                    45187\n",
      "Method:                           MLE   Df Model:                           22\n",
      "Date:                Fri, 14 Apr 2023   Pseudo R-squ.:                  0.3028\n",
      "Time:                        10:26:34   Log-Likelihood:                -11376.\n",
      "converged:                      False   LL-Null:                       -16315.\n",
      "Covariance Type:            nonrobust   LLR p-value:                     0.000\n",
      "=======================================================================================\n",
      "                          coef    std err          z      P>|z|      [0.025      0.975]\n",
      "---------------------------------------------------------------------------------------\n",
      "const                  -0.6805   1.02e+06  -6.64e-07      1.000   -2.01e+06    2.01e+06\n",
      "age                     0.0646      0.019      3.332      0.001       0.027       0.103\n",
      "job                     0.0035      0.006      0.623      0.533      -0.008       0.015\n",
      "balance                 0.0501      0.015      3.412      0.001       0.021       0.079\n",
      "day                    -0.0407      0.018     -2.284      0.022      -0.076      -0.006\n",
      "month                   0.0271      0.006      4.687      0.000       0.016       0.038\n",
      "duration                1.0367      0.016     64.556      0.000       1.005       1.068\n",
      "campaign               -0.3324      0.031    -10.748      0.000      -0.393      -0.272\n",
      "pdays                   0.0125      0.030      0.419      0.675      -0.046       0.071\n",
      "previous                0.0244      0.015      1.634      0.102      -0.005       0.054\n",
      "marital_divorced       -0.2446        nan        nan        nan         nan         nan\n",
      "marital_married        -0.4207        nan        nan        nan         nan         nan\n",
      "marital_single         -0.0152        nan        nan        nan         nan         nan\n",
      "education_primary      -0.4153   1.32e+06  -3.14e-07      1.000   -2.59e+06    2.59e+06\n",
      "education_secondary    -0.2034   1.32e+06  -1.54e-07      1.000   -2.59e+06    2.59e+06\n",
      "education_tertiary     -0.0018   1.33e+06  -1.35e-09      1.000    -2.6e+06     2.6e+06\n",
      "education_unknown      -0.0600   1.33e+06  -4.53e-08      1.000    -2.6e+06     2.6e+06\n",
      "default_no             -0.2279        nan        nan        nan         nan         nan\n",
      "default_yes            -0.4526        nan        nan        nan         nan         nan\n",
      "housing_no              0.0885        nan        nan        nan         nan         nan\n",
      "housing_yes            -0.7690        nan        nan        nan         nan         nan\n",
      "loan_no                -0.0392   9.38e+05  -4.17e-08      1.000   -1.84e+06    1.84e+06\n",
      "loan_yes               -0.6414   9.39e+05  -6.83e-07      1.000   -1.84e+06    1.84e+06\n",
      "contact_cellular        0.2062        nan        nan        nan         nan         nan\n",
      "contact_telephone       0.1493        nan        nan        nan         nan         nan\n",
      "contact_unknown        -1.0360        nan        nan        nan         nan         nan\n",
      "poutcome_failure       -0.7521    4.8e+05  -1.57e-06      1.000    -9.4e+05     9.4e+05\n",
      "poutcome_other         -0.4822    4.8e+05  -1.01e-06      1.000    -9.4e+05     9.4e+05\n",
      "poutcome_success        1.5534    4.8e+05   3.24e-06      1.000    -9.4e+05     9.4e+05\n",
      "poutcome_unknown       -0.9995    4.8e+05  -2.08e-06      1.000    -9.4e+05     9.4e+05\n",
      "=======================================================================================\n",
      "22797.338261326193\n"
     ]
    },
    {
     "name": "stderr",
     "output_type": "stream",
     "text": [
      "C:\\Users\\rishw\\anaconda3\\lib\\site-packages\\statsmodels\\base\\model.py:604: ConvergenceWarning: Maximum Likelihood optimization failed to converge. Check mle_retvals\n",
      "  warnings.warn(\"Maximum Likelihood optimization failed to \"\n"
     ]
    }
   ],
   "source": [
    "logreg = sm.Logit(y, X, check_rank=True).fit()\n",
    "print(logreg.summary())\n",
    "print(logreg.aic)"
   ]
  },
  {
   "cell_type": "markdown",
   "id": "1d0c386e",
   "metadata": {},
   "source": [
    "From above p value of of the model is zero which conveys that model is significant\n",
    "\n",
    "The p value of the attributes like job, pdays and previous is more than 0.05, these attributes are not significant in the model\n",
    "\n",
    "However, the pseudo r2 square value of the model is 0.30, it means the model can explained only 30percet of the \n",
    "variance in the target variable. Let's see if this model can be improved further"
   ]
  },
  {
   "cell_type": "code",
   "execution_count": 57,
   "id": "496221a8",
   "metadata": {},
   "outputs": [
    {
     "name": "stdout",
     "output_type": "stream",
     "text": [
      "Optimization terminated successfully.\n",
      "         Current function value: 0.251657\n",
      "         Iterations 17\n",
      "                           Logit Regression Results                           \n",
      "==============================================================================\n",
      "Dep. Variable:                      y   No. Observations:                45210\n",
      "Model:                          Logit   Df Residuals:                    45190\n",
      "Method:                           MLE   Df Model:                           19\n",
      "Date:                Fri, 14 Apr 2023   Pseudo R-squ.:                  0.3027\n",
      "Time:                        10:26:35   Log-Likelihood:                -11377.\n",
      "converged:                       True   LL-Null:                       -16315.\n",
      "Covariance Type:            nonrobust   LLR p-value:                     0.000\n",
      "=======================================================================================\n",
      "                          coef    std err          z      P>|z|      [0.025      0.975]\n",
      "---------------------------------------------------------------------------------------\n",
      "const                  -0.6665   7.66e+05   -8.7e-07      1.000    -1.5e+06     1.5e+06\n",
      "age                     0.0647      0.019      3.334      0.001       0.027       0.103\n",
      "balance                 0.0500      0.015      3.410      0.001       0.021       0.079\n",
      "day                    -0.0415      0.018     -2.328      0.020      -0.076      -0.007\n",
      "month                   0.0269      0.006      4.661      0.000       0.016       0.038\n",
      "duration                1.0366      0.016     64.558      0.000       1.005       1.068\n",
      "campaign               -0.3305      0.031    -10.704      0.000      -0.391      -0.270\n",
      "marital_divorced       -0.2402        nan        nan        nan         nan         nan\n",
      "marital_married        -0.4169        nan        nan        nan         nan         nan\n",
      "marital_single         -0.0094        nan        nan        nan         nan         nan\n",
      "education_primary      -0.4153    1.4e+06  -2.97e-07      1.000   -2.74e+06    2.74e+06\n",
      "education_secondary    -0.1991   1.24e+06  -1.61e-07      1.000   -2.42e+06    2.42e+06\n",
      "education_tertiary      0.0031   8.35e+05   3.65e-09      1.000   -1.64e+06    1.64e+06\n",
      "education_unknown      -0.0552   1.23e+06  -4.48e-08      1.000   -2.41e+06    2.41e+06\n",
      "default_no             -0.2212   6.07e+05  -3.64e-07      1.000   -1.19e+06    1.19e+06\n",
      "default_yes            -0.4453   7.68e+05   -5.8e-07      1.000   -1.51e+06    1.51e+06\n",
      "housing_no              0.0952   1.68e+06   5.66e-08      1.000    -3.3e+06     3.3e+06\n",
      "housing_yes            -0.7617   1.75e+06  -4.36e-07      1.000   -3.42e+06    3.42e+06\n",
      "loan_no                -0.0317        nan        nan        nan         nan         nan\n",
      "loan_yes               -0.6348        nan        nan        nan         nan         nan\n",
      "contact_cellular        0.2107   2.99e+06   7.04e-08      1.000   -5.86e+06    5.86e+06\n",
      "contact_telephone       0.1556   3.06e+06   5.08e-08      1.000      -6e+06       6e+06\n",
      "contact_unknown        -1.0328      3e+06  -3.45e-07      1.000   -5.87e+06    5.87e+06\n",
      "poutcome_failure       -0.7348    4.9e+05   -1.5e-06      1.000   -9.59e+05    9.59e+05\n",
      "poutcome_other         -0.4551    4.9e+05   -9.3e-07      1.000   -9.59e+05    9.59e+05\n",
      "poutcome_success        1.5647    4.9e+05    3.2e-06      1.000   -9.59e+05    9.59e+05\n",
      "poutcome_unknown       -1.0413    4.9e+05  -2.13e-06      1.000   -9.59e+05    9.59e+05\n",
      "=======================================================================================\n",
      "22794.817384994574\n"
     ]
    }
   ],
   "source": [
    "logreg = sm.Logit(y, X.drop(columns=['job','pdays','previous'],axis =1), check_rank=True).fit()\n",
    "print(logreg.summary())\n",
    "print(logreg.aic)"
   ]
  },
  {
   "cell_type": "markdown",
   "id": "a0fd85a3",
   "metadata": {},
   "source": [
    "After removing the insignificant variables that AIC value has beend dropped, this is a good sign"
   ]
  },
  {
   "cell_type": "code",
   "execution_count": 58,
   "id": "c5b32ae4",
   "metadata": {},
   "outputs": [],
   "source": [
    "from statsmodels.stats.outliers_influence import variance_inflation_factor"
   ]
  },
  {
   "cell_type": "code",
   "execution_count": 59,
   "id": "5b6e736c",
   "metadata": {},
   "outputs": [
    {
     "name": "stderr",
     "output_type": "stream",
     "text": [
      "C:\\Users\\rishw\\anaconda3\\lib\\site-packages\\statsmodels\\regression\\linear_model.py:1736: RuntimeWarning: divide by zero encountered in double_scalars\n",
      "  return 1 - self.ssr/self.centered_tss\n",
      "C:\\Users\\rishw\\anaconda3\\lib\\site-packages\\statsmodels\\stats\\outliers_influence.py:195: RuntimeWarning: divide by zero encountered in double_scalars\n",
      "  vif = 1. / (1. - r_squared_i)\n"
     ]
    },
    {
     "name": "stdout",
     "output_type": "stream",
     "text": [
      "[0.0, 1.3813371914133867, 1.069644444905442, 1.0367239268692863, 1.0405563293915552, 1.25851243269085, 1.0114948200812195, 1.0631607054496972, 4.486074109430453, 1.412759597461706, inf, inf, inf, inf, inf, inf, inf, inf, inf, inf, inf, inf, inf, inf, inf, inf, inf, inf, inf, inf]\n"
     ]
    }
   ],
   "source": [
    "\n",
    "  \n",
    "# calculating VIF for each feature\n",
    "vif = [variance_inflation_factor(X.values, i)\n",
    "                          for i in range(len(X.columns))]\n",
    "  \n",
    "print(vif)"
   ]
  },
  {
   "cell_type": "code",
   "execution_count": 60,
   "id": "09f8ede0",
   "metadata": {},
   "outputs": [
    {
     "data": {
      "text/html": [
       "<div>\n",
       "<style scoped>\n",
       "    .dataframe tbody tr th:only-of-type {\n",
       "        vertical-align: middle;\n",
       "    }\n",
       "\n",
       "    .dataframe tbody tr th {\n",
       "        vertical-align: top;\n",
       "    }\n",
       "\n",
       "    .dataframe thead th {\n",
       "        text-align: right;\n",
       "    }\n",
       "</style>\n",
       "<table border=\"1\" class=\"dataframe\">\n",
       "  <thead>\n",
       "    <tr style=\"text-align: right;\">\n",
       "      <th></th>\n",
       "      <th>vifScore</th>\n",
       "    </tr>\n",
       "  </thead>\n",
       "  <tbody>\n",
       "    <tr>\n",
       "      <th>education_tertiary</th>\n",
       "      <td>inf</td>\n",
       "    </tr>\n",
       "    <tr>\n",
       "      <th>education_unknown</th>\n",
       "      <td>inf</td>\n",
       "    </tr>\n",
       "    <tr>\n",
       "      <th>poutcome_success</th>\n",
       "      <td>inf</td>\n",
       "    </tr>\n",
       "    <tr>\n",
       "      <th>poutcome_other</th>\n",
       "      <td>inf</td>\n",
       "    </tr>\n",
       "    <tr>\n",
       "      <th>poutcome_failure</th>\n",
       "      <td>inf</td>\n",
       "    </tr>\n",
       "    <tr>\n",
       "      <th>contact_unknown</th>\n",
       "      <td>inf</td>\n",
       "    </tr>\n",
       "    <tr>\n",
       "      <th>contact_telephone</th>\n",
       "      <td>inf</td>\n",
       "    </tr>\n",
       "    <tr>\n",
       "      <th>contact_cellular</th>\n",
       "      <td>inf</td>\n",
       "    </tr>\n",
       "    <tr>\n",
       "      <th>loan_yes</th>\n",
       "      <td>inf</td>\n",
       "    </tr>\n",
       "    <tr>\n",
       "      <th>loan_no</th>\n",
       "      <td>inf</td>\n",
       "    </tr>\n",
       "    <tr>\n",
       "      <th>housing_yes</th>\n",
       "      <td>inf</td>\n",
       "    </tr>\n",
       "    <tr>\n",
       "      <th>housing_no</th>\n",
       "      <td>inf</td>\n",
       "    </tr>\n",
       "    <tr>\n",
       "      <th>default_yes</th>\n",
       "      <td>inf</td>\n",
       "    </tr>\n",
       "    <tr>\n",
       "      <th>default_no</th>\n",
       "      <td>inf</td>\n",
       "    </tr>\n",
       "    <tr>\n",
       "      <th>poutcome_unknown</th>\n",
       "      <td>inf</td>\n",
       "    </tr>\n",
       "    <tr>\n",
       "      <th>education_secondary</th>\n",
       "      <td>inf</td>\n",
       "    </tr>\n",
       "    <tr>\n",
       "      <th>education_primary</th>\n",
       "      <td>inf</td>\n",
       "    </tr>\n",
       "    <tr>\n",
       "      <th>marital_single</th>\n",
       "      <td>inf</td>\n",
       "    </tr>\n",
       "    <tr>\n",
       "      <th>marital_married</th>\n",
       "      <td>inf</td>\n",
       "    </tr>\n",
       "    <tr>\n",
       "      <th>marital_divorced</th>\n",
       "      <td>inf</td>\n",
       "    </tr>\n",
       "    <tr>\n",
       "      <th>pdays</th>\n",
       "      <td>4.486074</td>\n",
       "    </tr>\n",
       "    <tr>\n",
       "      <th>previous</th>\n",
       "      <td>1.412760</td>\n",
       "    </tr>\n",
       "    <tr>\n",
       "      <th>age</th>\n",
       "      <td>1.381337</td>\n",
       "    </tr>\n",
       "    <tr>\n",
       "      <th>month</th>\n",
       "      <td>1.258512</td>\n",
       "    </tr>\n",
       "    <tr>\n",
       "      <th>job</th>\n",
       "      <td>1.069644</td>\n",
       "    </tr>\n",
       "    <tr>\n",
       "      <th>campaign</th>\n",
       "      <td>1.063161</td>\n",
       "    </tr>\n",
       "    <tr>\n",
       "      <th>day</th>\n",
       "      <td>1.040556</td>\n",
       "    </tr>\n",
       "    <tr>\n",
       "      <th>balance</th>\n",
       "      <td>1.036724</td>\n",
       "    </tr>\n",
       "    <tr>\n",
       "      <th>duration</th>\n",
       "      <td>1.011495</td>\n",
       "    </tr>\n",
       "    <tr>\n",
       "      <th>const</th>\n",
       "      <td>0.000000</td>\n",
       "    </tr>\n",
       "  </tbody>\n",
       "</table>\n",
       "</div>"
      ],
      "text/plain": [
       "                     vifScore\n",
       "education_tertiary        inf\n",
       "education_unknown         inf\n",
       "poutcome_success          inf\n",
       "poutcome_other            inf\n",
       "poutcome_failure          inf\n",
       "contact_unknown           inf\n",
       "contact_telephone         inf\n",
       "contact_cellular          inf\n",
       "loan_yes                  inf\n",
       "loan_no                   inf\n",
       "housing_yes               inf\n",
       "housing_no                inf\n",
       "default_yes               inf\n",
       "default_no                inf\n",
       "poutcome_unknown          inf\n",
       "education_secondary       inf\n",
       "education_primary         inf\n",
       "marital_single            inf\n",
       "marital_married           inf\n",
       "marital_divorced          inf\n",
       "pdays                4.486074\n",
       "previous             1.412760\n",
       "age                  1.381337\n",
       "month                1.258512\n",
       "job                  1.069644\n",
       "campaign             1.063161\n",
       "day                  1.040556\n",
       "balance              1.036724\n",
       "duration             1.011495\n",
       "const                0.000000"
      ]
     },
     "execution_count": 60,
     "metadata": {},
     "output_type": "execute_result"
    }
   ],
   "source": [
    "pd.DataFrame(vif,index = X.columns,columns=['vifScore']).sort_values(by='vifScore',ascending=False)"
   ]
  },
  {
   "cell_type": "markdown",
   "id": "436a16fa",
   "metadata": {},
   "source": [
    "# Approach1"
   ]
  },
  {
   "cell_type": "code",
   "execution_count": 61,
   "id": "9a6f256c",
   "metadata": {},
   "outputs": [
    {
     "data": {
      "text/html": [
       "<div>\n",
       "<style scoped>\n",
       "    .dataframe tbody tr th:only-of-type {\n",
       "        vertical-align: middle;\n",
       "    }\n",
       "\n",
       "    .dataframe tbody tr th {\n",
       "        vertical-align: top;\n",
       "    }\n",
       "\n",
       "    .dataframe thead th {\n",
       "        text-align: right;\n",
       "    }\n",
       "</style>\n",
       "<table border=\"1\" class=\"dataframe\">\n",
       "  <thead>\n",
       "    <tr style=\"text-align: right;\">\n",
       "      <th></th>\n",
       "      <th>age</th>\n",
       "      <th>job</th>\n",
       "      <th>balance</th>\n",
       "      <th>day</th>\n",
       "      <th>month</th>\n",
       "      <th>duration</th>\n",
       "      <th>campaign</th>\n",
       "      <th>pdays</th>\n",
       "      <th>previous</th>\n",
       "      <th>y</th>\n",
       "      <th>...</th>\n",
       "      <th>housing_yes</th>\n",
       "      <th>loan_no</th>\n",
       "      <th>loan_yes</th>\n",
       "      <th>contact_cellular</th>\n",
       "      <th>contact_telephone</th>\n",
       "      <th>contact_unknown</th>\n",
       "      <th>poutcome_failure</th>\n",
       "      <th>poutcome_other</th>\n",
       "      <th>poutcome_success</th>\n",
       "      <th>poutcome_unknown</th>\n",
       "    </tr>\n",
       "  </thead>\n",
       "  <tbody>\n",
       "    <tr>\n",
       "      <th>0</th>\n",
       "      <td>0.288732</td>\n",
       "      <td>9</td>\n",
       "      <td>-0.437890</td>\n",
       "      <td>-1.298515</td>\n",
       "      <td>8</td>\n",
       "      <td>-0.416122</td>\n",
       "      <td>-0.569359</td>\n",
       "      <td>-0.411458</td>\n",
       "      <td>-0.251943</td>\n",
       "      <td>0</td>\n",
       "      <td>...</td>\n",
       "      <td>1.0</td>\n",
       "      <td>1.0</td>\n",
       "      <td>0.0</td>\n",
       "      <td>0.0</td>\n",
       "      <td>0.0</td>\n",
       "      <td>1.0</td>\n",
       "      <td>0.0</td>\n",
       "      <td>0.0</td>\n",
       "      <td>0.0</td>\n",
       "      <td>1.0</td>\n",
       "    </tr>\n",
       "    <tr>\n",
       "      <th>1</th>\n",
       "      <td>-0.746869</td>\n",
       "      <td>2</td>\n",
       "      <td>-0.446758</td>\n",
       "      <td>-1.298515</td>\n",
       "      <td>8</td>\n",
       "      <td>-0.707353</td>\n",
       "      <td>-0.569359</td>\n",
       "      <td>-0.411458</td>\n",
       "      <td>-0.251943</td>\n",
       "      <td>0</td>\n",
       "      <td>...</td>\n",
       "      <td>1.0</td>\n",
       "      <td>0.0</td>\n",
       "      <td>1.0</td>\n",
       "      <td>0.0</td>\n",
       "      <td>0.0</td>\n",
       "      <td>1.0</td>\n",
       "      <td>0.0</td>\n",
       "      <td>0.0</td>\n",
       "      <td>0.0</td>\n",
       "      <td>1.0</td>\n",
       "    </tr>\n",
       "    <tr>\n",
       "      <th>2</th>\n",
       "      <td>0.571168</td>\n",
       "      <td>1</td>\n",
       "      <td>0.047206</td>\n",
       "      <td>-1.298515</td>\n",
       "      <td>8</td>\n",
       "      <td>-0.645224</td>\n",
       "      <td>-0.569359</td>\n",
       "      <td>-0.411458</td>\n",
       "      <td>-0.251943</td>\n",
       "      <td>0</td>\n",
       "      <td>...</td>\n",
       "      <td>1.0</td>\n",
       "      <td>1.0</td>\n",
       "      <td>0.0</td>\n",
       "      <td>0.0</td>\n",
       "      <td>0.0</td>\n",
       "      <td>1.0</td>\n",
       "      <td>0.0</td>\n",
       "      <td>0.0</td>\n",
       "      <td>0.0</td>\n",
       "      <td>1.0</td>\n",
       "    </tr>\n",
       "    <tr>\n",
       "      <th>3</th>\n",
       "      <td>-0.746869</td>\n",
       "      <td>11</td>\n",
       "      <td>-0.447086</td>\n",
       "      <td>-1.298515</td>\n",
       "      <td>8</td>\n",
       "      <td>-0.233618</td>\n",
       "      <td>-0.569359</td>\n",
       "      <td>-0.411458</td>\n",
       "      <td>-0.251943</td>\n",
       "      <td>0</td>\n",
       "      <td>...</td>\n",
       "      <td>0.0</td>\n",
       "      <td>1.0</td>\n",
       "      <td>0.0</td>\n",
       "      <td>0.0</td>\n",
       "      <td>0.0</td>\n",
       "      <td>1.0</td>\n",
       "      <td>0.0</td>\n",
       "      <td>0.0</td>\n",
       "      <td>0.0</td>\n",
       "      <td>1.0</td>\n",
       "    </tr>\n",
       "    <tr>\n",
       "      <th>4</th>\n",
       "      <td>-0.558578</td>\n",
       "      <td>4</td>\n",
       "      <td>-0.371546</td>\n",
       "      <td>-1.298515</td>\n",
       "      <td>8</td>\n",
       "      <td>-0.462719</td>\n",
       "      <td>-0.569359</td>\n",
       "      <td>-0.411458</td>\n",
       "      <td>-0.251943</td>\n",
       "      <td>0</td>\n",
       "      <td>...</td>\n",
       "      <td>1.0</td>\n",
       "      <td>1.0</td>\n",
       "      <td>0.0</td>\n",
       "      <td>0.0</td>\n",
       "      <td>0.0</td>\n",
       "      <td>1.0</td>\n",
       "      <td>0.0</td>\n",
       "      <td>0.0</td>\n",
       "      <td>0.0</td>\n",
       "      <td>1.0</td>\n",
       "    </tr>\n",
       "  </tbody>\n",
       "</table>\n",
       "<p>5 rows × 30 columns</p>\n",
       "</div>"
      ],
      "text/plain": [
       "        age  job   balance       day  month  duration  campaign     pdays  \\\n",
       "0  0.288732    9 -0.437890 -1.298515      8 -0.416122 -0.569359 -0.411458   \n",
       "1 -0.746869    2 -0.446758 -1.298515      8 -0.707353 -0.569359 -0.411458   \n",
       "2  0.571168    1  0.047206 -1.298515      8 -0.645224 -0.569359 -0.411458   \n",
       "3 -0.746869   11 -0.447086 -1.298515      8 -0.233618 -0.569359 -0.411458   \n",
       "4 -0.558578    4 -0.371546 -1.298515      8 -0.462719 -0.569359 -0.411458   \n",
       "\n",
       "   previous  y  ...  housing_yes  loan_no  loan_yes  contact_cellular  \\\n",
       "0 -0.251943  0  ...          1.0      1.0       0.0               0.0   \n",
       "1 -0.251943  0  ...          1.0      0.0       1.0               0.0   \n",
       "2 -0.251943  0  ...          1.0      1.0       0.0               0.0   \n",
       "3 -0.251943  0  ...          0.0      1.0       0.0               0.0   \n",
       "4 -0.251943  0  ...          1.0      1.0       0.0               0.0   \n",
       "\n",
       "   contact_telephone  contact_unknown  poutcome_failure  poutcome_other  \\\n",
       "0                0.0              1.0               0.0             0.0   \n",
       "1                0.0              1.0               0.0             0.0   \n",
       "2                0.0              1.0               0.0             0.0   \n",
       "3                0.0              1.0               0.0             0.0   \n",
       "4                0.0              1.0               0.0             0.0   \n",
       "\n",
       "   poutcome_success  poutcome_unknown  \n",
       "0               0.0               1.0  \n",
       "1               0.0               1.0  \n",
       "2               0.0               1.0  \n",
       "3               0.0               1.0  \n",
       "4               0.0               1.0  \n",
       "\n",
       "[5 rows x 30 columns]"
      ]
     },
     "execution_count": 61,
     "metadata": {},
     "output_type": "execute_result"
    }
   ],
   "source": [
    "df_merged.head()"
   ]
  },
  {
   "cell_type": "code",
   "execution_count": 62,
   "id": "2430fec1",
   "metadata": {},
   "outputs": [
    {
     "data": {
      "text/plain": [
       "['age', 'balance', 'day', 'duration', 'campaign', 'pdays', 'previous']"
      ]
     },
     "execution_count": 62,
     "metadata": {},
     "output_type": "execute_result"
    }
   ],
   "source": [
    "num_list"
   ]
  },
  {
   "cell_type": "code",
   "execution_count": 63,
   "id": "e2dcbaa1",
   "metadata": {},
   "outputs": [],
   "source": [
    "def OutlierRemoval(col, data): # function to remove outliers, it returns boolean vector\n",
    "        Q1 = np.percentile(data[col], 25,\n",
    "                           interpolation = 'midpoint')\n",
    "\n",
    "        Q3 = np.percentile(data[col], 75,\n",
    "                           interpolation = 'midpoint')\n",
    "        IQR = Q3 - Q1\n",
    "\n",
    "        # Upper bound\n",
    "        upper=Q3+2*IQR\n",
    "        upper_array=np.array(data[col]>=upper)\n",
    "        # Lower bound\n",
    "        lower=Q1-2*IQR\n",
    "        lower_array=np.array(data[col]<=lower)\n",
    "        boolean = list(map(lambda x,y:  False if (x== True or y == True) else True, upper_array, lower_array))\n",
    "        return boolean"
   ]
  },
  {
   "cell_type": "code",
   "execution_count": 66,
   "id": "75bff839",
   "metadata": {},
   "outputs": [
    {
     "name": "stdout",
     "output_type": "stream",
     "text": [
      "age (45022, 30)\n",
      "job (45022, 30)\n",
      "balance (41293, 30)\n",
      "day (41293, 30)\n",
      "month (41293, 30)\n",
      "duration (39239, 30)\n"
     ]
    }
   ],
   "source": [
    "toTrain =df_merged.copy() # copying the scaled and converted data\n",
    "for col in ['age',\n",
    " 'job',\n",
    " 'balance',\n",
    " 'day',\n",
    " 'month',\n",
    " 'duration']:\n",
    "    toTrain = toTrain[OutlierRemoval(col,toTrain)]\n",
    "    print(col, toTrain.shape)"
   ]
  },
  {
   "cell_type": "code",
   "execution_count": 67,
   "id": "2e0ce4f6",
   "metadata": {},
   "outputs": [
    {
     "data": {
      "text/plain": [
       "0    0.910064\n",
       "1    0.089936\n",
       "Name: y, dtype: float64"
      ]
     },
     "execution_count": 67,
     "metadata": {},
     "output_type": "execute_result"
    }
   ],
   "source": [
    "toTrain['y'].value_counts()/len(toTrain) # checking balancing of the data "
   ]
  },
  {
   "cell_type": "code",
   "execution_count": 72,
   "id": "1fa5c93c",
   "metadata": {},
   "outputs": [
    {
     "name": "stdout",
     "output_type": "stream",
     "text": [
      "X_train's shape (8469, 29)\n",
      "X test's shape' (2118, 29)\n",
      "y_train's shape (8469,)\n",
      "y_test's shape (2118,)\n",
      "class representation in training data after undersampling 0    0.666903\n",
      "1    0.333097\n",
      "Name: y, dtype: float64\n",
      "class representation in training data after undersampling 0    0.665722\n",
      "1    0.334278\n",
      "Name: y, dtype: float64\n"
     ]
    }
   ],
   "source": [
    "\n",
    "X= toTrain.drop('y',axis =1)\n",
    "y = toTrain['y']\n",
    "under = RandomUnderSampler(sampling_strategy=0.5) # applying undersampling technique to balance the target classes\n",
    "X, y = under.fit_resample(X, y)\n",
    "X_train, X_test, y_train, y_test = train_test_split(  X, y, \n",
    "                                        test_size=0.2, random_state=42) # splitting the data in ratio 80:20\n",
    "\n",
    "print(\"X_train's shape\",X_train.shape)\n",
    "print(\"X test's shape'\",X_test.shape)\n",
    "print(\"y_train's shape\",y_train.shape)\n",
    "print(\"y_test's shape\",y_test.shape)\n",
    "\n",
    "print('class representation in training data after undersampling',y_train.value_counts()/len(y_train))\n",
    "print('class representation in training data after undersampling',y_test.value_counts()/len(y_test))"
   ]
  },
  {
   "cell_type": "code",
   "execution_count": 73,
   "id": "856cf160",
   "metadata": {},
   "outputs": [
    {
     "name": "stdout",
     "output_type": "stream",
     "text": [
      "Logistic Regression Model\n",
      "test score 0.8144475920679887\n",
      "train score 0.8180422718148542\n",
      "test classification               precision    recall  f1-score   support\n",
      "\n",
      "           0    0.84428   0.88440   0.86387      1410\n",
      "           1    0.74571   0.67514   0.70867       708\n",
      "\n",
      "    accuracy                        0.81445      2118\n",
      "   macro avg    0.79499   0.77977   0.78627      2118\n",
      "weighted avg    0.81133   0.81445   0.81199      2118\n",
      "\n",
      "train classification               precision    recall  f1-score   support\n",
      "\n",
      "           0    0.83937   0.89926   0.86828      5648\n",
      "           1    0.76468   0.65544   0.70586      2821\n",
      "\n",
      "    accuracy                        0.81804      8469\n",
      "   macro avg    0.80202   0.77735   0.78707      8469\n",
      "weighted avg    0.81449   0.81804   0.81418      8469\n",
      "\n"
     ]
    }
   ],
   "source": [
    "# Building logistic model \n",
    "model_logistic = LogisticRegression(max_iter=500)\n",
    "model_logistic.fit(X_train, y_train)\n",
    "print('Logistic Regression Model')\n",
    "print('test score',model_logistic.score(X_test, y_test))\n",
    "print('train score',model_logistic.score(X_train, y_train))\n",
    "print('test classification',metrics.classification_report(y_test,model_logistic.predict(X_test),digits=5))\n",
    "print('train classification',metrics.classification_report(y_train, model_logistic.predict(X_train),digits=5))"
   ]
  },
  {
   "cell_type": "code",
   "execution_count": 74,
   "id": "58c42072",
   "metadata": {},
   "outputs": [
    {
     "name": "stdout",
     "output_type": "stream",
     "text": [
      "Warning: Maximum number of iterations has been exceeded.\n",
      "         Current function value: 0.395147\n",
      "         Iterations: 35\n",
      "                           Logit Regression Results                           \n",
      "==============================================================================\n",
      "Dep. Variable:                      y   No. Observations:                10587\n",
      "Model:                          Logit   Df Residuals:                    10567\n",
      "Method:                           MLE   Df Model:                           19\n",
      "Date:                Fri, 14 Apr 2023   Pseudo R-squ.:                  0.3792\n",
      "Time:                        10:33:52   Log-Likelihood:                -4183.4\n",
      "converged:                      False   LL-Null:                       -6738.8\n",
      "Covariance Type:            nonrobust   LLR p-value:                     0.000\n",
      "=======================================================================================\n",
      "                          coef    std err          z      P>|z|      [0.025      0.975]\n",
      "---------------------------------------------------------------------------------------\n",
      "age                     0.0649      0.031      2.109      0.035       0.005       0.125\n",
      "balance                 0.5620      0.084      6.693      0.000       0.397       0.727\n",
      "day                    -0.0940      0.027     -3.462      0.001      -0.147      -0.041\n",
      "month                   0.0299      0.009      3.388      0.001       0.013       0.047\n",
      "duration                1.8093      0.045     40.397      0.000       1.722       1.897\n",
      "campaign               -0.4997      0.051     -9.762      0.000      -0.600      -0.399\n",
      "marital_divorced       -0.1764    3.4e+06   -5.2e-08      1.000   -6.65e+06    6.65e+06\n",
      "marital_married        -0.2883   3.33e+06  -8.65e-08      1.000   -6.53e+06    6.53e+06\n",
      "marital_single          0.0990   3.53e+06   2.81e-08      1.000   -6.92e+06    6.92e+06\n",
      "education_primary      -0.5807        nan        nan        nan         nan         nan\n",
      "education_secondary    -0.1078        nan        nan        nan         nan         nan\n",
      "education_tertiary      0.1646        nan        nan        nan         nan         nan\n",
      "education_unknown       0.1583        nan        nan        nan         nan         nan\n",
      "default_no             -0.0438        nan        nan        nan         nan         nan\n",
      "default_yes            -0.3219        nan        nan        nan         nan         nan\n",
      "housing_no              0.3637        nan        nan        nan         nan         nan\n",
      "housing_yes            -0.7294        nan        nan        nan         nan         nan\n",
      "loan_no                 0.2076   2.26e+06   9.17e-08      1.000   -4.44e+06    4.44e+06\n",
      "loan_yes               -0.5733   2.35e+06  -2.44e-07      1.000   -4.61e+06    4.61e+06\n",
      "contact_cellular        0.3239        nan        nan        nan         nan         nan\n",
      "contact_telephone       0.4455        nan        nan        nan         nan         nan\n",
      "contact_unknown        -1.1351        nan        nan        nan         nan         nan\n",
      "poutcome_failure       -0.6767   9.93e+05  -6.82e-07      1.000   -1.95e+06    1.95e+06\n",
      "poutcome_other         -0.2841   9.93e+05  -2.86e-07      1.000   -1.95e+06    1.95e+06\n",
      "poutcome_success        1.7280   9.93e+05   1.74e-06      1.000   -1.95e+06    1.95e+06\n",
      "poutcome_unknown       -1.1329   9.93e+05  -1.14e-06      1.000   -1.95e+06    1.95e+06\n",
      "=======================================================================================\n",
      "8406.839446473648\n"
     ]
    },
    {
     "name": "stderr",
     "output_type": "stream",
     "text": [
      "C:\\Users\\rishw\\anaconda3\\lib\\site-packages\\statsmodels\\base\\model.py:604: ConvergenceWarning: Maximum Likelihood optimization failed to converge. Check mle_retvals\n",
      "  warnings.warn(\"Maximum Likelihood optimization failed to \"\n"
     ]
    }
   ],
   "source": [
    "logreg = sm.Logit(y, X.drop(columns=['job','pdays','previous'],axis =1), check_rank=True).fit()\n",
    "print(logreg.summary())\n",
    "print(logreg.aic)"
   ]
  },
  {
   "cell_type": "markdown",
   "id": "94fa1a0a",
   "metadata": {},
   "source": [
    "### Applying smote to generate data synthetically in order to balance the classes"
   ]
  },
  {
   "cell_type": "code",
   "execution_count": 75,
   "id": "86440402",
   "metadata": {},
   "outputs": [
    {
     "name": "stdout",
     "output_type": "stream",
     "text": [
      "X_train's shape (57136, 26)\n",
      "X test's shape' (14284, 26)\n",
      "y_train's shape (57136,)\n",
      "y_test's shape (14284,)\n",
      "train value count for the target variables 1    0.500525\n",
      "0    0.499475\n",
      "Name: y, dtype: float64\n",
      "test value count for the target variables 0    0.5021\n",
      "1    0.4979\n",
      "Name: y, dtype: float64\n",
      "Logistic Regression Model\n",
      "test score 0.8186082329879586\n",
      "train score 0.8226337160459255\n",
      "test classification               precision    recall  f1-score   support\n",
      "\n",
      "           0    0.82048   0.81762   0.81905      7172\n",
      "           1    0.81673   0.81960   0.81816      7112\n",
      "\n",
      "    accuracy                        0.81861     14284\n",
      "   macro avg    0.81861   0.81861   0.81861     14284\n",
      "weighted avg    0.81861   0.81861   0.81861     14284\n",
      "\n",
      "train classification               precision    recall  f1-score   support\n",
      "\n",
      "           0    0.82261   0.82220   0.82240     28538\n",
      "           1    0.82266   0.82306   0.82286     28598\n",
      "\n",
      "    accuracy                        0.82263     57136\n",
      "   macro avg    0.82263   0.82263   0.82263     57136\n",
      "weighted avg    0.82263   0.82263   0.82263     57136\n",
      "\n"
     ]
    }
   ],
   "source": [
    "# removing job, pdays and previous featues as these are not significant features (known from the wald' test)\n",
    "X= toTrain.drop(['job','pdays','previous','y'],axis =1)\n",
    "y = toTrain['y']\n",
    "smote = SMOTE(random_state=42) # over sampling technique\n",
    "X, y = smote.fit_resample(X, y)\n",
    "X_train, X_test, y_train, y_test = train_test_split(  X, y, \n",
    "                                        test_size=0.2, random_state=42) # splitting the data in ratio 80:20\n",
    "\n",
    "print(\"X_train's shape\",X_train.shape)\n",
    "print(\"X test's shape'\",X_test.shape)\n",
    "print(\"y_train's shape\",y_train.shape)\n",
    "print(\"y_test's shape\",y_test.shape)\n",
    "\n",
    "print('train value count for the target variables',y_train.value_counts()/len(y_train))\n",
    "print('test value count for the target variables',y_test.value_counts()/len(y_test))\n",
    "\n",
    "# Building logistic model \n",
    "model_logistic = LogisticRegression(max_iter=500)\n",
    "model_logistic.fit(X_train, y_train)\n",
    "print('Logistic Regression Model')\n",
    "print('test score',model_logistic.score(X_test, y_test))\n",
    "print('train score',model_logistic.score(X_train, y_train))\n",
    "print('test classification',metrics.classification_report(y_test,model_logistic.predict(X_test),digits=5))\n",
    "print('train classification',metrics.classification_report(y_train, model_logistic.predict(X_train),digits=5))"
   ]
  },
  {
   "cell_type": "markdown",
   "id": "7b2aaf8d",
   "metadata": {},
   "source": [
    "# Approach2"
   ]
  },
  {
   "cell_type": "code",
   "execution_count": 81,
   "id": "87799cb9",
   "metadata": {},
   "outputs": [
    {
     "data": {
      "text/html": [
       "<div>\n",
       "<style scoped>\n",
       "    .dataframe tbody tr th:only-of-type {\n",
       "        vertical-align: middle;\n",
       "    }\n",
       "\n",
       "    .dataframe tbody tr th {\n",
       "        vertical-align: top;\n",
       "    }\n",
       "\n",
       "    .dataframe thead th {\n",
       "        text-align: right;\n",
       "    }\n",
       "</style>\n",
       "<table border=\"1\" class=\"dataframe\">\n",
       "  <thead>\n",
       "    <tr style=\"text-align: right;\">\n",
       "      <th></th>\n",
       "      <th>age</th>\n",
       "      <th>job</th>\n",
       "      <th>marital</th>\n",
       "      <th>education</th>\n",
       "      <th>default</th>\n",
       "      <th>balance</th>\n",
       "      <th>housing</th>\n",
       "      <th>loan</th>\n",
       "      <th>contact</th>\n",
       "      <th>day</th>\n",
       "      <th>month</th>\n",
       "      <th>duration</th>\n",
       "      <th>campaign</th>\n",
       "      <th>pdays</th>\n",
       "      <th>previous</th>\n",
       "      <th>poutcome</th>\n",
       "      <th>y</th>\n",
       "    </tr>\n",
       "  </thead>\n",
       "  <tbody>\n",
       "    <tr>\n",
       "      <th>0</th>\n",
       "      <td>44.0</td>\n",
       "      <td>technician</td>\n",
       "      <td>single</td>\n",
       "      <td>secondary</td>\n",
       "      <td>no</td>\n",
       "      <td>29.0</td>\n",
       "      <td>yes</td>\n",
       "      <td>no</td>\n",
       "      <td>unknown</td>\n",
       "      <td>5</td>\n",
       "      <td>may</td>\n",
       "      <td>151</td>\n",
       "      <td>1</td>\n",
       "      <td>-1</td>\n",
       "      <td>0</td>\n",
       "      <td>unknown</td>\n",
       "      <td>0</td>\n",
       "    </tr>\n",
       "    <tr>\n",
       "      <th>1</th>\n",
       "      <td>33.0</td>\n",
       "      <td>entrepreneur</td>\n",
       "      <td>married</td>\n",
       "      <td>secondary</td>\n",
       "      <td>no</td>\n",
       "      <td>2.0</td>\n",
       "      <td>yes</td>\n",
       "      <td>yes</td>\n",
       "      <td>unknown</td>\n",
       "      <td>5</td>\n",
       "      <td>may</td>\n",
       "      <td>76</td>\n",
       "      <td>1</td>\n",
       "      <td>-1</td>\n",
       "      <td>0</td>\n",
       "      <td>unknown</td>\n",
       "      <td>0</td>\n",
       "    </tr>\n",
       "    <tr>\n",
       "      <th>2</th>\n",
       "      <td>47.0</td>\n",
       "      <td>blue-collar</td>\n",
       "      <td>married</td>\n",
       "      <td>unknown</td>\n",
       "      <td>no</td>\n",
       "      <td>1506.0</td>\n",
       "      <td>yes</td>\n",
       "      <td>no</td>\n",
       "      <td>unknown</td>\n",
       "      <td>5</td>\n",
       "      <td>may</td>\n",
       "      <td>92</td>\n",
       "      <td>1</td>\n",
       "      <td>-1</td>\n",
       "      <td>0</td>\n",
       "      <td>unknown</td>\n",
       "      <td>0</td>\n",
       "    </tr>\n",
       "    <tr>\n",
       "      <th>3</th>\n",
       "      <td>33.0</td>\n",
       "      <td>unknown</td>\n",
       "      <td>single</td>\n",
       "      <td>unknown</td>\n",
       "      <td>no</td>\n",
       "      <td>1.0</td>\n",
       "      <td>no</td>\n",
       "      <td>no</td>\n",
       "      <td>unknown</td>\n",
       "      <td>5</td>\n",
       "      <td>may</td>\n",
       "      <td>198</td>\n",
       "      <td>1</td>\n",
       "      <td>-1</td>\n",
       "      <td>0</td>\n",
       "      <td>unknown</td>\n",
       "      <td>0</td>\n",
       "    </tr>\n",
       "    <tr>\n",
       "      <th>4</th>\n",
       "      <td>35.0</td>\n",
       "      <td>management</td>\n",
       "      <td>married</td>\n",
       "      <td>tertiary</td>\n",
       "      <td>no</td>\n",
       "      <td>231.0</td>\n",
       "      <td>yes</td>\n",
       "      <td>no</td>\n",
       "      <td>unknown</td>\n",
       "      <td>5</td>\n",
       "      <td>may</td>\n",
       "      <td>139</td>\n",
       "      <td>1</td>\n",
       "      <td>-1</td>\n",
       "      <td>0</td>\n",
       "      <td>unknown</td>\n",
       "      <td>0</td>\n",
       "    </tr>\n",
       "  </tbody>\n",
       "</table>\n",
       "</div>"
      ],
      "text/plain": [
       "    age           job  marital  education default  balance housing loan  \\\n",
       "0  44.0    technician   single  secondary      no     29.0     yes   no   \n",
       "1  33.0  entrepreneur  married  secondary      no      2.0     yes  yes   \n",
       "2  47.0   blue-collar  married    unknown      no   1506.0     yes   no   \n",
       "3  33.0       unknown   single    unknown      no      1.0      no   no   \n",
       "4  35.0    management  married   tertiary      no    231.0     yes   no   \n",
       "\n",
       "   contact  day month  duration  campaign  pdays  previous poutcome  y  \n",
       "0  unknown    5   may       151         1     -1         0  unknown  0  \n",
       "1  unknown    5   may        76         1     -1         0  unknown  0  \n",
       "2  unknown    5   may        92         1     -1         0  unknown  0  \n",
       "3  unknown    5   may       198         1     -1         0  unknown  0  \n",
       "4  unknown    5   may       139         1     -1         0  unknown  0  "
      ]
     },
     "execution_count": 81,
     "metadata": {},
     "output_type": "execute_result"
    }
   ],
   "source": [
    "dataModel2 = data.copy()\n",
    "try:\n",
    "    dataModel2.drop(columns =['Id'],axis =1 , inplace=True)\n",
    "except:\n",
    "    pass\n",
    "dataModel2.head()"
   ]
  },
  {
   "cell_type": "code",
   "execution_count": 85,
   "id": "75ca5433",
   "metadata": {},
   "outputs": [],
   "source": [
    "def Processing(data):\n",
    "    # remove id columns as it it not required\n",
    "    y = data['y']\n",
    "    try:\n",
    "        data.drop(columns =['Id','y'],axis =1 , inplace=True)\n",
    "    except:\n",
    "        pass\n",
    "\n",
    "    #print(data.columns)\n",
    "    # getting column names for the \n",
    "    num_col = list(data.select_dtypes(exclude=object).columns)\n",
    "    cat_col = list(list(data.select_dtypes(include=object).columns))\n",
    "    # numerica column transformation\n",
    "    scaler =MinMaxScaler()\n",
    "    X_scaled = scaler.fit_transform(data[num_col])\n",
    "    df_scaled_num = pd.DataFrame(X_scaled, columns= scaler.get_feature_names_out())\n",
    "    \n",
    "    # cat_col transformation\n",
    "    oneHOtTransformer = OneHotEncoder(drop='first',sparse=False)\n",
    "    X_cat = oneHOtTransformer.fit_transform(data[cat_col])\n",
    "    df_cat = pd.DataFrame(X_cat, columns= oneHOtTransformer.get_feature_names_out())\n",
    "    # concat numerical and categorical columns\n",
    "    df_combine = pd.concat( [df_scaled_num,df_cat],axis =1)\n",
    "    # deleting some variables to free the cache memory as there variable will not be used be further\n",
    "    del num_col, cat_col, X_scaled, df_scaled_num, df_cat, X_cat\n",
    "    return (df_combine, y) # return X data Frame and target variable as tuple"
   ]
  },
  {
   "cell_type": "code",
   "execution_count": 86,
   "id": "4720074c",
   "metadata": {},
   "outputs": [],
   "source": [
    "X2,y2= Processing(dataModel2)"
   ]
  },
  {
   "cell_type": "code",
   "execution_count": 87,
   "id": "710549e7",
   "metadata": {},
   "outputs": [],
   "source": [
    "try :\n",
    "    X2.drop('y', axis=1,inplace =True)\n",
    "except:\n",
    "    pass"
   ]
  },
  {
   "cell_type": "code",
   "execution_count": 94,
   "id": "0c11287e",
   "metadata": {},
   "outputs": [
    {
     "name": "stdout",
     "output_type": "stream",
     "text": [
      "Logistic regression without class balance train score: 0.902542093100033 test score: 0.8989276139410187\n",
      "              precision    recall  f1-score   support\n",
      "\n",
      "           0    0.97778   0.91353   0.94456     14063\n",
      "           1    0.31724   0.65928   0.42835       857\n",
      "\n",
      "    accuracy                        0.89893     14920\n",
      "   macro avg    0.64751   0.78640   0.68646     14920\n",
      "weighted avg    0.93983   0.89893   0.91491     14920\n",
      "\n"
     ]
    }
   ],
   "source": [
    "X_train2, X_test2, y_train2, y_test2 = train_test_split(\n",
    "...     X2, y2, test_size=0.33, random_state=42)\n",
    "\n",
    "model_logistic = LogisticRegression(max_iter= 500)\n",
    "model_logistic.fit(X_train2,y_train2)\n",
    "\n",
    "\n",
    "print('Logistic regression without class balance',\n",
    "      'train score:',model_logistic.score(X_train2, y_train2),'test score:', model_logistic.score(X_test2,y_test2))\n",
    "\n",
    "prediction = model_logistic.predict(X_test2)\n",
    "print(classification_report(prediction, y_test2,digits=5))"
   ]
  },
  {
   "cell_type": "markdown",
   "id": "9bfeffd8",
   "metadata": {},
   "source": [
    "# Finding significant variables"
   ]
  },
  {
   "cell_type": "code",
   "execution_count": null,
   "id": "45d150aa",
   "metadata": {},
   "outputs": [],
   "source": [
    "from scipy import stats"
   ]
  },
  {
   "cell_type": "code",
   "execution_count": 95,
   "id": "ef04add2",
   "metadata": {},
   "outputs": [
    {
     "name": "stdout",
     "output_type": "stream",
     "text": [
      "job\n",
      "marital\n",
      "education\n",
      "default\n",
      "housing\n",
      "loan\n",
      "contact\n",
      "month\n",
      "poutcome\n"
     ]
    }
   ],
   "source": [
    "for col in data.select_dtypes(include=object):\n",
    "    print(col)"
   ]
  },
  {
   "cell_type": "code",
   "execution_count": 96,
   "id": "de20a338",
   "metadata": {},
   "outputs": [
    {
     "name": "stdout",
     "output_type": "stream",
     "text": [
      "job\n",
      "job  admin.  blue-collar  entrepreneur  housemaid  management  retired  \\\n",
      "y                                                                        \n",
      "0      4540         9024          1364       1131        8156     1748   \n",
      "1       631          708           123        109        1301      516   \n",
      "\n",
      "job  self-employed  services  student  technician  unemployed  unknown  \n",
      "y                                                                       \n",
      "0             1392      3785      669        6757        1101      254  \n",
      "1              187       369      269         840         202       34  \n",
      "marital\n",
      "marital  divorced  married  single\n",
      "y                                 \n",
      "0            4585    24458   10878\n",
      "1             622     2755    1912\n",
      "education\n",
      "education  primary  secondary  tertiary  unknown\n",
      "y                                               \n",
      "0             6260      20752     11304     1605\n",
      "1              591       2450      1996      252\n",
      "default\n",
      "default     no  yes\n",
      "y                  \n",
      "0        39158  763\n",
      "1         5237   52\n",
      "housing\n",
      "housing     no    yes\n",
      "y                    \n",
      "0        16727  23194\n",
      "1         3354   1935\n",
      "loan\n",
      "loan     no   yes\n",
      "y                \n",
      "0     33161  6760\n",
      "1      4805   484\n",
      "contact\n",
      "contact  cellular  telephone  unknown\n",
      "y                                    \n",
      "0           24916       2516    12489\n",
      "1            4369        390      530\n",
      "month\n",
      "month   apr   aug  dec   feb   jan   jul   jun  mar    may   nov  oct  sep\n",
      "y                                                                         \n",
      "0      2355  5559  114  2208  1261  6268  4795  229  12840  3567  415  310\n",
      "1       577   688  100   441   142   627   546  248    925   403  323  269\n",
      "poutcome\n",
      "poutcome  failure  other  success  unknown\n",
      "y                                         \n",
      "0            4283   1533      533    33572\n",
      "1             618    307      978     3386\n"
     ]
    }
   ],
   "source": [
    "# Hypothesis for the chi square association test \n",
    "# ho: There is no association\n",
    "# H1: There is a association \n",
    "\n",
    "list_associated=[]\n",
    "for col in data.select_dtypes(include=object):\n",
    "    print(col)\n",
    "    pd.crosstab(index = data['y'],columns=data[col])\n",
    "    print(pd.crosstab(index = data['y'],columns=data[col]))\n",
    "    # from above it is cleart that  none frequency is less than 5\n",
    "    # it means we can apply chi-square test to check weather predictor categorial variables are associated with target variables or not"
   ]
  },
  {
   "cell_type": "code",
   "execution_count": 97,
   "id": "7f23e3d0",
   "metadata": {},
   "outputs": [
    {
     "name": "stdout",
     "output_type": "stream",
     "text": [
      "job\n",
      "job 3.2803974785024804e-172\n",
      "marital\n",
      "marital 2.185198674532852e-43\n",
      "education\n",
      "education 1.562399673920906e-51\n",
      "default\n",
      "default 2.451601106314752e-06\n",
      "housing\n",
      "housing 3.0561190942330133e-192\n",
      "loan\n",
      "loan 1.6496460928175662e-47\n",
      "contact\n",
      "contact 1.3400284768797248e-225\n",
      "month\n",
      "month 0.0\n",
      "poutcome\n",
      "poutcome 0.0\n",
      "important ['job', 'marital', 'education', 'default', 'housing', 'loan', 'contact', 'month', 'poutcome']\n",
      "not important []\n"
     ]
    }
   ],
   "source": [
    "# Hypothesis for the chisquare test \n",
    "# H0: There is no association between predictor and target variable\n",
    "#H0: There is association between predictor and target variable\n",
    "significant_categorical = []\n",
    "not_significant_categorical = []\n",
    "for col in data.select_dtypes(include=object):\n",
    "    print(col)\n",
    "    toTest = pd.crosstab(index = data['y'],columns=data[col])\n",
    "    result = stats.chi2_contingency(toTest)\n",
    "    if result[1]<=0.05:\n",
    "        significant_categorical.append(col)\n",
    "        print(col,result[1])\n",
    "    else:\n",
    "        not_significant_categorical.append(col)\n",
    "print('important',significant_categorical)\n",
    "print('not important', not_significant_categorical)"
   ]
  },
  {
   "cell_type": "markdown",
   "id": "702e872e",
   "metadata": {},
   "source": [
    " p value of all the variables are almost zero , so reject null hypothesis, it means features like  job, marital status,\n",
    "education, defualt, housing and loan are all important"
   ]
  },
  {
   "cell_type": "code",
   "execution_count": null,
   "id": "12f91ad3",
   "metadata": {},
   "outputs": [],
   "source": [
    "# all categorical variables are significant"
   ]
  },
  {
   "cell_type": "code",
   "execution_count": 99,
   "id": "7f5d3d7f",
   "metadata": {},
   "outputs": [
    {
     "name": "stdout",
     "output_type": "stream",
     "text": [
      "0.9027731924727633 0.899597855227882\n",
      "              precision    recall  f1-score   support\n",
      "\n",
      "           0    0.97778   0.91418   0.94491     14053\n",
      "           1    0.32285   0.66321   0.43429       867\n",
      "\n",
      "    accuracy                        0.89960     14920\n",
      "   macro avg    0.65031   0.78869   0.68960     14920\n",
      "weighted avg    0.93972   0.89960   0.91524     14920\n",
      "\n"
     ]
    }
   ],
   "source": [
    "estimator = LogisticRegression(max_iter=500) # applying logistic regression with Recursive feature elimination\n",
    "selector = RFE(estimator, n_features_to_select=None, step=1)\n",
    "selector = selector.fit(X_train2, y_train2)\n",
    "selected_columns = list(selector.get_feature_names_out())\n",
    "model_logistic = LogisticRegression(max_iter= 500)\n",
    "model_logistic.fit(X_train2[selected_columns],y_train2)\n",
    "print(model_logistic.score(X_train2[selected_columns], y_train2),\n",
    "      model_logistic.score(X_test2[selected_columns],y_test2))\n",
    "\n",
    "prediction = model_logistic.predict(X_test2[selected_columns])\n",
    "print(classification_report(prediction, y_test2,digits=5))"
   ]
  },
  {
   "cell_type": "markdown",
   "id": "2b421dab",
   "metadata": {},
   "source": [
    "### Applying different algorithms"
   ]
  },
  {
   "cell_type": "code",
   "execution_count": 101,
   "id": "64b40be5",
   "metadata": {},
   "outputs": [],
   "source": [
    "from sklearn.tree import DecisionTreeClassifier\n",
    "from sklearn.neighbors import KNeighborsClassifier\n",
    "from sklearn.naive_bayes import GaussianNB, BernoulliNB, CategoricalNB\n",
    "from sklearn.ensemble import AdaBoostClassifier, GradientBoostingClassifier, RandomForestClassifier\n",
    "from sklearn.svm import SVC"
   ]
  },
  {
   "cell_type": "code",
   "execution_count": 102,
   "id": "573d6754",
   "metadata": {},
   "outputs": [],
   "source": [
    "from xgboost import XGBClassifier"
   ]
  },
  {
   "cell_type": "code",
   "execution_count": 103,
   "id": "96a5fea4",
   "metadata": {},
   "outputs": [],
   "source": [
    "def ClassifierApplier(list_classifier): # [(name, classifier)]\n",
    "    for model in list_classifier:\n",
    "        print(f\"model name: {model[0]}\")\n",
    "        classifier = model[1]\n",
    "        try:\n",
    "            selector = RFE(classifier, n_features_to_select=5, step=1)\n",
    "            selector = selector.fit(X_train2, y_train2)\n",
    "            selected_columns = list(selector.get_feature_names_out())\n",
    "        except:\n",
    "            selected_columns = list(X_train2.columns)\n",
    "\n",
    "        classifier.fit(X_train2[selected_columns],y_train2)\n",
    "        print(classifier.score(X_train2[selected_columns], y_train2),\n",
    "              classifier.score(X_test2[selected_columns],y_test2))\n",
    "\n",
    "        prediction = classifier.predict(X_test2[selected_columns])\n",
    "        print(classification_report(prediction, y_test2,digits=5))\n",
    "        print()"
   ]
  },
  {
   "cell_type": "code",
   "execution_count": 104,
   "id": "c4ed23c9",
   "metadata": {},
   "outputs": [],
   "source": [
    "model_list =[('log',LogisticRegression(max_iter=500)),\n",
    "              ('dt',DecisionTreeClassifier()),\n",
    "            ('knn',KNeighborsClassifier()),\n",
    "            ('SVC',SVC()),\n",
    "             ('Gnb',GaussianNB()),\n",
    "            ('Bnb',BernoulliNB())]"
   ]
  },
  {
   "cell_type": "code",
   "execution_count": 105,
   "id": "0262ec1f",
   "metadata": {},
   "outputs": [
    {
     "name": "stdout",
     "output_type": "stream",
     "text": [
      "model name: log\n",
      "0.9014526246285903 0.8981903485254692\n",
      "              precision    recall  f1-score   support\n",
      "\n",
      "           0    0.97892   0.91194   0.94424     14104\n",
      "           1    0.30264   0.66054   0.41509       816\n",
      "\n",
      "    accuracy                        0.89819     14920\n",
      "   macro avg    0.64078   0.78624   0.67967     14920\n",
      "weighted avg    0.94193   0.89819   0.91530     14920\n",
      "\n",
      "\n",
      "model name: dt\n",
      "1.0 0.8455093833780161\n",
      "              precision    recall  f1-score   support\n",
      "\n",
      "           0    0.90715   0.91656   0.91183     13004\n",
      "           1    0.39079   0.36326   0.37652      1916\n",
      "\n",
      "    accuracy                        0.84551     14920\n",
      "   macro avg    0.64897   0.63991   0.64418     14920\n",
      "weighted avg    0.84084   0.84551   0.84309     14920\n",
      "\n",
      "\n",
      "model name: knn\n",
      "0.9128755364806866 0.8872654155495978\n",
      "              precision    recall  f1-score   support\n",
      "\n",
      "           0    0.97625   0.90350   0.93847     14197\n",
      "           1    0.23077   0.56846   0.32827       723\n",
      "\n",
      "    accuracy                        0.88727     14920\n",
      "   macro avg    0.60351   0.73598   0.63337     14920\n",
      "weighted avg    0.94013   0.88727   0.90890     14920\n",
      "\n",
      "\n",
      "model name: SVC\n",
      "0.8988775173324529 0.8922922252010724\n",
      "              precision    recall  f1-score   support\n",
      "\n",
      "           0    0.98516   0.90164   0.94155     14356\n",
      "           1    0.20719   0.65426   0.31471       564\n",
      "\n",
      "    accuracy                        0.89229     14920\n",
      "   macro avg    0.59617   0.77795   0.62813     14920\n",
      "weighted avg    0.95575   0.89229   0.91786     14920\n",
      "\n",
      "\n",
      "model name: Gnb\n",
      "0.8644767249917464 0.8640080428954423\n",
      "              precision    recall  f1-score   support\n",
      "\n",
      "           0    0.91559   0.92896   0.92223     12950\n",
      "           1    0.48344   0.43706   0.45908      1970\n",
      "\n",
      "    accuracy                        0.86401     14920\n",
      "   macro avg    0.69952   0.68301   0.69065     14920\n",
      "weighted avg    0.85853   0.86401   0.86107     14920\n",
      "\n",
      "\n",
      "model name: Bnb\n"
     ]
    },
    {
     "name": "stderr",
     "output_type": "stream",
     "text": [
      "C:\\Users\\rishw\\anaconda3\\lib\\site-packages\\sklearn\\utils\\deprecation.py:103: FutureWarning: Attribute `coef_` was deprecated in version 0.24 and will be removed in 1.1 (renaming of 0.26).\n",
      "  warnings.warn(msg, category=FutureWarning)\n",
      "C:\\Users\\rishw\\anaconda3\\lib\\site-packages\\sklearn\\utils\\deprecation.py:103: FutureWarning: Attribute `coef_` was deprecated in version 0.24 and will be removed in 1.1 (renaming of 0.26).\n",
      "  warnings.warn(msg, category=FutureWarning)\n",
      "C:\\Users\\rishw\\anaconda3\\lib\\site-packages\\sklearn\\utils\\deprecation.py:103: FutureWarning: Attribute `coef_` was deprecated in version 0.24 and will be removed in 1.1 (renaming of 0.26).\n",
      "  warnings.warn(msg, category=FutureWarning)\n",
      "C:\\Users\\rishw\\anaconda3\\lib\\site-packages\\sklearn\\utils\\deprecation.py:103: FutureWarning: Attribute `coef_` was deprecated in version 0.24 and will be removed in 1.1 (renaming of 0.26).\n",
      "  warnings.warn(msg, category=FutureWarning)\n",
      "C:\\Users\\rishw\\anaconda3\\lib\\site-packages\\sklearn\\utils\\deprecation.py:103: FutureWarning: Attribute `coef_` was deprecated in version 0.24 and will be removed in 1.1 (renaming of 0.26).\n",
      "  warnings.warn(msg, category=FutureWarning)\n",
      "C:\\Users\\rishw\\anaconda3\\lib\\site-packages\\sklearn\\utils\\deprecation.py:103: FutureWarning: Attribute `coef_` was deprecated in version 0.24 and will be removed in 1.1 (renaming of 0.26).\n",
      "  warnings.warn(msg, category=FutureWarning)\n",
      "C:\\Users\\rishw\\anaconda3\\lib\\site-packages\\sklearn\\utils\\deprecation.py:103: FutureWarning: Attribute `coef_` was deprecated in version 0.24 and will be removed in 1.1 (renaming of 0.26).\n",
      "  warnings.warn(msg, category=FutureWarning)\n",
      "C:\\Users\\rishw\\anaconda3\\lib\\site-packages\\sklearn\\utils\\deprecation.py:103: FutureWarning: Attribute `coef_` was deprecated in version 0.24 and will be removed in 1.1 (renaming of 0.26).\n",
      "  warnings.warn(msg, category=FutureWarning)\n",
      "C:\\Users\\rishw\\anaconda3\\lib\\site-packages\\sklearn\\utils\\deprecation.py:103: FutureWarning: Attribute `coef_` was deprecated in version 0.24 and will be removed in 1.1 (renaming of 0.26).\n",
      "  warnings.warn(msg, category=FutureWarning)\n",
      "C:\\Users\\rishw\\anaconda3\\lib\\site-packages\\sklearn\\utils\\deprecation.py:103: FutureWarning: Attribute `coef_` was deprecated in version 0.24 and will be removed in 1.1 (renaming of 0.26).\n",
      "  warnings.warn(msg, category=FutureWarning)\n",
      "C:\\Users\\rishw\\anaconda3\\lib\\site-packages\\sklearn\\utils\\deprecation.py:103: FutureWarning: Attribute `coef_` was deprecated in version 0.24 and will be removed in 1.1 (renaming of 0.26).\n",
      "  warnings.warn(msg, category=FutureWarning)\n",
      "C:\\Users\\rishw\\anaconda3\\lib\\site-packages\\sklearn\\utils\\deprecation.py:103: FutureWarning: Attribute `coef_` was deprecated in version 0.24 and will be removed in 1.1 (renaming of 0.26).\n",
      "  warnings.warn(msg, category=FutureWarning)\n",
      "C:\\Users\\rishw\\anaconda3\\lib\\site-packages\\sklearn\\utils\\deprecation.py:103: FutureWarning: Attribute `coef_` was deprecated in version 0.24 and will be removed in 1.1 (renaming of 0.26).\n",
      "  warnings.warn(msg, category=FutureWarning)\n",
      "C:\\Users\\rishw\\anaconda3\\lib\\site-packages\\sklearn\\utils\\deprecation.py:103: FutureWarning: Attribute `coef_` was deprecated in version 0.24 and will be removed in 1.1 (renaming of 0.26).\n",
      "  warnings.warn(msg, category=FutureWarning)\n",
      "C:\\Users\\rishw\\anaconda3\\lib\\site-packages\\sklearn\\utils\\deprecation.py:103: FutureWarning: Attribute `coef_` was deprecated in version 0.24 and will be removed in 1.1 (renaming of 0.26).\n",
      "  warnings.warn(msg, category=FutureWarning)\n",
      "C:\\Users\\rishw\\anaconda3\\lib\\site-packages\\sklearn\\utils\\deprecation.py:103: FutureWarning: Attribute `coef_` was deprecated in version 0.24 and will be removed in 1.1 (renaming of 0.26).\n",
      "  warnings.warn(msg, category=FutureWarning)\n",
      "C:\\Users\\rishw\\anaconda3\\lib\\site-packages\\sklearn\\utils\\deprecation.py:103: FutureWarning: Attribute `coef_` was deprecated in version 0.24 and will be removed in 1.1 (renaming of 0.26).\n",
      "  warnings.warn(msg, category=FutureWarning)\n",
      "C:\\Users\\rishw\\anaconda3\\lib\\site-packages\\sklearn\\utils\\deprecation.py:103: FutureWarning: Attribute `coef_` was deprecated in version 0.24 and will be removed in 1.1 (renaming of 0.26).\n",
      "  warnings.warn(msg, category=FutureWarning)\n",
      "C:\\Users\\rishw\\anaconda3\\lib\\site-packages\\sklearn\\utils\\deprecation.py:103: FutureWarning: Attribute `coef_` was deprecated in version 0.24 and will be removed in 1.1 (renaming of 0.26).\n",
      "  warnings.warn(msg, category=FutureWarning)\n",
      "C:\\Users\\rishw\\anaconda3\\lib\\site-packages\\sklearn\\utils\\deprecation.py:103: FutureWarning: Attribute `coef_` was deprecated in version 0.24 and will be removed in 1.1 (renaming of 0.26).\n",
      "  warnings.warn(msg, category=FutureWarning)\n",
      "C:\\Users\\rishw\\anaconda3\\lib\\site-packages\\sklearn\\utils\\deprecation.py:103: FutureWarning: Attribute `coef_` was deprecated in version 0.24 and will be removed in 1.1 (renaming of 0.26).\n",
      "  warnings.warn(msg, category=FutureWarning)\n",
      "C:\\Users\\rishw\\anaconda3\\lib\\site-packages\\sklearn\\utils\\deprecation.py:103: FutureWarning: Attribute `coef_` was deprecated in version 0.24 and will be removed in 1.1 (renaming of 0.26).\n",
      "  warnings.warn(msg, category=FutureWarning)\n",
      "C:\\Users\\rishw\\anaconda3\\lib\\site-packages\\sklearn\\utils\\deprecation.py:103: FutureWarning: Attribute `coef_` was deprecated in version 0.24 and will be removed in 1.1 (renaming of 0.26).\n",
      "  warnings.warn(msg, category=FutureWarning)\n",
      "C:\\Users\\rishw\\anaconda3\\lib\\site-packages\\sklearn\\utils\\deprecation.py:103: FutureWarning: Attribute `coef_` was deprecated in version 0.24 and will be removed in 1.1 (renaming of 0.26).\n",
      "  warnings.warn(msg, category=FutureWarning)\n",
      "C:\\Users\\rishw\\anaconda3\\lib\\site-packages\\sklearn\\utils\\deprecation.py:103: FutureWarning: Attribute `coef_` was deprecated in version 0.24 and will be removed in 1.1 (renaming of 0.26).\n",
      "  warnings.warn(msg, category=FutureWarning)\n",
      "C:\\Users\\rishw\\anaconda3\\lib\\site-packages\\sklearn\\utils\\deprecation.py:103: FutureWarning: Attribute `coef_` was deprecated in version 0.24 and will be removed in 1.1 (renaming of 0.26).\n",
      "  warnings.warn(msg, category=FutureWarning)\n",
      "C:\\Users\\rishw\\anaconda3\\lib\\site-packages\\sklearn\\utils\\deprecation.py:103: FutureWarning: Attribute `coef_` was deprecated in version 0.24 and will be removed in 1.1 (renaming of 0.26).\n",
      "  warnings.warn(msg, category=FutureWarning)\n",
      "C:\\Users\\rishw\\anaconda3\\lib\\site-packages\\sklearn\\utils\\deprecation.py:103: FutureWarning: Attribute `coef_` was deprecated in version 0.24 and will be removed in 1.1 (renaming of 0.26).\n",
      "  warnings.warn(msg, category=FutureWarning)\n",
      "C:\\Users\\rishw\\anaconda3\\lib\\site-packages\\sklearn\\utils\\deprecation.py:103: FutureWarning: Attribute `coef_` was deprecated in version 0.24 and will be removed in 1.1 (renaming of 0.26).\n",
      "  warnings.warn(msg, category=FutureWarning)\n",
      "C:\\Users\\rishw\\anaconda3\\lib\\site-packages\\sklearn\\utils\\deprecation.py:103: FutureWarning: Attribute `coef_` was deprecated in version 0.24 and will be removed in 1.1 (renaming of 0.26).\n",
      "  warnings.warn(msg, category=FutureWarning)\n",
      "C:\\Users\\rishw\\anaconda3\\lib\\site-packages\\sklearn\\utils\\deprecation.py:103: FutureWarning: Attribute `coef_` was deprecated in version 0.24 and will be removed in 1.1 (renaming of 0.26).\n",
      "  warnings.warn(msg, category=FutureWarning)\n",
      "C:\\Users\\rishw\\anaconda3\\lib\\site-packages\\sklearn\\utils\\deprecation.py:103: FutureWarning: Attribute `coef_` was deprecated in version 0.24 and will be removed in 1.1 (renaming of 0.26).\n",
      "  warnings.warn(msg, category=FutureWarning)\n",
      "C:\\Users\\rishw\\anaconda3\\lib\\site-packages\\sklearn\\utils\\deprecation.py:103: FutureWarning: Attribute `coef_` was deprecated in version 0.24 and will be removed in 1.1 (renaming of 0.26).\n",
      "  warnings.warn(msg, category=FutureWarning)\n",
      "C:\\Users\\rishw\\anaconda3\\lib\\site-packages\\sklearn\\utils\\deprecation.py:103: FutureWarning: Attribute `coef_` was deprecated in version 0.24 and will be removed in 1.1 (renaming of 0.26).\n",
      "  warnings.warn(msg, category=FutureWarning)\n",
      "C:\\Users\\rishw\\anaconda3\\lib\\site-packages\\sklearn\\utils\\deprecation.py:103: FutureWarning: Attribute `coef_` was deprecated in version 0.24 and will be removed in 1.1 (renaming of 0.26).\n",
      "  warnings.warn(msg, category=FutureWarning)\n",
      "C:\\Users\\rishw\\anaconda3\\lib\\site-packages\\sklearn\\utils\\deprecation.py:103: FutureWarning: Attribute `coef_` was deprecated in version 0.24 and will be removed in 1.1 (renaming of 0.26).\n",
      "  warnings.warn(msg, category=FutureWarning)\n",
      "C:\\Users\\rishw\\anaconda3\\lib\\site-packages\\sklearn\\utils\\deprecation.py:103: FutureWarning: Attribute `coef_` was deprecated in version 0.24 and will be removed in 1.1 (renaming of 0.26).\n",
      "  warnings.warn(msg, category=FutureWarning)\n"
     ]
    },
    {
     "name": "stdout",
     "output_type": "stream",
     "text": [
      "0.8841862000660284 0.8806300268096515\n",
      "              precision    recall  f1-score   support\n",
      "\n",
      "           0    1.00000   0.88063   0.93653     14920\n",
      "           1    0.00000   0.00000   0.00000         0\n",
      "\n",
      "    accuracy                        0.88063     14920\n",
      "   macro avg    0.50000   0.44032   0.46826     14920\n",
      "weighted avg    1.00000   0.88063   0.93653     14920\n",
      "\n",
      "\n"
     ]
    },
    {
     "name": "stderr",
     "output_type": "stream",
     "text": [
      "C:\\Users\\rishw\\anaconda3\\lib\\site-packages\\sklearn\\metrics\\_classification.py:1318: UndefinedMetricWarning: Recall and F-score are ill-defined and being set to 0.0 in labels with no true samples. Use `zero_division` parameter to control this behavior.\n",
      "  _warn_prf(average, modifier, msg_start, len(result))\n",
      "C:\\Users\\rishw\\anaconda3\\lib\\site-packages\\sklearn\\metrics\\_classification.py:1318: UndefinedMetricWarning: Recall and F-score are ill-defined and being set to 0.0 in labels with no true samples. Use `zero_division` parameter to control this behavior.\n",
      "  _warn_prf(average, modifier, msg_start, len(result))\n",
      "C:\\Users\\rishw\\anaconda3\\lib\\site-packages\\sklearn\\metrics\\_classification.py:1318: UndefinedMetricWarning: Recall and F-score are ill-defined and being set to 0.0 in labels with no true samples. Use `zero_division` parameter to control this behavior.\n",
      "  _warn_prf(average, modifier, msg_start, len(result))\n"
     ]
    }
   ],
   "source": [
    "ClassifierApplier(model_list)"
   ]
  },
  {
   "cell_type": "code",
   "execution_count": 106,
   "id": "262157a0",
   "metadata": {},
   "outputs": [],
   "source": [
    "model_list_ensemble = [(\"RF\",RandomForestClassifier()),\n",
    "                      ('Ada',AdaBoostClassifier()),\n",
    "                      ('Grad',GradientBoostingClassifier()),\n",
    "                      (\"XGB\",XGBClassifier())]"
   ]
  },
  {
   "cell_type": "code",
   "execution_count": 107,
   "id": "9f3d4797",
   "metadata": {},
   "outputs": [
    {
     "name": "stdout",
     "output_type": "stream",
     "text": [
      "model name: RF\n",
      "0.9999339716077914 0.8926943699731903\n",
      "              precision    recall  f1-score   support\n",
      "\n",
      "           0    0.96430   0.91798   0.94057     13802\n",
      "           1    0.36440   0.58050   0.44774      1118\n",
      "\n",
      "    accuracy                        0.89269     14920\n",
      "   macro avg    0.66435   0.74924   0.69416     14920\n",
      "weighted avg    0.91935   0.89269   0.90364     14920\n",
      "\n",
      "\n",
      "model name: Ada\n",
      "0.90244305051172 0.8973190348525469\n",
      "              precision    recall  f1-score   support\n",
      "\n",
      "           0    0.97648   0.91297   0.94366     14053\n",
      "           1    0.31331   0.64360   0.42145       867\n",
      "\n",
      "    accuracy                        0.89732     14920\n",
      "   macro avg    0.64489   0.77829   0.68256     14920\n",
      "weighted avg    0.93795   0.89732   0.91331     14920\n",
      "\n",
      "\n",
      "model name: Grad\n",
      "0.9087157477715417 0.8991286863270778\n",
      "              precision    recall  f1-score   support\n",
      "\n",
      "           0    0.97100   0.91903   0.94430     13882\n",
      "           1    0.36889   0.63295   0.46612      1038\n",
      "\n",
      "    accuracy                        0.89913     14920\n",
      "   macro avg    0.66995   0.77599   0.70521     14920\n",
      "weighted avg    0.92911   0.89913   0.91104     14920\n",
      "\n",
      "\n",
      "model name: XGB\n"
     ]
    },
    {
     "name": "stderr",
     "output_type": "stream",
     "text": [
      "C:\\Users\\rishw\\anaconda3\\lib\\site-packages\\xgboost\\sklearn.py:1224: UserWarning: The use of label encoder in XGBClassifier is deprecated and will be removed in a future release. To remove this warning, do the following: 1) Pass option use_label_encoder=False when constructing XGBClassifier object; and 2) Encode your labels (y) as integers starting with 0, i.e. 0, 1, 2, ..., [num_class - 1].\n",
      "  warnings.warn(label_encoder_deprecation_msg, UserWarning)\n"
     ]
    },
    {
     "name": "stdout",
     "output_type": "stream",
     "text": [
      "[11:00:14] WARNING: C:/Users/Administrator/workspace/xgboost-win64_release_1.5.0/src/learner.cc:1115: Starting in XGBoost 1.3.0, the default evaluation metric used with the objective 'binary:logistic' was changed from 'error' to 'logloss'. Explicitly set eval_metric if you'd like to restore the old behavior.\n"
     ]
    },
    {
     "name": "stderr",
     "output_type": "stream",
     "text": [
      "C:\\Users\\rishw\\anaconda3\\lib\\site-packages\\xgboost\\sklearn.py:1224: UserWarning: The use of label encoder in XGBClassifier is deprecated and will be removed in a future release. To remove this warning, do the following: 1) Pass option use_label_encoder=False when constructing XGBClassifier object; and 2) Encode your labels (y) as integers starting with 0, i.e. 0, 1, 2, ..., [num_class - 1].\n",
      "  warnings.warn(label_encoder_deprecation_msg, UserWarning)\n"
     ]
    },
    {
     "name": "stdout",
     "output_type": "stream",
     "text": [
      "[11:00:15] WARNING: C:/Users/Administrator/workspace/xgboost-win64_release_1.5.0/src/learner.cc:1115: Starting in XGBoost 1.3.0, the default evaluation metric used with the objective 'binary:logistic' was changed from 'error' to 'logloss'. Explicitly set eval_metric if you'd like to restore the old behavior.\n"
     ]
    },
    {
     "name": "stderr",
     "output_type": "stream",
     "text": [
      "C:\\Users\\rishw\\anaconda3\\lib\\site-packages\\xgboost\\sklearn.py:1224: UserWarning: The use of label encoder in XGBClassifier is deprecated and will be removed in a future release. To remove this warning, do the following: 1) Pass option use_label_encoder=False when constructing XGBClassifier object; and 2) Encode your labels (y) as integers starting with 0, i.e. 0, 1, 2, ..., [num_class - 1].\n",
      "  warnings.warn(label_encoder_deprecation_msg, UserWarning)\n"
     ]
    },
    {
     "name": "stdout",
     "output_type": "stream",
     "text": [
      "[11:00:16] WARNING: C:/Users/Administrator/workspace/xgboost-win64_release_1.5.0/src/learner.cc:1115: Starting in XGBoost 1.3.0, the default evaluation metric used with the objective 'binary:logistic' was changed from 'error' to 'logloss'. Explicitly set eval_metric if you'd like to restore the old behavior.\n"
     ]
    },
    {
     "name": "stderr",
     "output_type": "stream",
     "text": [
      "C:\\Users\\rishw\\anaconda3\\lib\\site-packages\\xgboost\\sklearn.py:1224: UserWarning: The use of label encoder in XGBClassifier is deprecated and will be removed in a future release. To remove this warning, do the following: 1) Pass option use_label_encoder=False when constructing XGBClassifier object; and 2) Encode your labels (y) as integers starting with 0, i.e. 0, 1, 2, ..., [num_class - 1].\n",
      "  warnings.warn(label_encoder_deprecation_msg, UserWarning)\n"
     ]
    },
    {
     "name": "stdout",
     "output_type": "stream",
     "text": [
      "[11:00:17] WARNING: C:/Users/Administrator/workspace/xgboost-win64_release_1.5.0/src/learner.cc:1115: Starting in XGBoost 1.3.0, the default evaluation metric used with the objective 'binary:logistic' was changed from 'error' to 'logloss'. Explicitly set eval_metric if you'd like to restore the old behavior.\n"
     ]
    },
    {
     "name": "stderr",
     "output_type": "stream",
     "text": [
      "C:\\Users\\rishw\\anaconda3\\lib\\site-packages\\xgboost\\sklearn.py:1224: UserWarning: The use of label encoder in XGBClassifier is deprecated and will be removed in a future release. To remove this warning, do the following: 1) Pass option use_label_encoder=False when constructing XGBClassifier object; and 2) Encode your labels (y) as integers starting with 0, i.e. 0, 1, 2, ..., [num_class - 1].\n",
      "  warnings.warn(label_encoder_deprecation_msg, UserWarning)\n"
     ]
    },
    {
     "name": "stdout",
     "output_type": "stream",
     "text": [
      "[11:00:18] WARNING: C:/Users/Administrator/workspace/xgboost-win64_release_1.5.0/src/learner.cc:1115: Starting in XGBoost 1.3.0, the default evaluation metric used with the objective 'binary:logistic' was changed from 'error' to 'logloss'. Explicitly set eval_metric if you'd like to restore the old behavior.\n"
     ]
    },
    {
     "name": "stderr",
     "output_type": "stream",
     "text": [
      "C:\\Users\\rishw\\anaconda3\\lib\\site-packages\\xgboost\\sklearn.py:1224: UserWarning: The use of label encoder in XGBClassifier is deprecated and will be removed in a future release. To remove this warning, do the following: 1) Pass option use_label_encoder=False when constructing XGBClassifier object; and 2) Encode your labels (y) as integers starting with 0, i.e. 0, 1, 2, ..., [num_class - 1].\n",
      "  warnings.warn(label_encoder_deprecation_msg, UserWarning)\n"
     ]
    },
    {
     "name": "stdout",
     "output_type": "stream",
     "text": [
      "[11:00:19] WARNING: C:/Users/Administrator/workspace/xgboost-win64_release_1.5.0/src/learner.cc:1115: Starting in XGBoost 1.3.0, the default evaluation metric used with the objective 'binary:logistic' was changed from 'error' to 'logloss'. Explicitly set eval_metric if you'd like to restore the old behavior.\n"
     ]
    },
    {
     "name": "stderr",
     "output_type": "stream",
     "text": [
      "C:\\Users\\rishw\\anaconda3\\lib\\site-packages\\xgboost\\sklearn.py:1224: UserWarning: The use of label encoder in XGBClassifier is deprecated and will be removed in a future release. To remove this warning, do the following: 1) Pass option use_label_encoder=False when constructing XGBClassifier object; and 2) Encode your labels (y) as integers starting with 0, i.e. 0, 1, 2, ..., [num_class - 1].\n",
      "  warnings.warn(label_encoder_deprecation_msg, UserWarning)\n"
     ]
    },
    {
     "name": "stdout",
     "output_type": "stream",
     "text": [
      "[11:00:20] WARNING: C:/Users/Administrator/workspace/xgboost-win64_release_1.5.0/src/learner.cc:1115: Starting in XGBoost 1.3.0, the default evaluation metric used with the objective 'binary:logistic' was changed from 'error' to 'logloss'. Explicitly set eval_metric if you'd like to restore the old behavior.\n"
     ]
    },
    {
     "name": "stderr",
     "output_type": "stream",
     "text": [
      "C:\\Users\\rishw\\anaconda3\\lib\\site-packages\\xgboost\\sklearn.py:1224: UserWarning: The use of label encoder in XGBClassifier is deprecated and will be removed in a future release. To remove this warning, do the following: 1) Pass option use_label_encoder=False when constructing XGBClassifier object; and 2) Encode your labels (y) as integers starting with 0, i.e. 0, 1, 2, ..., [num_class - 1].\n",
      "  warnings.warn(label_encoder_deprecation_msg, UserWarning)\n"
     ]
    },
    {
     "name": "stdout",
     "output_type": "stream",
     "text": [
      "[11:00:21] WARNING: C:/Users/Administrator/workspace/xgboost-win64_release_1.5.0/src/learner.cc:1115: Starting in XGBoost 1.3.0, the default evaluation metric used with the objective 'binary:logistic' was changed from 'error' to 'logloss'. Explicitly set eval_metric if you'd like to restore the old behavior.\n"
     ]
    },
    {
     "name": "stderr",
     "output_type": "stream",
     "text": [
      "C:\\Users\\rishw\\anaconda3\\lib\\site-packages\\xgboost\\sklearn.py:1224: UserWarning: The use of label encoder in XGBClassifier is deprecated and will be removed in a future release. To remove this warning, do the following: 1) Pass option use_label_encoder=False when constructing XGBClassifier object; and 2) Encode your labels (y) as integers starting with 0, i.e. 0, 1, 2, ..., [num_class - 1].\n",
      "  warnings.warn(label_encoder_deprecation_msg, UserWarning)\n"
     ]
    },
    {
     "name": "stdout",
     "output_type": "stream",
     "text": [
      "[11:00:21] WARNING: C:/Users/Administrator/workspace/xgboost-win64_release_1.5.0/src/learner.cc:1115: Starting in XGBoost 1.3.0, the default evaluation metric used with the objective 'binary:logistic' was changed from 'error' to 'logloss'. Explicitly set eval_metric if you'd like to restore the old behavior.\n"
     ]
    },
    {
     "name": "stderr",
     "output_type": "stream",
     "text": [
      "C:\\Users\\rishw\\anaconda3\\lib\\site-packages\\xgboost\\sklearn.py:1224: UserWarning: The use of label encoder in XGBClassifier is deprecated and will be removed in a future release. To remove this warning, do the following: 1) Pass option use_label_encoder=False when constructing XGBClassifier object; and 2) Encode your labels (y) as integers starting with 0, i.e. 0, 1, 2, ..., [num_class - 1].\n",
      "  warnings.warn(label_encoder_deprecation_msg, UserWarning)\n"
     ]
    },
    {
     "name": "stdout",
     "output_type": "stream",
     "text": [
      "[11:00:22] WARNING: C:/Users/Administrator/workspace/xgboost-win64_release_1.5.0/src/learner.cc:1115: Starting in XGBoost 1.3.0, the default evaluation metric used with the objective 'binary:logistic' was changed from 'error' to 'logloss'. Explicitly set eval_metric if you'd like to restore the old behavior.\n"
     ]
    },
    {
     "name": "stderr",
     "output_type": "stream",
     "text": [
      "C:\\Users\\rishw\\anaconda3\\lib\\site-packages\\xgboost\\sklearn.py:1224: UserWarning: The use of label encoder in XGBClassifier is deprecated and will be removed in a future release. To remove this warning, do the following: 1) Pass option use_label_encoder=False when constructing XGBClassifier object; and 2) Encode your labels (y) as integers starting with 0, i.e. 0, 1, 2, ..., [num_class - 1].\n",
      "  warnings.warn(label_encoder_deprecation_msg, UserWarning)\n"
     ]
    },
    {
     "name": "stdout",
     "output_type": "stream",
     "text": [
      "[11:00:23] WARNING: C:/Users/Administrator/workspace/xgboost-win64_release_1.5.0/src/learner.cc:1115: Starting in XGBoost 1.3.0, the default evaluation metric used with the objective 'binary:logistic' was changed from 'error' to 'logloss'. Explicitly set eval_metric if you'd like to restore the old behavior.\n"
     ]
    },
    {
     "name": "stderr",
     "output_type": "stream",
     "text": [
      "C:\\Users\\rishw\\anaconda3\\lib\\site-packages\\xgboost\\sklearn.py:1224: UserWarning: The use of label encoder in XGBClassifier is deprecated and will be removed in a future release. To remove this warning, do the following: 1) Pass option use_label_encoder=False when constructing XGBClassifier object; and 2) Encode your labels (y) as integers starting with 0, i.e. 0, 1, 2, ..., [num_class - 1].\n",
      "  warnings.warn(label_encoder_deprecation_msg, UserWarning)\n"
     ]
    },
    {
     "name": "stdout",
     "output_type": "stream",
     "text": [
      "[11:00:24] WARNING: C:/Users/Administrator/workspace/xgboost-win64_release_1.5.0/src/learner.cc:1115: Starting in XGBoost 1.3.0, the default evaluation metric used with the objective 'binary:logistic' was changed from 'error' to 'logloss'. Explicitly set eval_metric if you'd like to restore the old behavior.\n"
     ]
    },
    {
     "name": "stderr",
     "output_type": "stream",
     "text": [
      "C:\\Users\\rishw\\anaconda3\\lib\\site-packages\\xgboost\\sklearn.py:1224: UserWarning: The use of label encoder in XGBClassifier is deprecated and will be removed in a future release. To remove this warning, do the following: 1) Pass option use_label_encoder=False when constructing XGBClassifier object; and 2) Encode your labels (y) as integers starting with 0, i.e. 0, 1, 2, ..., [num_class - 1].\n",
      "  warnings.warn(label_encoder_deprecation_msg, UserWarning)\n"
     ]
    },
    {
     "name": "stdout",
     "output_type": "stream",
     "text": [
      "[11:00:25] WARNING: C:/Users/Administrator/workspace/xgboost-win64_release_1.5.0/src/learner.cc:1115: Starting in XGBoost 1.3.0, the default evaluation metric used with the objective 'binary:logistic' was changed from 'error' to 'logloss'. Explicitly set eval_metric if you'd like to restore the old behavior.\n"
     ]
    },
    {
     "name": "stderr",
     "output_type": "stream",
     "text": [
      "C:\\Users\\rishw\\anaconda3\\lib\\site-packages\\xgboost\\sklearn.py:1224: UserWarning: The use of label encoder in XGBClassifier is deprecated and will be removed in a future release. To remove this warning, do the following: 1) Pass option use_label_encoder=False when constructing XGBClassifier object; and 2) Encode your labels (y) as integers starting with 0, i.e. 0, 1, 2, ..., [num_class - 1].\n",
      "  warnings.warn(label_encoder_deprecation_msg, UserWarning)\n"
     ]
    },
    {
     "name": "stdout",
     "output_type": "stream",
     "text": [
      "[11:00:25] WARNING: C:/Users/Administrator/workspace/xgboost-win64_release_1.5.0/src/learner.cc:1115: Starting in XGBoost 1.3.0, the default evaluation metric used with the objective 'binary:logistic' was changed from 'error' to 'logloss'. Explicitly set eval_metric if you'd like to restore the old behavior.\n"
     ]
    },
    {
     "name": "stderr",
     "output_type": "stream",
     "text": [
      "C:\\Users\\rishw\\anaconda3\\lib\\site-packages\\xgboost\\sklearn.py:1224: UserWarning: The use of label encoder in XGBClassifier is deprecated and will be removed in a future release. To remove this warning, do the following: 1) Pass option use_label_encoder=False when constructing XGBClassifier object; and 2) Encode your labels (y) as integers starting with 0, i.e. 0, 1, 2, ..., [num_class - 1].\n",
      "  warnings.warn(label_encoder_deprecation_msg, UserWarning)\n"
     ]
    },
    {
     "name": "stdout",
     "output_type": "stream",
     "text": [
      "[11:00:26] WARNING: C:/Users/Administrator/workspace/xgboost-win64_release_1.5.0/src/learner.cc:1115: Starting in XGBoost 1.3.0, the default evaluation metric used with the objective 'binary:logistic' was changed from 'error' to 'logloss'. Explicitly set eval_metric if you'd like to restore the old behavior.\n"
     ]
    },
    {
     "name": "stderr",
     "output_type": "stream",
     "text": [
      "C:\\Users\\rishw\\anaconda3\\lib\\site-packages\\xgboost\\sklearn.py:1224: UserWarning: The use of label encoder in XGBClassifier is deprecated and will be removed in a future release. To remove this warning, do the following: 1) Pass option use_label_encoder=False when constructing XGBClassifier object; and 2) Encode your labels (y) as integers starting with 0, i.e. 0, 1, 2, ..., [num_class - 1].\n",
      "  warnings.warn(label_encoder_deprecation_msg, UserWarning)\n"
     ]
    },
    {
     "name": "stdout",
     "output_type": "stream",
     "text": [
      "[11:00:27] WARNING: C:/Users/Administrator/workspace/xgboost-win64_release_1.5.0/src/learner.cc:1115: Starting in XGBoost 1.3.0, the default evaluation metric used with the objective 'binary:logistic' was changed from 'error' to 'logloss'. Explicitly set eval_metric if you'd like to restore the old behavior.\n"
     ]
    },
    {
     "name": "stderr",
     "output_type": "stream",
     "text": [
      "C:\\Users\\rishw\\anaconda3\\lib\\site-packages\\xgboost\\sklearn.py:1224: UserWarning: The use of label encoder in XGBClassifier is deprecated and will be removed in a future release. To remove this warning, do the following: 1) Pass option use_label_encoder=False when constructing XGBClassifier object; and 2) Encode your labels (y) as integers starting with 0, i.e. 0, 1, 2, ..., [num_class - 1].\n",
      "  warnings.warn(label_encoder_deprecation_msg, UserWarning)\n"
     ]
    },
    {
     "name": "stdout",
     "output_type": "stream",
     "text": [
      "[11:00:28] WARNING: C:/Users/Administrator/workspace/xgboost-win64_release_1.5.0/src/learner.cc:1115: Starting in XGBoost 1.3.0, the default evaluation metric used with the objective 'binary:logistic' was changed from 'error' to 'logloss'. Explicitly set eval_metric if you'd like to restore the old behavior.\n"
     ]
    },
    {
     "name": "stderr",
     "output_type": "stream",
     "text": [
      "C:\\Users\\rishw\\anaconda3\\lib\\site-packages\\xgboost\\sklearn.py:1224: UserWarning: The use of label encoder in XGBClassifier is deprecated and will be removed in a future release. To remove this warning, do the following: 1) Pass option use_label_encoder=False when constructing XGBClassifier object; and 2) Encode your labels (y) as integers starting with 0, i.e. 0, 1, 2, ..., [num_class - 1].\n",
      "  warnings.warn(label_encoder_deprecation_msg, UserWarning)\n"
     ]
    },
    {
     "name": "stdout",
     "output_type": "stream",
     "text": [
      "[11:00:29] WARNING: C:/Users/Administrator/workspace/xgboost-win64_release_1.5.0/src/learner.cc:1115: Starting in XGBoost 1.3.0, the default evaluation metric used with the objective 'binary:logistic' was changed from 'error' to 'logloss'. Explicitly set eval_metric if you'd like to restore the old behavior.\n"
     ]
    },
    {
     "name": "stderr",
     "output_type": "stream",
     "text": [
      "C:\\Users\\rishw\\anaconda3\\lib\\site-packages\\xgboost\\sklearn.py:1224: UserWarning: The use of label encoder in XGBClassifier is deprecated and will be removed in a future release. To remove this warning, do the following: 1) Pass option use_label_encoder=False when constructing XGBClassifier object; and 2) Encode your labels (y) as integers starting with 0, i.e. 0, 1, 2, ..., [num_class - 1].\n",
      "  warnings.warn(label_encoder_deprecation_msg, UserWarning)\n"
     ]
    },
    {
     "name": "stdout",
     "output_type": "stream",
     "text": [
      "[11:00:29] WARNING: C:/Users/Administrator/workspace/xgboost-win64_release_1.5.0/src/learner.cc:1115: Starting in XGBoost 1.3.0, the default evaluation metric used with the objective 'binary:logistic' was changed from 'error' to 'logloss'. Explicitly set eval_metric if you'd like to restore the old behavior.\n"
     ]
    },
    {
     "name": "stderr",
     "output_type": "stream",
     "text": [
      "C:\\Users\\rishw\\anaconda3\\lib\\site-packages\\xgboost\\sklearn.py:1224: UserWarning: The use of label encoder in XGBClassifier is deprecated and will be removed in a future release. To remove this warning, do the following: 1) Pass option use_label_encoder=False when constructing XGBClassifier object; and 2) Encode your labels (y) as integers starting with 0, i.e. 0, 1, 2, ..., [num_class - 1].\n",
      "  warnings.warn(label_encoder_deprecation_msg, UserWarning)\n"
     ]
    },
    {
     "name": "stdout",
     "output_type": "stream",
     "text": [
      "[11:00:30] WARNING: C:/Users/Administrator/workspace/xgboost-win64_release_1.5.0/src/learner.cc:1115: Starting in XGBoost 1.3.0, the default evaluation metric used with the objective 'binary:logistic' was changed from 'error' to 'logloss'. Explicitly set eval_metric if you'd like to restore the old behavior.\n"
     ]
    },
    {
     "name": "stderr",
     "output_type": "stream",
     "text": [
      "C:\\Users\\rishw\\anaconda3\\lib\\site-packages\\xgboost\\sklearn.py:1224: UserWarning: The use of label encoder in XGBClassifier is deprecated and will be removed in a future release. To remove this warning, do the following: 1) Pass option use_label_encoder=False when constructing XGBClassifier object; and 2) Encode your labels (y) as integers starting with 0, i.e. 0, 1, 2, ..., [num_class - 1].\n",
      "  warnings.warn(label_encoder_deprecation_msg, UserWarning)\n"
     ]
    },
    {
     "name": "stdout",
     "output_type": "stream",
     "text": [
      "[11:00:31] WARNING: C:/Users/Administrator/workspace/xgboost-win64_release_1.5.0/src/learner.cc:1115: Starting in XGBoost 1.3.0, the default evaluation metric used with the objective 'binary:logistic' was changed from 'error' to 'logloss'. Explicitly set eval_metric if you'd like to restore the old behavior.\n"
     ]
    },
    {
     "name": "stderr",
     "output_type": "stream",
     "text": [
      "C:\\Users\\rishw\\anaconda3\\lib\\site-packages\\xgboost\\sklearn.py:1224: UserWarning: The use of label encoder in XGBClassifier is deprecated and will be removed in a future release. To remove this warning, do the following: 1) Pass option use_label_encoder=False when constructing XGBClassifier object; and 2) Encode your labels (y) as integers starting with 0, i.e. 0, 1, 2, ..., [num_class - 1].\n",
      "  warnings.warn(label_encoder_deprecation_msg, UserWarning)\n"
     ]
    },
    {
     "name": "stdout",
     "output_type": "stream",
     "text": [
      "[11:00:31] WARNING: C:/Users/Administrator/workspace/xgboost-win64_release_1.5.0/src/learner.cc:1115: Starting in XGBoost 1.3.0, the default evaluation metric used with the objective 'binary:logistic' was changed from 'error' to 'logloss'. Explicitly set eval_metric if you'd like to restore the old behavior.\n"
     ]
    },
    {
     "name": "stderr",
     "output_type": "stream",
     "text": [
      "C:\\Users\\rishw\\anaconda3\\lib\\site-packages\\xgboost\\sklearn.py:1224: UserWarning: The use of label encoder in XGBClassifier is deprecated and will be removed in a future release. To remove this warning, do the following: 1) Pass option use_label_encoder=False when constructing XGBClassifier object; and 2) Encode your labels (y) as integers starting with 0, i.e. 0, 1, 2, ..., [num_class - 1].\n",
      "  warnings.warn(label_encoder_deprecation_msg, UserWarning)\n"
     ]
    },
    {
     "name": "stdout",
     "output_type": "stream",
     "text": [
      "[11:00:32] WARNING: C:/Users/Administrator/workspace/xgboost-win64_release_1.5.0/src/learner.cc:1115: Starting in XGBoost 1.3.0, the default evaluation metric used with the objective 'binary:logistic' was changed from 'error' to 'logloss'. Explicitly set eval_metric if you'd like to restore the old behavior.\n"
     ]
    },
    {
     "name": "stderr",
     "output_type": "stream",
     "text": [
      "C:\\Users\\rishw\\anaconda3\\lib\\site-packages\\xgboost\\sklearn.py:1224: UserWarning: The use of label encoder in XGBClassifier is deprecated and will be removed in a future release. To remove this warning, do the following: 1) Pass option use_label_encoder=False when constructing XGBClassifier object; and 2) Encode your labels (y) as integers starting with 0, i.e. 0, 1, 2, ..., [num_class - 1].\n",
      "  warnings.warn(label_encoder_deprecation_msg, UserWarning)\n"
     ]
    },
    {
     "name": "stdout",
     "output_type": "stream",
     "text": [
      "[11:00:33] WARNING: C:/Users/Administrator/workspace/xgboost-win64_release_1.5.0/src/learner.cc:1115: Starting in XGBoost 1.3.0, the default evaluation metric used with the objective 'binary:logistic' was changed from 'error' to 'logloss'. Explicitly set eval_metric if you'd like to restore the old behavior.\n"
     ]
    },
    {
     "name": "stderr",
     "output_type": "stream",
     "text": [
      "C:\\Users\\rishw\\anaconda3\\lib\\site-packages\\xgboost\\sklearn.py:1224: UserWarning: The use of label encoder in XGBClassifier is deprecated and will be removed in a future release. To remove this warning, do the following: 1) Pass option use_label_encoder=False when constructing XGBClassifier object; and 2) Encode your labels (y) as integers starting with 0, i.e. 0, 1, 2, ..., [num_class - 1].\n",
      "  warnings.warn(label_encoder_deprecation_msg, UserWarning)\n"
     ]
    },
    {
     "name": "stdout",
     "output_type": "stream",
     "text": [
      "[11:00:33] WARNING: C:/Users/Administrator/workspace/xgboost-win64_release_1.5.0/src/learner.cc:1115: Starting in XGBoost 1.3.0, the default evaluation metric used with the objective 'binary:logistic' was changed from 'error' to 'logloss'. Explicitly set eval_metric if you'd like to restore the old behavior.\n"
     ]
    },
    {
     "name": "stderr",
     "output_type": "stream",
     "text": [
      "C:\\Users\\rishw\\anaconda3\\lib\\site-packages\\xgboost\\sklearn.py:1224: UserWarning: The use of label encoder in XGBClassifier is deprecated and will be removed in a future release. To remove this warning, do the following: 1) Pass option use_label_encoder=False when constructing XGBClassifier object; and 2) Encode your labels (y) as integers starting with 0, i.e. 0, 1, 2, ..., [num_class - 1].\n",
      "  warnings.warn(label_encoder_deprecation_msg, UserWarning)\n"
     ]
    },
    {
     "name": "stdout",
     "output_type": "stream",
     "text": [
      "[11:00:34] WARNING: C:/Users/Administrator/workspace/xgboost-win64_release_1.5.0/src/learner.cc:1115: Starting in XGBoost 1.3.0, the default evaluation metric used with the objective 'binary:logistic' was changed from 'error' to 'logloss'. Explicitly set eval_metric if you'd like to restore the old behavior.\n"
     ]
    },
    {
     "name": "stderr",
     "output_type": "stream",
     "text": [
      "C:\\Users\\rishw\\anaconda3\\lib\\site-packages\\xgboost\\sklearn.py:1224: UserWarning: The use of label encoder in XGBClassifier is deprecated and will be removed in a future release. To remove this warning, do the following: 1) Pass option use_label_encoder=False when constructing XGBClassifier object; and 2) Encode your labels (y) as integers starting with 0, i.e. 0, 1, 2, ..., [num_class - 1].\n",
      "  warnings.warn(label_encoder_deprecation_msg, UserWarning)\n"
     ]
    },
    {
     "name": "stdout",
     "output_type": "stream",
     "text": [
      "[11:00:34] WARNING: C:/Users/Administrator/workspace/xgboost-win64_release_1.5.0/src/learner.cc:1115: Starting in XGBoost 1.3.0, the default evaluation metric used with the objective 'binary:logistic' was changed from 'error' to 'logloss'. Explicitly set eval_metric if you'd like to restore the old behavior.\n"
     ]
    },
    {
     "name": "stderr",
     "output_type": "stream",
     "text": [
      "C:\\Users\\rishw\\anaconda3\\lib\\site-packages\\xgboost\\sklearn.py:1224: UserWarning: The use of label encoder in XGBClassifier is deprecated and will be removed in a future release. To remove this warning, do the following: 1) Pass option use_label_encoder=False when constructing XGBClassifier object; and 2) Encode your labels (y) as integers starting with 0, i.e. 0, 1, 2, ..., [num_class - 1].\n",
      "  warnings.warn(label_encoder_deprecation_msg, UserWarning)\n"
     ]
    },
    {
     "name": "stdout",
     "output_type": "stream",
     "text": [
      "[11:00:35] WARNING: C:/Users/Administrator/workspace/xgboost-win64_release_1.5.0/src/learner.cc:1115: Starting in XGBoost 1.3.0, the default evaluation metric used with the objective 'binary:logistic' was changed from 'error' to 'logloss'. Explicitly set eval_metric if you'd like to restore the old behavior.\n"
     ]
    },
    {
     "name": "stderr",
     "output_type": "stream",
     "text": [
      "C:\\Users\\rishw\\anaconda3\\lib\\site-packages\\xgboost\\sklearn.py:1224: UserWarning: The use of label encoder in XGBClassifier is deprecated and will be removed in a future release. To remove this warning, do the following: 1) Pass option use_label_encoder=False when constructing XGBClassifier object; and 2) Encode your labels (y) as integers starting with 0, i.e. 0, 1, 2, ..., [num_class - 1].\n",
      "  warnings.warn(label_encoder_deprecation_msg, UserWarning)\n"
     ]
    },
    {
     "name": "stdout",
     "output_type": "stream",
     "text": [
      "[11:00:35] WARNING: C:/Users/Administrator/workspace/xgboost-win64_release_1.5.0/src/learner.cc:1115: Starting in XGBoost 1.3.0, the default evaluation metric used with the objective 'binary:logistic' was changed from 'error' to 'logloss'. Explicitly set eval_metric if you'd like to restore the old behavior.\n"
     ]
    },
    {
     "name": "stderr",
     "output_type": "stream",
     "text": [
      "C:\\Users\\rishw\\anaconda3\\lib\\site-packages\\xgboost\\sklearn.py:1224: UserWarning: The use of label encoder in XGBClassifier is deprecated and will be removed in a future release. To remove this warning, do the following: 1) Pass option use_label_encoder=False when constructing XGBClassifier object; and 2) Encode your labels (y) as integers starting with 0, i.e. 0, 1, 2, ..., [num_class - 1].\n",
      "  warnings.warn(label_encoder_deprecation_msg, UserWarning)\n"
     ]
    },
    {
     "name": "stdout",
     "output_type": "stream",
     "text": [
      "[11:00:36] WARNING: C:/Users/Administrator/workspace/xgboost-win64_release_1.5.0/src/learner.cc:1115: Starting in XGBoost 1.3.0, the default evaluation metric used with the objective 'binary:logistic' was changed from 'error' to 'logloss'. Explicitly set eval_metric if you'd like to restore the old behavior.\n"
     ]
    },
    {
     "name": "stderr",
     "output_type": "stream",
     "text": [
      "C:\\Users\\rishw\\anaconda3\\lib\\site-packages\\xgboost\\sklearn.py:1224: UserWarning: The use of label encoder in XGBClassifier is deprecated and will be removed in a future release. To remove this warning, do the following: 1) Pass option use_label_encoder=False when constructing XGBClassifier object; and 2) Encode your labels (y) as integers starting with 0, i.e. 0, 1, 2, ..., [num_class - 1].\n",
      "  warnings.warn(label_encoder_deprecation_msg, UserWarning)\n"
     ]
    },
    {
     "name": "stdout",
     "output_type": "stream",
     "text": [
      "[11:00:36] WARNING: C:/Users/Administrator/workspace/xgboost-win64_release_1.5.0/src/learner.cc:1115: Starting in XGBoost 1.3.0, the default evaluation metric used with the objective 'binary:logistic' was changed from 'error' to 'logloss'. Explicitly set eval_metric if you'd like to restore the old behavior.\n"
     ]
    },
    {
     "name": "stderr",
     "output_type": "stream",
     "text": [
      "C:\\Users\\rishw\\anaconda3\\lib\\site-packages\\xgboost\\sklearn.py:1224: UserWarning: The use of label encoder in XGBClassifier is deprecated and will be removed in a future release. To remove this warning, do the following: 1) Pass option use_label_encoder=False when constructing XGBClassifier object; and 2) Encode your labels (y) as integers starting with 0, i.e. 0, 1, 2, ..., [num_class - 1].\n",
      "  warnings.warn(label_encoder_deprecation_msg, UserWarning)\n"
     ]
    },
    {
     "name": "stdout",
     "output_type": "stream",
     "text": [
      "[11:00:37] WARNING: C:/Users/Administrator/workspace/xgboost-win64_release_1.5.0/src/learner.cc:1115: Starting in XGBoost 1.3.0, the default evaluation metric used with the objective 'binary:logistic' was changed from 'error' to 'logloss'. Explicitly set eval_metric if you'd like to restore the old behavior.\n"
     ]
    },
    {
     "name": "stderr",
     "output_type": "stream",
     "text": [
      "C:\\Users\\rishw\\anaconda3\\lib\\site-packages\\xgboost\\sklearn.py:1224: UserWarning: The use of label encoder in XGBClassifier is deprecated and will be removed in a future release. To remove this warning, do the following: 1) Pass option use_label_encoder=False when constructing XGBClassifier object; and 2) Encode your labels (y) as integers starting with 0, i.e. 0, 1, 2, ..., [num_class - 1].\n",
      "  warnings.warn(label_encoder_deprecation_msg, UserWarning)\n"
     ]
    },
    {
     "name": "stdout",
     "output_type": "stream",
     "text": [
      "[11:00:37] WARNING: C:/Users/Administrator/workspace/xgboost-win64_release_1.5.0/src/learner.cc:1115: Starting in XGBoost 1.3.0, the default evaluation metric used with the objective 'binary:logistic' was changed from 'error' to 'logloss'. Explicitly set eval_metric if you'd like to restore the old behavior.\n"
     ]
    },
    {
     "name": "stderr",
     "output_type": "stream",
     "text": [
      "C:\\Users\\rishw\\anaconda3\\lib\\site-packages\\xgboost\\sklearn.py:1224: UserWarning: The use of label encoder in XGBClassifier is deprecated and will be removed in a future release. To remove this warning, do the following: 1) Pass option use_label_encoder=False when constructing XGBClassifier object; and 2) Encode your labels (y) as integers starting with 0, i.e. 0, 1, 2, ..., [num_class - 1].\n",
      "  warnings.warn(label_encoder_deprecation_msg, UserWarning)\n"
     ]
    },
    {
     "name": "stdout",
     "output_type": "stream",
     "text": [
      "[11:00:37] WARNING: C:/Users/Administrator/workspace/xgboost-win64_release_1.5.0/src/learner.cc:1115: Starting in XGBoost 1.3.0, the default evaluation metric used with the objective 'binary:logistic' was changed from 'error' to 'logloss'. Explicitly set eval_metric if you'd like to restore the old behavior.\n"
     ]
    },
    {
     "name": "stderr",
     "output_type": "stream",
     "text": [
      "C:\\Users\\rishw\\anaconda3\\lib\\site-packages\\xgboost\\sklearn.py:1224: UserWarning: The use of label encoder in XGBClassifier is deprecated and will be removed in a future release. To remove this warning, do the following: 1) Pass option use_label_encoder=False when constructing XGBClassifier object; and 2) Encode your labels (y) as integers starting with 0, i.e. 0, 1, 2, ..., [num_class - 1].\n",
      "  warnings.warn(label_encoder_deprecation_msg, UserWarning)\n"
     ]
    },
    {
     "name": "stdout",
     "output_type": "stream",
     "text": [
      "[11:00:38] WARNING: C:/Users/Administrator/workspace/xgboost-win64_release_1.5.0/src/learner.cc:1115: Starting in XGBoost 1.3.0, the default evaluation metric used with the objective 'binary:logistic' was changed from 'error' to 'logloss'. Explicitly set eval_metric if you'd like to restore the old behavior.\n"
     ]
    },
    {
     "name": "stderr",
     "output_type": "stream",
     "text": [
      "C:\\Users\\rishw\\anaconda3\\lib\\site-packages\\xgboost\\sklearn.py:1224: UserWarning: The use of label encoder in XGBClassifier is deprecated and will be removed in a future release. To remove this warning, do the following: 1) Pass option use_label_encoder=False when constructing XGBClassifier object; and 2) Encode your labels (y) as integers starting with 0, i.e. 0, 1, 2, ..., [num_class - 1].\n",
      "  warnings.warn(label_encoder_deprecation_msg, UserWarning)\n"
     ]
    },
    {
     "name": "stdout",
     "output_type": "stream",
     "text": [
      "[11:00:38] WARNING: C:/Users/Administrator/workspace/xgboost-win64_release_1.5.0/src/learner.cc:1115: Starting in XGBoost 1.3.0, the default evaluation metric used with the objective 'binary:logistic' was changed from 'error' to 'logloss'. Explicitly set eval_metric if you'd like to restore the old behavior.\n"
     ]
    },
    {
     "name": "stderr",
     "output_type": "stream",
     "text": [
      "C:\\Users\\rishw\\anaconda3\\lib\\site-packages\\xgboost\\sklearn.py:1224: UserWarning: The use of label encoder in XGBClassifier is deprecated and will be removed in a future release. To remove this warning, do the following: 1) Pass option use_label_encoder=False when constructing XGBClassifier object; and 2) Encode your labels (y) as integers starting with 0, i.e. 0, 1, 2, ..., [num_class - 1].\n",
      "  warnings.warn(label_encoder_deprecation_msg, UserWarning)\n"
     ]
    },
    {
     "name": "stdout",
     "output_type": "stream",
     "text": [
      "[11:00:39] WARNING: C:/Users/Administrator/workspace/xgboost-win64_release_1.5.0/src/learner.cc:1115: Starting in XGBoost 1.3.0, the default evaluation metric used with the objective 'binary:logistic' was changed from 'error' to 'logloss'. Explicitly set eval_metric if you'd like to restore the old behavior.\n"
     ]
    },
    {
     "name": "stderr",
     "output_type": "stream",
     "text": [
      "C:\\Users\\rishw\\anaconda3\\lib\\site-packages\\xgboost\\sklearn.py:1224: UserWarning: The use of label encoder in XGBClassifier is deprecated and will be removed in a future release. To remove this warning, do the following: 1) Pass option use_label_encoder=False when constructing XGBClassifier object; and 2) Encode your labels (y) as integers starting with 0, i.e. 0, 1, 2, ..., [num_class - 1].\n",
      "  warnings.warn(label_encoder_deprecation_msg, UserWarning)\n"
     ]
    },
    {
     "name": "stdout",
     "output_type": "stream",
     "text": [
      "[11:00:39] WARNING: C:/Users/Administrator/workspace/xgboost-win64_release_1.5.0/src/learner.cc:1115: Starting in XGBoost 1.3.0, the default evaluation metric used with the objective 'binary:logistic' was changed from 'error' to 'logloss'. Explicitly set eval_metric if you'd like to restore the old behavior.\n"
     ]
    },
    {
     "name": "stderr",
     "output_type": "stream",
     "text": [
      "C:\\Users\\rishw\\anaconda3\\lib\\site-packages\\xgboost\\sklearn.py:1224: UserWarning: The use of label encoder in XGBClassifier is deprecated and will be removed in a future release. To remove this warning, do the following: 1) Pass option use_label_encoder=False when constructing XGBClassifier object; and 2) Encode your labels (y) as integers starting with 0, i.e. 0, 1, 2, ..., [num_class - 1].\n",
      "  warnings.warn(label_encoder_deprecation_msg, UserWarning)\n",
      "C:\\Users\\rishw\\anaconda3\\lib\\site-packages\\xgboost\\data.py:250: FutureWarning: pandas.Int64Index is deprecated and will be removed from pandas in a future version. Use pandas.Index with the appropriate dtype instead.\n",
      "  elif isinstance(data.columns, (pd.Int64Index, pd.RangeIndex)):\n"
     ]
    },
    {
     "name": "stdout",
     "output_type": "stream",
     "text": [
      "[11:00:39] WARNING: C:/Users/Administrator/workspace/xgboost-win64_release_1.5.0/src/learner.cc:1115: Starting in XGBoost 1.3.0, the default evaluation metric used with the objective 'binary:logistic' was changed from 'error' to 'logloss'. Explicitly set eval_metric if you'd like to restore the old behavior.\n",
      "0.8940574447012215 0.8909517426273459\n",
      "              precision    recall  f1-score   support\n",
      "\n",
      "           0    0.98645   0.89944   0.94094     14410\n",
      "           1    0.18641   0.65098   0.28983       510\n",
      "\n",
      "    accuracy                        0.89095     14920\n",
      "   macro avg    0.58643   0.77521   0.61539     14920\n",
      "weighted avg    0.95911   0.89095   0.91869     14920\n",
      "\n",
      "\n"
     ]
    }
   ],
   "source": [
    "# apply ensemble model\n",
    "ClassifierApplier(model_list_ensemble)"
   ]
  },
  {
   "cell_type": "code",
   "execution_count": 108,
   "id": "14b08f89",
   "metadata": {},
   "outputs": [
    {
     "name": "stdout",
     "output_type": "stream",
     "text": [
      "1.0 0.8689678284182306\n",
      "              precision    recall  f1-score   support\n",
      "\n",
      "           0    0.92130   0.92930   0.92528     13026\n",
      "           1    0.48287   0.45407   0.46803      1894\n",
      "\n",
      "    accuracy                        0.86897     14920\n",
      "   macro avg    0.70209   0.69168   0.69665     14920\n",
      "weighted avg    0.86565   0.86897   0.86724     14920\n",
      "\n",
      "\n"
     ]
    }
   ],
   "source": [
    "classifier = DecisionTreeClassifier()\n",
    "classifier.fit(X_train2,y_train2)\n",
    "print(classifier.score(X_train2, y_train2),\n",
    "      classifier.score(X_test2,y_test2))\n",
    "\n",
    "prediction = classifier.predict(X_test2)\n",
    "print(classification_report(prediction, y_test2,digits=5))\n",
    "print()"
   ]
  },
  {
   "cell_type": "markdown",
   "id": "77794fbf",
   "metadata": {},
   "source": [
    "['balance', 'duration', 'campaign', 'previous', 'job_retired',\n",
    "       'job_student', 'marital_married', 'housing_yes', 'loan_yes',\n",
    "       'contact_unknown', 'month_aug', 'month_dec', 'month_jan',\n",
    "       'month_jul', 'month_jun', 'month_mar', 'month_may', 'month_nov',\n",
    "       'month_oct', 'month_sep', 'poutcome_success'], dtype=object)\n"
   ]
  },
  {
   "cell_type": "markdown",
   "id": "62139bcf",
   "metadata": {},
   "source": [
    "no algorithms is doing better here even the the boosting and bagging technique not able to peform better , the classes here are\n",
    "imbalance due to which algorithms is able to predict  0 class better but lagging in correct prediction of class 1\n",
    "\n",
    "Solution: Train the model by balancing the classes using smote tehcnique, next approach include undersampling and oversampling\n",
    ". The data will be generated synthetically here to train the model when the oversampling techinque will be implemented. In actual scenario we need to take the real data from the source or need to verify the synthetic data before using for the training, since it is not possible for us to follow these steps as we are not domain experts and we have this limited data only with us. We would go ahead with our approach to generate data synthetically without any data verification process."
   ]
  },
  {
   "cell_type": "markdown",
   "id": "3ef74ed8",
   "metadata": {},
   "source": [
    "## Approach 3 (Balancing the data only no outlier treatment)"
   ]
  },
  {
   "cell_type": "code",
   "execution_count": 111,
   "id": "4675231d",
   "metadata": {},
   "outputs": [],
   "source": [
    "from imblearn.over_sampling import SMOTE\n",
    "from imblearn.under_sampling import RandomUnderSampler"
   ]
  },
  {
   "cell_type": "code",
   "execution_count": 112,
   "id": "10ed38e6",
   "metadata": {},
   "outputs": [],
   "source": [
    "sm = SMOTE(random_state=42)\n",
    "X_train2_smote, y_train2_smote = sm.fit_resample(X_train2, y_train2)"
   ]
  },
  {
   "cell_type": "code",
   "execution_count": 113,
   "id": "d2e0836f",
   "metadata": {},
   "outputs": [
    {
     "data": {
      "text/plain": [
       "0    26782\n",
       "1    26782\n",
       "Name: y, dtype: int64"
      ]
     },
     "execution_count": 113,
     "metadata": {},
     "output_type": "execute_result"
    }
   ],
   "source": [
    "y_train2_smote.value_counts()"
   ]
  },
  {
   "cell_type": "code",
   "execution_count": 114,
   "id": "f9d2f738",
   "metadata": {},
   "outputs": [
    {
     "name": "stdout",
     "output_type": "stream",
     "text": [
      "0.8550519005302069 0.8481903485254692\n",
      "              precision    recall  f1-score   support\n",
      "\n",
      "           0    0.85433   0.96968   0.90836     11576\n",
      "           1    0.80292   0.42763   0.55805      3344\n",
      "\n",
      "    accuracy                        0.84819     14920\n",
      "   macro avg    0.82862   0.69866   0.73320     14920\n",
      "weighted avg    0.84281   0.84819   0.82984     14920\n",
      "\n"
     ]
    }
   ],
   "source": [
    "model_logistic = LogisticRegression(max_iter= 500)\n",
    "model_logistic.fit(X_train2_smote,y_train2_smote)\n",
    "print(model_logistic.score(X_train2_smote, y_train2_smote),\n",
    "      model_logistic.score(X_test2,y_test2))\n",
    "\n",
    "prediction = model_logistic.predict(X_test2)\n",
    "print(classification_report(prediction, y_test2,digits=5))"
   ]
  },
  {
   "cell_type": "code",
   "execution_count": 115,
   "id": "d15250a8",
   "metadata": {},
   "outputs": [],
   "source": [
    "def ClassifierApplier(list_classifier,Xtrain, ytrain, Xtest,ytest): # [(name, classifier)]\n",
    "    for model in list_classifier:\n",
    "        print(f\"model name: {model[0]}\")\n",
    "        classifier = model[1]\n",
    "        try:\n",
    "            selector = RFE(classifier, n_features_to_select=5, step=1)\n",
    "            selector = selector.fit(Xtrain, ytrain)\n",
    "            selected_columns = list(selector.get_feature_names_out())\n",
    "        except:\n",
    "            selected_columns = list(Xtrain.columns)\n",
    "\n",
    "        classifier.fit(Xtrain[selected_columns],ytrain)\n",
    "        print(classifier.score(Xtrain[selected_columns], ytrain),\n",
    "              classifier.score(Xtest[selected_columns],ytest))\n",
    "\n",
    "        prediction = classifier.predict(Xtest[selected_columns])\n",
    "        print(classification_report(prediction, ytest,digits=5))\n",
    "        print()"
   ]
  },
  {
   "cell_type": "code",
   "execution_count": 116,
   "id": "7b418165",
   "metadata": {},
   "outputs": [
    {
     "name": "stdout",
     "output_type": "stream",
     "text": [
      "model name: log\n",
      "0.7835113135688149 0.828083109919571\n",
      "              precision    recall  f1-score   support\n",
      "\n",
      "           0    0.84862   0.95088   0.89684     11726\n",
      "           1    0.67659   0.37727   0.48442      3194\n",
      "\n",
      "    accuracy                        0.82808     14920\n",
      "   macro avg    0.76260   0.66407   0.69063     14920\n",
      "weighted avg    0.81179   0.82808   0.80855     14920\n",
      "\n",
      "\n",
      "model name: dt\n",
      "1.0 0.8097855227882037\n",
      "              precision    recall  f1-score   support\n",
      "\n",
      "           0    0.85935   0.91939   0.88836     12281\n",
      "           1    0.44413   0.29973   0.35792      2639\n",
      "\n",
      "    accuracy                        0.80979     14920\n",
      "   macro avg    0.65174   0.60956   0.62314     14920\n",
      "weighted avg    0.78591   0.80979   0.79453     14920\n",
      "\n",
      "\n",
      "model name: knn\n",
      "0.9399410051527145 0.8207774798927614\n",
      "              precision    recall  f1-score   support\n",
      "\n",
      "           0    0.85387   0.93702   0.89352     11973\n",
      "           1    0.57664   0.34849   0.43443      2947\n",
      "\n",
      "    accuracy                        0.82078     14920\n",
      "   macro avg    0.71526   0.64276   0.66398     14920\n",
      "weighted avg    0.79911   0.82078   0.80284     14920\n",
      "\n",
      "\n",
      "model name: SVC\n",
      "0.919106116048092 0.8733243967828418\n",
      "              precision    recall  f1-score   support\n",
      "\n",
      "           0    0.88766   0.96572   0.92505     12077\n",
      "           1    0.76755   0.48083   0.59126      2843\n",
      "\n",
      "    accuracy                        0.87332     14920\n",
      "   macro avg    0.82760   0.72328   0.75816     14920\n",
      "weighted avg    0.86477   0.87332   0.86145     14920\n",
      "\n",
      "\n",
      "model name: Gnb\n",
      "0.7265700843850347 0.8429624664879356\n",
      "              precision    recall  f1-score   support\n",
      "\n",
      "           0    0.87906   0.93872   0.90791     12304\n",
      "           1    0.57664   0.39258   0.46714      2616\n",
      "\n",
      "    accuracy                        0.84296     14920\n",
      "   macro avg    0.72785   0.66565   0.68752     14920\n",
      "weighted avg    0.82604   0.84296   0.83063     14920\n",
      "\n",
      "\n",
      "model name: Bnb\n"
     ]
    },
    {
     "name": "stderr",
     "output_type": "stream",
     "text": [
      "C:\\Users\\rishw\\anaconda3\\lib\\site-packages\\sklearn\\utils\\deprecation.py:103: FutureWarning: Attribute `coef_` was deprecated in version 0.24 and will be removed in 1.1 (renaming of 0.26).\n",
      "  warnings.warn(msg, category=FutureWarning)\n",
      "C:\\Users\\rishw\\anaconda3\\lib\\site-packages\\sklearn\\utils\\deprecation.py:103: FutureWarning: Attribute `coef_` was deprecated in version 0.24 and will be removed in 1.1 (renaming of 0.26).\n",
      "  warnings.warn(msg, category=FutureWarning)\n",
      "C:\\Users\\rishw\\anaconda3\\lib\\site-packages\\sklearn\\utils\\deprecation.py:103: FutureWarning: Attribute `coef_` was deprecated in version 0.24 and will be removed in 1.1 (renaming of 0.26).\n",
      "  warnings.warn(msg, category=FutureWarning)\n",
      "C:\\Users\\rishw\\anaconda3\\lib\\site-packages\\sklearn\\utils\\deprecation.py:103: FutureWarning: Attribute `coef_` was deprecated in version 0.24 and will be removed in 1.1 (renaming of 0.26).\n",
      "  warnings.warn(msg, category=FutureWarning)\n",
      "C:\\Users\\rishw\\anaconda3\\lib\\site-packages\\sklearn\\utils\\deprecation.py:103: FutureWarning: Attribute `coef_` was deprecated in version 0.24 and will be removed in 1.1 (renaming of 0.26).\n",
      "  warnings.warn(msg, category=FutureWarning)\n",
      "C:\\Users\\rishw\\anaconda3\\lib\\site-packages\\sklearn\\utils\\deprecation.py:103: FutureWarning: Attribute `coef_` was deprecated in version 0.24 and will be removed in 1.1 (renaming of 0.26).\n",
      "  warnings.warn(msg, category=FutureWarning)\n",
      "C:\\Users\\rishw\\anaconda3\\lib\\site-packages\\sklearn\\utils\\deprecation.py:103: FutureWarning: Attribute `coef_` was deprecated in version 0.24 and will be removed in 1.1 (renaming of 0.26).\n",
      "  warnings.warn(msg, category=FutureWarning)\n",
      "C:\\Users\\rishw\\anaconda3\\lib\\site-packages\\sklearn\\utils\\deprecation.py:103: FutureWarning: Attribute `coef_` was deprecated in version 0.24 and will be removed in 1.1 (renaming of 0.26).\n",
      "  warnings.warn(msg, category=FutureWarning)\n",
      "C:\\Users\\rishw\\anaconda3\\lib\\site-packages\\sklearn\\utils\\deprecation.py:103: FutureWarning: Attribute `coef_` was deprecated in version 0.24 and will be removed in 1.1 (renaming of 0.26).\n",
      "  warnings.warn(msg, category=FutureWarning)\n",
      "C:\\Users\\rishw\\anaconda3\\lib\\site-packages\\sklearn\\utils\\deprecation.py:103: FutureWarning: Attribute `coef_` was deprecated in version 0.24 and will be removed in 1.1 (renaming of 0.26).\n",
      "  warnings.warn(msg, category=FutureWarning)\n",
      "C:\\Users\\rishw\\anaconda3\\lib\\site-packages\\sklearn\\utils\\deprecation.py:103: FutureWarning: Attribute `coef_` was deprecated in version 0.24 and will be removed in 1.1 (renaming of 0.26).\n",
      "  warnings.warn(msg, category=FutureWarning)\n",
      "C:\\Users\\rishw\\anaconda3\\lib\\site-packages\\sklearn\\utils\\deprecation.py:103: FutureWarning: Attribute `coef_` was deprecated in version 0.24 and will be removed in 1.1 (renaming of 0.26).\n",
      "  warnings.warn(msg, category=FutureWarning)\n",
      "C:\\Users\\rishw\\anaconda3\\lib\\site-packages\\sklearn\\utils\\deprecation.py:103: FutureWarning: Attribute `coef_` was deprecated in version 0.24 and will be removed in 1.1 (renaming of 0.26).\n",
      "  warnings.warn(msg, category=FutureWarning)\n",
      "C:\\Users\\rishw\\anaconda3\\lib\\site-packages\\sklearn\\utils\\deprecation.py:103: FutureWarning: Attribute `coef_` was deprecated in version 0.24 and will be removed in 1.1 (renaming of 0.26).\n",
      "  warnings.warn(msg, category=FutureWarning)\n",
      "C:\\Users\\rishw\\anaconda3\\lib\\site-packages\\sklearn\\utils\\deprecation.py:103: FutureWarning: Attribute `coef_` was deprecated in version 0.24 and will be removed in 1.1 (renaming of 0.26).\n",
      "  warnings.warn(msg, category=FutureWarning)\n",
      "C:\\Users\\rishw\\anaconda3\\lib\\site-packages\\sklearn\\utils\\deprecation.py:103: FutureWarning: Attribute `coef_` was deprecated in version 0.24 and will be removed in 1.1 (renaming of 0.26).\n",
      "  warnings.warn(msg, category=FutureWarning)\n",
      "C:\\Users\\rishw\\anaconda3\\lib\\site-packages\\sklearn\\utils\\deprecation.py:103: FutureWarning: Attribute `coef_` was deprecated in version 0.24 and will be removed in 1.1 (renaming of 0.26).\n",
      "  warnings.warn(msg, category=FutureWarning)\n",
      "C:\\Users\\rishw\\anaconda3\\lib\\site-packages\\sklearn\\utils\\deprecation.py:103: FutureWarning: Attribute `coef_` was deprecated in version 0.24 and will be removed in 1.1 (renaming of 0.26).\n",
      "  warnings.warn(msg, category=FutureWarning)\n",
      "C:\\Users\\rishw\\anaconda3\\lib\\site-packages\\sklearn\\utils\\deprecation.py:103: FutureWarning: Attribute `coef_` was deprecated in version 0.24 and will be removed in 1.1 (renaming of 0.26).\n",
      "  warnings.warn(msg, category=FutureWarning)\n",
      "C:\\Users\\rishw\\anaconda3\\lib\\site-packages\\sklearn\\utils\\deprecation.py:103: FutureWarning: Attribute `coef_` was deprecated in version 0.24 and will be removed in 1.1 (renaming of 0.26).\n",
      "  warnings.warn(msg, category=FutureWarning)\n",
      "C:\\Users\\rishw\\anaconda3\\lib\\site-packages\\sklearn\\utils\\deprecation.py:103: FutureWarning: Attribute `coef_` was deprecated in version 0.24 and will be removed in 1.1 (renaming of 0.26).\n",
      "  warnings.warn(msg, category=FutureWarning)\n",
      "C:\\Users\\rishw\\anaconda3\\lib\\site-packages\\sklearn\\utils\\deprecation.py:103: FutureWarning: Attribute `coef_` was deprecated in version 0.24 and will be removed in 1.1 (renaming of 0.26).\n",
      "  warnings.warn(msg, category=FutureWarning)\n",
      "C:\\Users\\rishw\\anaconda3\\lib\\site-packages\\sklearn\\utils\\deprecation.py:103: FutureWarning: Attribute `coef_` was deprecated in version 0.24 and will be removed in 1.1 (renaming of 0.26).\n",
      "  warnings.warn(msg, category=FutureWarning)\n",
      "C:\\Users\\rishw\\anaconda3\\lib\\site-packages\\sklearn\\utils\\deprecation.py:103: FutureWarning: Attribute `coef_` was deprecated in version 0.24 and will be removed in 1.1 (renaming of 0.26).\n",
      "  warnings.warn(msg, category=FutureWarning)\n",
      "C:\\Users\\rishw\\anaconda3\\lib\\site-packages\\sklearn\\utils\\deprecation.py:103: FutureWarning: Attribute `coef_` was deprecated in version 0.24 and will be removed in 1.1 (renaming of 0.26).\n",
      "  warnings.warn(msg, category=FutureWarning)\n",
      "C:\\Users\\rishw\\anaconda3\\lib\\site-packages\\sklearn\\utils\\deprecation.py:103: FutureWarning: Attribute `coef_` was deprecated in version 0.24 and will be removed in 1.1 (renaming of 0.26).\n",
      "  warnings.warn(msg, category=FutureWarning)\n",
      "C:\\Users\\rishw\\anaconda3\\lib\\site-packages\\sklearn\\utils\\deprecation.py:103: FutureWarning: Attribute `coef_` was deprecated in version 0.24 and will be removed in 1.1 (renaming of 0.26).\n",
      "  warnings.warn(msg, category=FutureWarning)\n",
      "C:\\Users\\rishw\\anaconda3\\lib\\site-packages\\sklearn\\utils\\deprecation.py:103: FutureWarning: Attribute `coef_` was deprecated in version 0.24 and will be removed in 1.1 (renaming of 0.26).\n",
      "  warnings.warn(msg, category=FutureWarning)\n",
      "C:\\Users\\rishw\\anaconda3\\lib\\site-packages\\sklearn\\utils\\deprecation.py:103: FutureWarning: Attribute `coef_` was deprecated in version 0.24 and will be removed in 1.1 (renaming of 0.26).\n",
      "  warnings.warn(msg, category=FutureWarning)\n",
      "C:\\Users\\rishw\\anaconda3\\lib\\site-packages\\sklearn\\utils\\deprecation.py:103: FutureWarning: Attribute `coef_` was deprecated in version 0.24 and will be removed in 1.1 (renaming of 0.26).\n",
      "  warnings.warn(msg, category=FutureWarning)\n",
      "C:\\Users\\rishw\\anaconda3\\lib\\site-packages\\sklearn\\utils\\deprecation.py:103: FutureWarning: Attribute `coef_` was deprecated in version 0.24 and will be removed in 1.1 (renaming of 0.26).\n",
      "  warnings.warn(msg, category=FutureWarning)\n",
      "C:\\Users\\rishw\\anaconda3\\lib\\site-packages\\sklearn\\utils\\deprecation.py:103: FutureWarning: Attribute `coef_` was deprecated in version 0.24 and will be removed in 1.1 (renaming of 0.26).\n",
      "  warnings.warn(msg, category=FutureWarning)\n",
      "C:\\Users\\rishw\\anaconda3\\lib\\site-packages\\sklearn\\utils\\deprecation.py:103: FutureWarning: Attribute `coef_` was deprecated in version 0.24 and will be removed in 1.1 (renaming of 0.26).\n",
      "  warnings.warn(msg, category=FutureWarning)\n"
     ]
    },
    {
     "name": "stdout",
     "output_type": "stream",
     "text": [
      "0.5108841759390635 0.18451742627345843\n",
      "              precision    recall  f1-score   support\n",
      "\n",
      "           0    0.08007   0.92933   0.14743      1132\n",
      "           1    0.95508   0.12337   0.21851     13788\n",
      "\n",
      "    accuracy                        0.18452     14920\n",
      "   macro avg    0.51757   0.52635   0.18297     14920\n",
      "weighted avg    0.88869   0.18452   0.21312     14920\n",
      "\n",
      "\n"
     ]
    },
    {
     "name": "stderr",
     "output_type": "stream",
     "text": [
      "C:\\Users\\rishw\\anaconda3\\lib\\site-packages\\sklearn\\utils\\deprecation.py:103: FutureWarning: Attribute `coef_` was deprecated in version 0.24 and will be removed in 1.1 (renaming of 0.26).\n",
      "  warnings.warn(msg, category=FutureWarning)\n",
      "C:\\Users\\rishw\\anaconda3\\lib\\site-packages\\sklearn\\utils\\deprecation.py:103: FutureWarning: Attribute `coef_` was deprecated in version 0.24 and will be removed in 1.1 (renaming of 0.26).\n",
      "  warnings.warn(msg, category=FutureWarning)\n",
      "C:\\Users\\rishw\\anaconda3\\lib\\site-packages\\sklearn\\utils\\deprecation.py:103: FutureWarning: Attribute `coef_` was deprecated in version 0.24 and will be removed in 1.1 (renaming of 0.26).\n",
      "  warnings.warn(msg, category=FutureWarning)\n",
      "C:\\Users\\rishw\\anaconda3\\lib\\site-packages\\sklearn\\utils\\deprecation.py:103: FutureWarning: Attribute `coef_` was deprecated in version 0.24 and will be removed in 1.1 (renaming of 0.26).\n",
      "  warnings.warn(msg, category=FutureWarning)\n"
     ]
    }
   ],
   "source": [
    "ClassifierApplier(model_list, X_train2_smote, y_train2_smote, X_test2, y_test2)"
   ]
  },
  {
   "cell_type": "code",
   "execution_count": 117,
   "id": "bbba851a",
   "metadata": {},
   "outputs": [
    {
     "data": {
      "text/plain": [
       "(30290, 42)"
      ]
     },
     "execution_count": 117,
     "metadata": {},
     "output_type": "execute_result"
    }
   ],
   "source": [
    "X_train2.shape"
   ]
  },
  {
   "cell_type": "code",
   "execution_count": 118,
   "id": "403cecc2",
   "metadata": {},
   "outputs": [
    {
     "data": {
      "text/plain": [
       "(53564, 42)"
      ]
     },
     "execution_count": 118,
     "metadata": {},
     "output_type": "execute_result"
    }
   ],
   "source": [
    "X_train2_smote.shape"
   ]
  },
  {
   "cell_type": "code",
   "execution_count": 119,
   "id": "37cb885a",
   "metadata": {},
   "outputs": [],
   "source": [
    "under = RandomUnderSampler(sampling_strategy=0.7)\n",
    "X_train2_under, y_train2_under = under.fit_resample(X_train2, y_train2)"
   ]
  },
  {
   "cell_type": "code",
   "execution_count": 120,
   "id": "853fa30f",
   "metadata": {},
   "outputs": [
    {
     "data": {
      "text/plain": [
       "0    0.588215\n",
       "1    0.411785\n",
       "Name: y, dtype: float64"
      ]
     },
     "execution_count": 120,
     "metadata": {},
     "output_type": "execute_result"
    }
   ],
   "source": [
    "y_train2_under.value_counts()/len(y_train2_under)"
   ]
  },
  {
   "cell_type": "code",
   "execution_count": 121,
   "id": "66597938",
   "metadata": {},
   "outputs": [
    {
     "data": {
      "text/plain": [
       "(8519, 42)"
      ]
     },
     "execution_count": 121,
     "metadata": {},
     "output_type": "execute_result"
    }
   ],
   "source": [
    "X_train2_under.shape"
   ]
  },
  {
   "cell_type": "code",
   "execution_count": 122,
   "id": "17e48a0c",
   "metadata": {},
   "outputs": [
    {
     "name": "stdout",
     "output_type": "stream",
     "text": [
      "model name: log\n",
      "0.7856555933795046 0.8705764075067024\n",
      "              precision    recall  f1-score   support\n",
      "\n",
      "           0    0.90593   0.94483   0.92497     12598\n",
      "           1    0.60977   0.46770   0.52937      2322\n",
      "\n",
      "    accuracy                        0.87058     14920\n",
      "   macro avg    0.75785   0.70627   0.72717     14920\n",
      "weighted avg    0.85984   0.87058   0.86340     14920\n",
      "\n",
      "\n",
      "model name: dt\n",
      "1.0 0.7415549597855228\n",
      "              precision    recall  f1-score   support\n",
      "\n",
      "           0    0.75303   0.94184   0.83691     10505\n",
      "           1    0.65693   0.26501   0.37766      4415\n",
      "\n",
      "    accuracy                        0.74155     14920\n",
      "   macro avg    0.70498   0.60342   0.60729     14920\n",
      "weighted avg    0.72459   0.74155   0.70102     14920\n",
      "\n",
      "\n",
      "model name: knn\n",
      "0.8118323746918652 0.8107908847184987\n",
      "              precision    recall  f1-score   support\n",
      "\n",
      "           0    0.84223   0.93653   0.88688     11816\n",
      "           1    0.57889   0.33215   0.42211      3104\n",
      "\n",
      "    accuracy                        0.81079     14920\n",
      "   macro avg    0.71056   0.63434   0.65449     14920\n",
      "weighted avg    0.78744   0.81079   0.79018     14920\n",
      "\n",
      "\n",
      "model name: SVC\n",
      "0.8457565441953281 0.8700402144772118\n",
      "              precision    recall  f1-score   support\n",
      "\n",
      "           0    0.88888   0.96060   0.92335     12158\n",
      "           1    0.73105   0.47140   0.57319      2762\n",
      "\n",
      "    accuracy                        0.87004     14920\n",
      "   macro avg    0.80997   0.71600   0.74827     14920\n",
      "weighted avg    0.85966   0.87004   0.85853     14920\n",
      "\n",
      "\n",
      "model name: Gnb\n",
      "0.7437492663458153 0.8522788203753351\n",
      "              precision    recall  f1-score   support\n",
      "\n",
      "           0    0.89680   0.93286   0.91447     12631\n",
      "           1    0.52386   0.40760   0.45848      2289\n",
      "\n",
      "    accuracy                        0.85228     14920\n",
      "   macro avg    0.71033   0.67023   0.68648     14920\n",
      "weighted avg    0.83958   0.85228   0.84452     14920\n",
      "\n",
      "\n",
      "model name: Bnb\n",
      "0.5946707360018781 0.8805630026809651\n",
      "              precision    recall  f1-score   support\n",
      "\n",
      "           0    0.99756   0.88221   0.93635     14857\n",
      "           1    0.01741   0.49206   0.03362        63\n",
      "\n",
      "    accuracy                        0.88056     14920\n",
      "   macro avg    0.50749   0.68714   0.48499     14920\n",
      "weighted avg    0.99343   0.88056   0.93254     14920\n",
      "\n",
      "\n"
     ]
    },
    {
     "name": "stderr",
     "output_type": "stream",
     "text": [
      "C:\\Users\\rishw\\anaconda3\\lib\\site-packages\\sklearn\\utils\\deprecation.py:103: FutureWarning: Attribute `coef_` was deprecated in version 0.24 and will be removed in 1.1 (renaming of 0.26).\n",
      "  warnings.warn(msg, category=FutureWarning)\n",
      "C:\\Users\\rishw\\anaconda3\\lib\\site-packages\\sklearn\\utils\\deprecation.py:103: FutureWarning: Attribute `coef_` was deprecated in version 0.24 and will be removed in 1.1 (renaming of 0.26).\n",
      "  warnings.warn(msg, category=FutureWarning)\n",
      "C:\\Users\\rishw\\anaconda3\\lib\\site-packages\\sklearn\\utils\\deprecation.py:103: FutureWarning: Attribute `coef_` was deprecated in version 0.24 and will be removed in 1.1 (renaming of 0.26).\n",
      "  warnings.warn(msg, category=FutureWarning)\n",
      "C:\\Users\\rishw\\anaconda3\\lib\\site-packages\\sklearn\\utils\\deprecation.py:103: FutureWarning: Attribute `coef_` was deprecated in version 0.24 and will be removed in 1.1 (renaming of 0.26).\n",
      "  warnings.warn(msg, category=FutureWarning)\n",
      "C:\\Users\\rishw\\anaconda3\\lib\\site-packages\\sklearn\\utils\\deprecation.py:103: FutureWarning: Attribute `coef_` was deprecated in version 0.24 and will be removed in 1.1 (renaming of 0.26).\n",
      "  warnings.warn(msg, category=FutureWarning)\n",
      "C:\\Users\\rishw\\anaconda3\\lib\\site-packages\\sklearn\\utils\\deprecation.py:103: FutureWarning: Attribute `coef_` was deprecated in version 0.24 and will be removed in 1.1 (renaming of 0.26).\n",
      "  warnings.warn(msg, category=FutureWarning)\n",
      "C:\\Users\\rishw\\anaconda3\\lib\\site-packages\\sklearn\\utils\\deprecation.py:103: FutureWarning: Attribute `coef_` was deprecated in version 0.24 and will be removed in 1.1 (renaming of 0.26).\n",
      "  warnings.warn(msg, category=FutureWarning)\n",
      "C:\\Users\\rishw\\anaconda3\\lib\\site-packages\\sklearn\\utils\\deprecation.py:103: FutureWarning: Attribute `coef_` was deprecated in version 0.24 and will be removed in 1.1 (renaming of 0.26).\n",
      "  warnings.warn(msg, category=FutureWarning)\n",
      "C:\\Users\\rishw\\anaconda3\\lib\\site-packages\\sklearn\\utils\\deprecation.py:103: FutureWarning: Attribute `coef_` was deprecated in version 0.24 and will be removed in 1.1 (renaming of 0.26).\n",
      "  warnings.warn(msg, category=FutureWarning)\n",
      "C:\\Users\\rishw\\anaconda3\\lib\\site-packages\\sklearn\\utils\\deprecation.py:103: FutureWarning: Attribute `coef_` was deprecated in version 0.24 and will be removed in 1.1 (renaming of 0.26).\n",
      "  warnings.warn(msg, category=FutureWarning)\n",
      "C:\\Users\\rishw\\anaconda3\\lib\\site-packages\\sklearn\\utils\\deprecation.py:103: FutureWarning: Attribute `coef_` was deprecated in version 0.24 and will be removed in 1.1 (renaming of 0.26).\n",
      "  warnings.warn(msg, category=FutureWarning)\n",
      "C:\\Users\\rishw\\anaconda3\\lib\\site-packages\\sklearn\\utils\\deprecation.py:103: FutureWarning: Attribute `coef_` was deprecated in version 0.24 and will be removed in 1.1 (renaming of 0.26).\n",
      "  warnings.warn(msg, category=FutureWarning)\n",
      "C:\\Users\\rishw\\anaconda3\\lib\\site-packages\\sklearn\\utils\\deprecation.py:103: FutureWarning: Attribute `coef_` was deprecated in version 0.24 and will be removed in 1.1 (renaming of 0.26).\n",
      "  warnings.warn(msg, category=FutureWarning)\n",
      "C:\\Users\\rishw\\anaconda3\\lib\\site-packages\\sklearn\\utils\\deprecation.py:103: FutureWarning: Attribute `coef_` was deprecated in version 0.24 and will be removed in 1.1 (renaming of 0.26).\n",
      "  warnings.warn(msg, category=FutureWarning)\n",
      "C:\\Users\\rishw\\anaconda3\\lib\\site-packages\\sklearn\\utils\\deprecation.py:103: FutureWarning: Attribute `coef_` was deprecated in version 0.24 and will be removed in 1.1 (renaming of 0.26).\n",
      "  warnings.warn(msg, category=FutureWarning)\n",
      "C:\\Users\\rishw\\anaconda3\\lib\\site-packages\\sklearn\\utils\\deprecation.py:103: FutureWarning: Attribute `coef_` was deprecated in version 0.24 and will be removed in 1.1 (renaming of 0.26).\n",
      "  warnings.warn(msg, category=FutureWarning)\n",
      "C:\\Users\\rishw\\anaconda3\\lib\\site-packages\\sklearn\\utils\\deprecation.py:103: FutureWarning: Attribute `coef_` was deprecated in version 0.24 and will be removed in 1.1 (renaming of 0.26).\n",
      "  warnings.warn(msg, category=FutureWarning)\n",
      "C:\\Users\\rishw\\anaconda3\\lib\\site-packages\\sklearn\\utils\\deprecation.py:103: FutureWarning: Attribute `coef_` was deprecated in version 0.24 and will be removed in 1.1 (renaming of 0.26).\n",
      "  warnings.warn(msg, category=FutureWarning)\n",
      "C:\\Users\\rishw\\anaconda3\\lib\\site-packages\\sklearn\\utils\\deprecation.py:103: FutureWarning: Attribute `coef_` was deprecated in version 0.24 and will be removed in 1.1 (renaming of 0.26).\n",
      "  warnings.warn(msg, category=FutureWarning)\n",
      "C:\\Users\\rishw\\anaconda3\\lib\\site-packages\\sklearn\\utils\\deprecation.py:103: FutureWarning: Attribute `coef_` was deprecated in version 0.24 and will be removed in 1.1 (renaming of 0.26).\n",
      "  warnings.warn(msg, category=FutureWarning)\n",
      "C:\\Users\\rishw\\anaconda3\\lib\\site-packages\\sklearn\\utils\\deprecation.py:103: FutureWarning: Attribute `coef_` was deprecated in version 0.24 and will be removed in 1.1 (renaming of 0.26).\n",
      "  warnings.warn(msg, category=FutureWarning)\n",
      "C:\\Users\\rishw\\anaconda3\\lib\\site-packages\\sklearn\\utils\\deprecation.py:103: FutureWarning: Attribute `coef_` was deprecated in version 0.24 and will be removed in 1.1 (renaming of 0.26).\n",
      "  warnings.warn(msg, category=FutureWarning)\n",
      "C:\\Users\\rishw\\anaconda3\\lib\\site-packages\\sklearn\\utils\\deprecation.py:103: FutureWarning: Attribute `coef_` was deprecated in version 0.24 and will be removed in 1.1 (renaming of 0.26).\n",
      "  warnings.warn(msg, category=FutureWarning)\n",
      "C:\\Users\\rishw\\anaconda3\\lib\\site-packages\\sklearn\\utils\\deprecation.py:103: FutureWarning: Attribute `coef_` was deprecated in version 0.24 and will be removed in 1.1 (renaming of 0.26).\n",
      "  warnings.warn(msg, category=FutureWarning)\n",
      "C:\\Users\\rishw\\anaconda3\\lib\\site-packages\\sklearn\\utils\\deprecation.py:103: FutureWarning: Attribute `coef_` was deprecated in version 0.24 and will be removed in 1.1 (renaming of 0.26).\n",
      "  warnings.warn(msg, category=FutureWarning)\n",
      "C:\\Users\\rishw\\anaconda3\\lib\\site-packages\\sklearn\\utils\\deprecation.py:103: FutureWarning: Attribute `coef_` was deprecated in version 0.24 and will be removed in 1.1 (renaming of 0.26).\n",
      "  warnings.warn(msg, category=FutureWarning)\n",
      "C:\\Users\\rishw\\anaconda3\\lib\\site-packages\\sklearn\\utils\\deprecation.py:103: FutureWarning: Attribute `coef_` was deprecated in version 0.24 and will be removed in 1.1 (renaming of 0.26).\n",
      "  warnings.warn(msg, category=FutureWarning)\n",
      "C:\\Users\\rishw\\anaconda3\\lib\\site-packages\\sklearn\\utils\\deprecation.py:103: FutureWarning: Attribute `coef_` was deprecated in version 0.24 and will be removed in 1.1 (renaming of 0.26).\n",
      "  warnings.warn(msg, category=FutureWarning)\n",
      "C:\\Users\\rishw\\anaconda3\\lib\\site-packages\\sklearn\\utils\\deprecation.py:103: FutureWarning: Attribute `coef_` was deprecated in version 0.24 and will be removed in 1.1 (renaming of 0.26).\n",
      "  warnings.warn(msg, category=FutureWarning)\n",
      "C:\\Users\\rishw\\anaconda3\\lib\\site-packages\\sklearn\\utils\\deprecation.py:103: FutureWarning: Attribute `coef_` was deprecated in version 0.24 and will be removed in 1.1 (renaming of 0.26).\n",
      "  warnings.warn(msg, category=FutureWarning)\n",
      "C:\\Users\\rishw\\anaconda3\\lib\\site-packages\\sklearn\\utils\\deprecation.py:103: FutureWarning: Attribute `coef_` was deprecated in version 0.24 and will be removed in 1.1 (renaming of 0.26).\n",
      "  warnings.warn(msg, category=FutureWarning)\n",
      "C:\\Users\\rishw\\anaconda3\\lib\\site-packages\\sklearn\\utils\\deprecation.py:103: FutureWarning: Attribute `coef_` was deprecated in version 0.24 and will be removed in 1.1 (renaming of 0.26).\n",
      "  warnings.warn(msg, category=FutureWarning)\n",
      "C:\\Users\\rishw\\anaconda3\\lib\\site-packages\\sklearn\\utils\\deprecation.py:103: FutureWarning: Attribute `coef_` was deprecated in version 0.24 and will be removed in 1.1 (renaming of 0.26).\n",
      "  warnings.warn(msg, category=FutureWarning)\n",
      "C:\\Users\\rishw\\anaconda3\\lib\\site-packages\\sklearn\\utils\\deprecation.py:103: FutureWarning: Attribute `coef_` was deprecated in version 0.24 and will be removed in 1.1 (renaming of 0.26).\n",
      "  warnings.warn(msg, category=FutureWarning)\n",
      "C:\\Users\\rishw\\anaconda3\\lib\\site-packages\\sklearn\\utils\\deprecation.py:103: FutureWarning: Attribute `coef_` was deprecated in version 0.24 and will be removed in 1.1 (renaming of 0.26).\n",
      "  warnings.warn(msg, category=FutureWarning)\n",
      "C:\\Users\\rishw\\anaconda3\\lib\\site-packages\\sklearn\\utils\\deprecation.py:103: FutureWarning: Attribute `coef_` was deprecated in version 0.24 and will be removed in 1.1 (renaming of 0.26).\n",
      "  warnings.warn(msg, category=FutureWarning)\n",
      "C:\\Users\\rishw\\anaconda3\\lib\\site-packages\\sklearn\\utils\\deprecation.py:103: FutureWarning: Attribute `coef_` was deprecated in version 0.24 and will be removed in 1.1 (renaming of 0.26).\n",
      "  warnings.warn(msg, category=FutureWarning)\n"
     ]
    }
   ],
   "source": [
    "ClassifierApplier(model_list, X_train2_under, y_train2_under, X_test2, y_test2)"
   ]
  },
  {
   "cell_type": "code",
   "execution_count": 123,
   "id": "6d9829fc",
   "metadata": {},
   "outputs": [
    {
     "name": "stdout",
     "output_type": "stream",
     "text": [
      "model name: log\n",
      "0.7856555933795046 0.8705764075067024\n",
      "              precision    recall  f1-score   support\n",
      "\n",
      "           0    0.90593   0.94483   0.92497     12598\n",
      "           1    0.60977   0.46770   0.52937      2322\n",
      "\n",
      "    accuracy                        0.87058     14920\n",
      "   macro avg    0.75785   0.70627   0.72717     14920\n",
      "weighted avg    0.85984   0.87058   0.86340     14920\n",
      "\n",
      "\n",
      "model name: dt\n",
      "1.0 0.7411528150134048\n",
      "              precision    recall  f1-score   support\n",
      "\n",
      "           0    0.75234   0.94206   0.83658     10493\n",
      "           1    0.65862   0.26496   0.37790      4427\n",
      "\n",
      "    accuracy                        0.74115     14920\n",
      "   macro avg    0.70548   0.60351   0.60724     14920\n",
      "weighted avg    0.72453   0.74115   0.70048     14920\n",
      "\n",
      "\n",
      "model name: knn\n",
      "0.8118323746918652 0.8107908847184987\n",
      "              precision    recall  f1-score   support\n",
      "\n",
      "           0    0.84223   0.93653   0.88688     11816\n",
      "           1    0.57889   0.33215   0.42211      3104\n",
      "\n",
      "    accuracy                        0.81079     14920\n",
      "   macro avg    0.71056   0.63434   0.65449     14920\n",
      "weighted avg    0.78744   0.81079   0.79018     14920\n",
      "\n",
      "\n",
      "model name: SVC\n",
      "0.8457565441953281 0.8700402144772118\n",
      "              precision    recall  f1-score   support\n",
      "\n",
      "           0    0.88888   0.96060   0.92335     12158\n",
      "           1    0.73105   0.47140   0.57319      2762\n",
      "\n",
      "    accuracy                        0.87004     14920\n",
      "   macro avg    0.80997   0.71600   0.74827     14920\n",
      "weighted avg    0.85966   0.87004   0.85853     14920\n",
      "\n",
      "\n",
      "model name: Gnb\n",
      "0.7437492663458153 0.8522788203753351\n",
      "              precision    recall  f1-score   support\n",
      "\n",
      "           0    0.89680   0.93286   0.91447     12631\n",
      "           1    0.52386   0.40760   0.45848      2289\n",
      "\n",
      "    accuracy                        0.85228     14920\n",
      "   macro avg    0.71033   0.67023   0.68648     14920\n",
      "weighted avg    0.83958   0.85228   0.84452     14920\n",
      "\n",
      "\n",
      "model name: Bnb\n",
      "0.5946707360018781 0.8805630026809651\n",
      "              precision    recall  f1-score   support\n",
      "\n",
      "           0    0.99756   0.88221   0.93635     14857\n",
      "           1    0.01741   0.49206   0.03362        63\n",
      "\n",
      "    accuracy                        0.88056     14920\n",
      "   macro avg    0.50749   0.68714   0.48499     14920\n",
      "weighted avg    0.99343   0.88056   0.93254     14920\n",
      "\n",
      "\n"
     ]
    },
    {
     "name": "stderr",
     "output_type": "stream",
     "text": [
      "C:\\Users\\rishw\\anaconda3\\lib\\site-packages\\sklearn\\utils\\deprecation.py:103: FutureWarning: Attribute `coef_` was deprecated in version 0.24 and will be removed in 1.1 (renaming of 0.26).\n",
      "  warnings.warn(msg, category=FutureWarning)\n",
      "C:\\Users\\rishw\\anaconda3\\lib\\site-packages\\sklearn\\utils\\deprecation.py:103: FutureWarning: Attribute `coef_` was deprecated in version 0.24 and will be removed in 1.1 (renaming of 0.26).\n",
      "  warnings.warn(msg, category=FutureWarning)\n",
      "C:\\Users\\rishw\\anaconda3\\lib\\site-packages\\sklearn\\utils\\deprecation.py:103: FutureWarning: Attribute `coef_` was deprecated in version 0.24 and will be removed in 1.1 (renaming of 0.26).\n",
      "  warnings.warn(msg, category=FutureWarning)\n",
      "C:\\Users\\rishw\\anaconda3\\lib\\site-packages\\sklearn\\utils\\deprecation.py:103: FutureWarning: Attribute `coef_` was deprecated in version 0.24 and will be removed in 1.1 (renaming of 0.26).\n",
      "  warnings.warn(msg, category=FutureWarning)\n",
      "C:\\Users\\rishw\\anaconda3\\lib\\site-packages\\sklearn\\utils\\deprecation.py:103: FutureWarning: Attribute `coef_` was deprecated in version 0.24 and will be removed in 1.1 (renaming of 0.26).\n",
      "  warnings.warn(msg, category=FutureWarning)\n",
      "C:\\Users\\rishw\\anaconda3\\lib\\site-packages\\sklearn\\utils\\deprecation.py:103: FutureWarning: Attribute `coef_` was deprecated in version 0.24 and will be removed in 1.1 (renaming of 0.26).\n",
      "  warnings.warn(msg, category=FutureWarning)\n",
      "C:\\Users\\rishw\\anaconda3\\lib\\site-packages\\sklearn\\utils\\deprecation.py:103: FutureWarning: Attribute `coef_` was deprecated in version 0.24 and will be removed in 1.1 (renaming of 0.26).\n",
      "  warnings.warn(msg, category=FutureWarning)\n",
      "C:\\Users\\rishw\\anaconda3\\lib\\site-packages\\sklearn\\utils\\deprecation.py:103: FutureWarning: Attribute `coef_` was deprecated in version 0.24 and will be removed in 1.1 (renaming of 0.26).\n",
      "  warnings.warn(msg, category=FutureWarning)\n",
      "C:\\Users\\rishw\\anaconda3\\lib\\site-packages\\sklearn\\utils\\deprecation.py:103: FutureWarning: Attribute `coef_` was deprecated in version 0.24 and will be removed in 1.1 (renaming of 0.26).\n",
      "  warnings.warn(msg, category=FutureWarning)\n",
      "C:\\Users\\rishw\\anaconda3\\lib\\site-packages\\sklearn\\utils\\deprecation.py:103: FutureWarning: Attribute `coef_` was deprecated in version 0.24 and will be removed in 1.1 (renaming of 0.26).\n",
      "  warnings.warn(msg, category=FutureWarning)\n",
      "C:\\Users\\rishw\\anaconda3\\lib\\site-packages\\sklearn\\utils\\deprecation.py:103: FutureWarning: Attribute `coef_` was deprecated in version 0.24 and will be removed in 1.1 (renaming of 0.26).\n",
      "  warnings.warn(msg, category=FutureWarning)\n",
      "C:\\Users\\rishw\\anaconda3\\lib\\site-packages\\sklearn\\utils\\deprecation.py:103: FutureWarning: Attribute `coef_` was deprecated in version 0.24 and will be removed in 1.1 (renaming of 0.26).\n",
      "  warnings.warn(msg, category=FutureWarning)\n",
      "C:\\Users\\rishw\\anaconda3\\lib\\site-packages\\sklearn\\utils\\deprecation.py:103: FutureWarning: Attribute `coef_` was deprecated in version 0.24 and will be removed in 1.1 (renaming of 0.26).\n",
      "  warnings.warn(msg, category=FutureWarning)\n",
      "C:\\Users\\rishw\\anaconda3\\lib\\site-packages\\sklearn\\utils\\deprecation.py:103: FutureWarning: Attribute `coef_` was deprecated in version 0.24 and will be removed in 1.1 (renaming of 0.26).\n",
      "  warnings.warn(msg, category=FutureWarning)\n",
      "C:\\Users\\rishw\\anaconda3\\lib\\site-packages\\sklearn\\utils\\deprecation.py:103: FutureWarning: Attribute `coef_` was deprecated in version 0.24 and will be removed in 1.1 (renaming of 0.26).\n",
      "  warnings.warn(msg, category=FutureWarning)\n",
      "C:\\Users\\rishw\\anaconda3\\lib\\site-packages\\sklearn\\utils\\deprecation.py:103: FutureWarning: Attribute `coef_` was deprecated in version 0.24 and will be removed in 1.1 (renaming of 0.26).\n",
      "  warnings.warn(msg, category=FutureWarning)\n",
      "C:\\Users\\rishw\\anaconda3\\lib\\site-packages\\sklearn\\utils\\deprecation.py:103: FutureWarning: Attribute `coef_` was deprecated in version 0.24 and will be removed in 1.1 (renaming of 0.26).\n",
      "  warnings.warn(msg, category=FutureWarning)\n",
      "C:\\Users\\rishw\\anaconda3\\lib\\site-packages\\sklearn\\utils\\deprecation.py:103: FutureWarning: Attribute `coef_` was deprecated in version 0.24 and will be removed in 1.1 (renaming of 0.26).\n",
      "  warnings.warn(msg, category=FutureWarning)\n",
      "C:\\Users\\rishw\\anaconda3\\lib\\site-packages\\sklearn\\utils\\deprecation.py:103: FutureWarning: Attribute `coef_` was deprecated in version 0.24 and will be removed in 1.1 (renaming of 0.26).\n",
      "  warnings.warn(msg, category=FutureWarning)\n",
      "C:\\Users\\rishw\\anaconda3\\lib\\site-packages\\sklearn\\utils\\deprecation.py:103: FutureWarning: Attribute `coef_` was deprecated in version 0.24 and will be removed in 1.1 (renaming of 0.26).\n",
      "  warnings.warn(msg, category=FutureWarning)\n",
      "C:\\Users\\rishw\\anaconda3\\lib\\site-packages\\sklearn\\utils\\deprecation.py:103: FutureWarning: Attribute `coef_` was deprecated in version 0.24 and will be removed in 1.1 (renaming of 0.26).\n",
      "  warnings.warn(msg, category=FutureWarning)\n",
      "C:\\Users\\rishw\\anaconda3\\lib\\site-packages\\sklearn\\utils\\deprecation.py:103: FutureWarning: Attribute `coef_` was deprecated in version 0.24 and will be removed in 1.1 (renaming of 0.26).\n",
      "  warnings.warn(msg, category=FutureWarning)\n",
      "C:\\Users\\rishw\\anaconda3\\lib\\site-packages\\sklearn\\utils\\deprecation.py:103: FutureWarning: Attribute `coef_` was deprecated in version 0.24 and will be removed in 1.1 (renaming of 0.26).\n",
      "  warnings.warn(msg, category=FutureWarning)\n",
      "C:\\Users\\rishw\\anaconda3\\lib\\site-packages\\sklearn\\utils\\deprecation.py:103: FutureWarning: Attribute `coef_` was deprecated in version 0.24 and will be removed in 1.1 (renaming of 0.26).\n",
      "  warnings.warn(msg, category=FutureWarning)\n",
      "C:\\Users\\rishw\\anaconda3\\lib\\site-packages\\sklearn\\utils\\deprecation.py:103: FutureWarning: Attribute `coef_` was deprecated in version 0.24 and will be removed in 1.1 (renaming of 0.26).\n",
      "  warnings.warn(msg, category=FutureWarning)\n",
      "C:\\Users\\rishw\\anaconda3\\lib\\site-packages\\sklearn\\utils\\deprecation.py:103: FutureWarning: Attribute `coef_` was deprecated in version 0.24 and will be removed in 1.1 (renaming of 0.26).\n",
      "  warnings.warn(msg, category=FutureWarning)\n",
      "C:\\Users\\rishw\\anaconda3\\lib\\site-packages\\sklearn\\utils\\deprecation.py:103: FutureWarning: Attribute `coef_` was deprecated in version 0.24 and will be removed in 1.1 (renaming of 0.26).\n",
      "  warnings.warn(msg, category=FutureWarning)\n",
      "C:\\Users\\rishw\\anaconda3\\lib\\site-packages\\sklearn\\utils\\deprecation.py:103: FutureWarning: Attribute `coef_` was deprecated in version 0.24 and will be removed in 1.1 (renaming of 0.26).\n",
      "  warnings.warn(msg, category=FutureWarning)\n",
      "C:\\Users\\rishw\\anaconda3\\lib\\site-packages\\sklearn\\utils\\deprecation.py:103: FutureWarning: Attribute `coef_` was deprecated in version 0.24 and will be removed in 1.1 (renaming of 0.26).\n",
      "  warnings.warn(msg, category=FutureWarning)\n",
      "C:\\Users\\rishw\\anaconda3\\lib\\site-packages\\sklearn\\utils\\deprecation.py:103: FutureWarning: Attribute `coef_` was deprecated in version 0.24 and will be removed in 1.1 (renaming of 0.26).\n",
      "  warnings.warn(msg, category=FutureWarning)\n",
      "C:\\Users\\rishw\\anaconda3\\lib\\site-packages\\sklearn\\utils\\deprecation.py:103: FutureWarning: Attribute `coef_` was deprecated in version 0.24 and will be removed in 1.1 (renaming of 0.26).\n",
      "  warnings.warn(msg, category=FutureWarning)\n",
      "C:\\Users\\rishw\\anaconda3\\lib\\site-packages\\sklearn\\utils\\deprecation.py:103: FutureWarning: Attribute `coef_` was deprecated in version 0.24 and will be removed in 1.1 (renaming of 0.26).\n",
      "  warnings.warn(msg, category=FutureWarning)\n",
      "C:\\Users\\rishw\\anaconda3\\lib\\site-packages\\sklearn\\utils\\deprecation.py:103: FutureWarning: Attribute `coef_` was deprecated in version 0.24 and will be removed in 1.1 (renaming of 0.26).\n",
      "  warnings.warn(msg, category=FutureWarning)\n",
      "C:\\Users\\rishw\\anaconda3\\lib\\site-packages\\sklearn\\utils\\deprecation.py:103: FutureWarning: Attribute `coef_` was deprecated in version 0.24 and will be removed in 1.1 (renaming of 0.26).\n",
      "  warnings.warn(msg, category=FutureWarning)\n",
      "C:\\Users\\rishw\\anaconda3\\lib\\site-packages\\sklearn\\utils\\deprecation.py:103: FutureWarning: Attribute `coef_` was deprecated in version 0.24 and will be removed in 1.1 (renaming of 0.26).\n",
      "  warnings.warn(msg, category=FutureWarning)\n",
      "C:\\Users\\rishw\\anaconda3\\lib\\site-packages\\sklearn\\utils\\deprecation.py:103: FutureWarning: Attribute `coef_` was deprecated in version 0.24 and will be removed in 1.1 (renaming of 0.26).\n",
      "  warnings.warn(msg, category=FutureWarning)\n",
      "C:\\Users\\rishw\\anaconda3\\lib\\site-packages\\sklearn\\utils\\deprecation.py:103: FutureWarning: Attribute `coef_` was deprecated in version 0.24 and will be removed in 1.1 (renaming of 0.26).\n",
      "  warnings.warn(msg, category=FutureWarning)\n"
     ]
    }
   ],
   "source": [
    "ClassifierApplier(model_list, X_train2_under, y_train2_under, X_test2, y_test2)"
   ]
  },
  {
   "cell_type": "code",
   "execution_count": 124,
   "id": "f15299fe",
   "metadata": {},
   "outputs": [
    {
     "name": "stdout",
     "output_type": "stream",
     "text": [
      "model name: RF\n",
      "1.0 0.83156836461126\n",
      "              precision    recall  f1-score   support\n",
      "\n",
      "           0    0.84413   0.95976   0.89824     11556\n",
      "           1    0.73891   0.39120   0.51156      3364\n",
      "\n",
      "    accuracy                        0.83157     14920\n",
      "   macro avg    0.79152   0.67548   0.70490     14920\n",
      "weighted avg    0.82040   0.83157   0.81106     14920\n",
      "\n",
      "\n",
      "model name: Ada\n",
      "0.8084282192745628 0.8337801608579088\n",
      "              precision    recall  f1-score   support\n",
      "\n",
      "           0    0.84839   0.95806   0.89990     11635\n",
      "           1    0.72600   0.39361   0.51046      3285\n",
      "\n",
      "    accuracy                        0.83378     14920\n",
      "   macro avg    0.78719   0.67583   0.70518     14920\n",
      "weighted avg    0.82144   0.83378   0.81415     14920\n",
      "\n",
      "\n",
      "model name: Grad\n",
      "0.8228665336307078 0.8315013404825737\n",
      "              precision    recall  f1-score   support\n",
      "\n",
      "           0    0.83956   0.96450   0.89771     11437\n",
      "           1    0.77204   0.39477   0.52242      3483\n",
      "\n",
      "    accuracy                        0.83150     14920\n",
      "   macro avg    0.80580   0.67964   0.71006     14920\n",
      "weighted avg    0.82380   0.83150   0.81010     14920\n",
      "\n",
      "\n",
      "model name: XGB\n",
      "[15:11:04] WARNING: C:/Users/Administrator/workspace/xgboost-win64_release_1.5.0/src/learner.cc:1115: Starting in XGBoost 1.3.0, the default evaluation metric used with the objective 'binary:logistic' was changed from 'error' to 'logloss'. Explicitly set eval_metric if you'd like to restore the old behavior.\n"
     ]
    },
    {
     "name": "stderr",
     "output_type": "stream",
     "text": [
      "C:\\Users\\rishw\\anaconda3\\lib\\site-packages\\xgboost\\sklearn.py:1224: UserWarning: The use of label encoder in XGBClassifier is deprecated and will be removed in a future release. To remove this warning, do the following: 1) Pass option use_label_encoder=False when constructing XGBClassifier object; and 2) Encode your labels (y) as integers starting with 0, i.e. 0, 1, 2, ..., [num_class - 1].\n",
      "  warnings.warn(label_encoder_deprecation_msg, UserWarning)\n",
      "C:\\Users\\rishw\\anaconda3\\lib\\site-packages\\xgboost\\sklearn.py:1224: UserWarning: The use of label encoder in XGBClassifier is deprecated and will be removed in a future release. To remove this warning, do the following: 1) Pass option use_label_encoder=False when constructing XGBClassifier object; and 2) Encode your labels (y) as integers starting with 0, i.e. 0, 1, 2, ..., [num_class - 1].\n",
      "  warnings.warn(label_encoder_deprecation_msg, UserWarning)\n"
     ]
    },
    {
     "name": "stdout",
     "output_type": "stream",
     "text": [
      "[15:11:05] WARNING: C:/Users/Administrator/workspace/xgboost-win64_release_1.5.0/src/learner.cc:1115: Starting in XGBoost 1.3.0, the default evaluation metric used with the objective 'binary:logistic' was changed from 'error' to 'logloss'. Explicitly set eval_metric if you'd like to restore the old behavior.\n"
     ]
    },
    {
     "name": "stderr",
     "output_type": "stream",
     "text": [
      "C:\\Users\\rishw\\anaconda3\\lib\\site-packages\\xgboost\\sklearn.py:1224: UserWarning: The use of label encoder in XGBClassifier is deprecated and will be removed in a future release. To remove this warning, do the following: 1) Pass option use_label_encoder=False when constructing XGBClassifier object; and 2) Encode your labels (y) as integers starting with 0, i.e. 0, 1, 2, ..., [num_class - 1].\n",
      "  warnings.warn(label_encoder_deprecation_msg, UserWarning)\n"
     ]
    },
    {
     "name": "stdout",
     "output_type": "stream",
     "text": [
      "[15:11:05] WARNING: C:/Users/Administrator/workspace/xgboost-win64_release_1.5.0/src/learner.cc:1115: Starting in XGBoost 1.3.0, the default evaluation metric used with the objective 'binary:logistic' was changed from 'error' to 'logloss'. Explicitly set eval_metric if you'd like to restore the old behavior.\n"
     ]
    },
    {
     "name": "stderr",
     "output_type": "stream",
     "text": [
      "C:\\Users\\rishw\\anaconda3\\lib\\site-packages\\xgboost\\sklearn.py:1224: UserWarning: The use of label encoder in XGBClassifier is deprecated and will be removed in a future release. To remove this warning, do the following: 1) Pass option use_label_encoder=False when constructing XGBClassifier object; and 2) Encode your labels (y) as integers starting with 0, i.e. 0, 1, 2, ..., [num_class - 1].\n",
      "  warnings.warn(label_encoder_deprecation_msg, UserWarning)\n"
     ]
    },
    {
     "name": "stdout",
     "output_type": "stream",
     "text": [
      "[15:11:05] WARNING: C:/Users/Administrator/workspace/xgboost-win64_release_1.5.0/src/learner.cc:1115: Starting in XGBoost 1.3.0, the default evaluation metric used with the objective 'binary:logistic' was changed from 'error' to 'logloss'. Explicitly set eval_metric if you'd like to restore the old behavior.\n"
     ]
    },
    {
     "name": "stderr",
     "output_type": "stream",
     "text": [
      "C:\\Users\\rishw\\anaconda3\\lib\\site-packages\\xgboost\\sklearn.py:1224: UserWarning: The use of label encoder in XGBClassifier is deprecated and will be removed in a future release. To remove this warning, do the following: 1) Pass option use_label_encoder=False when constructing XGBClassifier object; and 2) Encode your labels (y) as integers starting with 0, i.e. 0, 1, 2, ..., [num_class - 1].\n",
      "  warnings.warn(label_encoder_deprecation_msg, UserWarning)\n"
     ]
    },
    {
     "name": "stdout",
     "output_type": "stream",
     "text": [
      "[15:11:06] WARNING: C:/Users/Administrator/workspace/xgboost-win64_release_1.5.0/src/learner.cc:1115: Starting in XGBoost 1.3.0, the default evaluation metric used with the objective 'binary:logistic' was changed from 'error' to 'logloss'. Explicitly set eval_metric if you'd like to restore the old behavior.\n"
     ]
    },
    {
     "name": "stderr",
     "output_type": "stream",
     "text": [
      "C:\\Users\\rishw\\anaconda3\\lib\\site-packages\\xgboost\\sklearn.py:1224: UserWarning: The use of label encoder in XGBClassifier is deprecated and will be removed in a future release. To remove this warning, do the following: 1) Pass option use_label_encoder=False when constructing XGBClassifier object; and 2) Encode your labels (y) as integers starting with 0, i.e. 0, 1, 2, ..., [num_class - 1].\n",
      "  warnings.warn(label_encoder_deprecation_msg, UserWarning)\n"
     ]
    },
    {
     "name": "stdout",
     "output_type": "stream",
     "text": [
      "[15:11:06] WARNING: C:/Users/Administrator/workspace/xgboost-win64_release_1.5.0/src/learner.cc:1115: Starting in XGBoost 1.3.0, the default evaluation metric used with the objective 'binary:logistic' was changed from 'error' to 'logloss'. Explicitly set eval_metric if you'd like to restore the old behavior.\n"
     ]
    },
    {
     "name": "stderr",
     "output_type": "stream",
     "text": [
      "C:\\Users\\rishw\\anaconda3\\lib\\site-packages\\xgboost\\sklearn.py:1224: UserWarning: The use of label encoder in XGBClassifier is deprecated and will be removed in a future release. To remove this warning, do the following: 1) Pass option use_label_encoder=False when constructing XGBClassifier object; and 2) Encode your labels (y) as integers starting with 0, i.e. 0, 1, 2, ..., [num_class - 1].\n",
      "  warnings.warn(label_encoder_deprecation_msg, UserWarning)\n"
     ]
    },
    {
     "name": "stdout",
     "output_type": "stream",
     "text": [
      "[15:11:06] WARNING: C:/Users/Administrator/workspace/xgboost-win64_release_1.5.0/src/learner.cc:1115: Starting in XGBoost 1.3.0, the default evaluation metric used with the objective 'binary:logistic' was changed from 'error' to 'logloss'. Explicitly set eval_metric if you'd like to restore the old behavior.\n"
     ]
    },
    {
     "name": "stderr",
     "output_type": "stream",
     "text": [
      "C:\\Users\\rishw\\anaconda3\\lib\\site-packages\\xgboost\\sklearn.py:1224: UserWarning: The use of label encoder in XGBClassifier is deprecated and will be removed in a future release. To remove this warning, do the following: 1) Pass option use_label_encoder=False when constructing XGBClassifier object; and 2) Encode your labels (y) as integers starting with 0, i.e. 0, 1, 2, ..., [num_class - 1].\n",
      "  warnings.warn(label_encoder_deprecation_msg, UserWarning)\n"
     ]
    },
    {
     "name": "stdout",
     "output_type": "stream",
     "text": [
      "[15:11:07] WARNING: C:/Users/Administrator/workspace/xgboost-win64_release_1.5.0/src/learner.cc:1115: Starting in XGBoost 1.3.0, the default evaluation metric used with the objective 'binary:logistic' was changed from 'error' to 'logloss'. Explicitly set eval_metric if you'd like to restore the old behavior.\n"
     ]
    },
    {
     "name": "stderr",
     "output_type": "stream",
     "text": [
      "C:\\Users\\rishw\\anaconda3\\lib\\site-packages\\xgboost\\sklearn.py:1224: UserWarning: The use of label encoder in XGBClassifier is deprecated and will be removed in a future release. To remove this warning, do the following: 1) Pass option use_label_encoder=False when constructing XGBClassifier object; and 2) Encode your labels (y) as integers starting with 0, i.e. 0, 1, 2, ..., [num_class - 1].\n",
      "  warnings.warn(label_encoder_deprecation_msg, UserWarning)\n"
     ]
    },
    {
     "name": "stdout",
     "output_type": "stream",
     "text": [
      "[15:11:07] WARNING: C:/Users/Administrator/workspace/xgboost-win64_release_1.5.0/src/learner.cc:1115: Starting in XGBoost 1.3.0, the default evaluation metric used with the objective 'binary:logistic' was changed from 'error' to 'logloss'. Explicitly set eval_metric if you'd like to restore the old behavior.\n"
     ]
    },
    {
     "name": "stderr",
     "output_type": "stream",
     "text": [
      "C:\\Users\\rishw\\anaconda3\\lib\\site-packages\\xgboost\\sklearn.py:1224: UserWarning: The use of label encoder in XGBClassifier is deprecated and will be removed in a future release. To remove this warning, do the following: 1) Pass option use_label_encoder=False when constructing XGBClassifier object; and 2) Encode your labels (y) as integers starting with 0, i.e. 0, 1, 2, ..., [num_class - 1].\n",
      "  warnings.warn(label_encoder_deprecation_msg, UserWarning)\n"
     ]
    },
    {
     "name": "stdout",
     "output_type": "stream",
     "text": [
      "[15:11:07] WARNING: C:/Users/Administrator/workspace/xgboost-win64_release_1.5.0/src/learner.cc:1115: Starting in XGBoost 1.3.0, the default evaluation metric used with the objective 'binary:logistic' was changed from 'error' to 'logloss'. Explicitly set eval_metric if you'd like to restore the old behavior.\n"
     ]
    },
    {
     "name": "stderr",
     "output_type": "stream",
     "text": [
      "C:\\Users\\rishw\\anaconda3\\lib\\site-packages\\xgboost\\sklearn.py:1224: UserWarning: The use of label encoder in XGBClassifier is deprecated and will be removed in a future release. To remove this warning, do the following: 1) Pass option use_label_encoder=False when constructing XGBClassifier object; and 2) Encode your labels (y) as integers starting with 0, i.e. 0, 1, 2, ..., [num_class - 1].\n",
      "  warnings.warn(label_encoder_deprecation_msg, UserWarning)\n"
     ]
    },
    {
     "name": "stdout",
     "output_type": "stream",
     "text": [
      "[15:11:08] WARNING: C:/Users/Administrator/workspace/xgboost-win64_release_1.5.0/src/learner.cc:1115: Starting in XGBoost 1.3.0, the default evaluation metric used with the objective 'binary:logistic' was changed from 'error' to 'logloss'. Explicitly set eval_metric if you'd like to restore the old behavior.\n"
     ]
    },
    {
     "name": "stderr",
     "output_type": "stream",
     "text": [
      "C:\\Users\\rishw\\anaconda3\\lib\\site-packages\\xgboost\\sklearn.py:1224: UserWarning: The use of label encoder in XGBClassifier is deprecated and will be removed in a future release. To remove this warning, do the following: 1) Pass option use_label_encoder=False when constructing XGBClassifier object; and 2) Encode your labels (y) as integers starting with 0, i.e. 0, 1, 2, ..., [num_class - 1].\n",
      "  warnings.warn(label_encoder_deprecation_msg, UserWarning)\n"
     ]
    },
    {
     "name": "stdout",
     "output_type": "stream",
     "text": [
      "[15:11:08] WARNING: C:/Users/Administrator/workspace/xgboost-win64_release_1.5.0/src/learner.cc:1115: Starting in XGBoost 1.3.0, the default evaluation metric used with the objective 'binary:logistic' was changed from 'error' to 'logloss'. Explicitly set eval_metric if you'd like to restore the old behavior.\n"
     ]
    },
    {
     "name": "stderr",
     "output_type": "stream",
     "text": [
      "C:\\Users\\rishw\\anaconda3\\lib\\site-packages\\xgboost\\sklearn.py:1224: UserWarning: The use of label encoder in XGBClassifier is deprecated and will be removed in a future release. To remove this warning, do the following: 1) Pass option use_label_encoder=False when constructing XGBClassifier object; and 2) Encode your labels (y) as integers starting with 0, i.e. 0, 1, 2, ..., [num_class - 1].\n",
      "  warnings.warn(label_encoder_deprecation_msg, UserWarning)\n"
     ]
    },
    {
     "name": "stdout",
     "output_type": "stream",
     "text": [
      "[15:11:09] WARNING: C:/Users/Administrator/workspace/xgboost-win64_release_1.5.0/src/learner.cc:1115: Starting in XGBoost 1.3.0, the default evaluation metric used with the objective 'binary:logistic' was changed from 'error' to 'logloss'. Explicitly set eval_metric if you'd like to restore the old behavior.\n"
     ]
    },
    {
     "name": "stderr",
     "output_type": "stream",
     "text": [
      "C:\\Users\\rishw\\anaconda3\\lib\\site-packages\\xgboost\\sklearn.py:1224: UserWarning: The use of label encoder in XGBClassifier is deprecated and will be removed in a future release. To remove this warning, do the following: 1) Pass option use_label_encoder=False when constructing XGBClassifier object; and 2) Encode your labels (y) as integers starting with 0, i.e. 0, 1, 2, ..., [num_class - 1].\n",
      "  warnings.warn(label_encoder_deprecation_msg, UserWarning)\n"
     ]
    },
    {
     "name": "stdout",
     "output_type": "stream",
     "text": [
      "[15:11:09] WARNING: C:/Users/Administrator/workspace/xgboost-win64_release_1.5.0/src/learner.cc:1115: Starting in XGBoost 1.3.0, the default evaluation metric used with the objective 'binary:logistic' was changed from 'error' to 'logloss'. Explicitly set eval_metric if you'd like to restore the old behavior.\n"
     ]
    },
    {
     "name": "stderr",
     "output_type": "stream",
     "text": [
      "C:\\Users\\rishw\\anaconda3\\lib\\site-packages\\xgboost\\sklearn.py:1224: UserWarning: The use of label encoder in XGBClassifier is deprecated and will be removed in a future release. To remove this warning, do the following: 1) Pass option use_label_encoder=False when constructing XGBClassifier object; and 2) Encode your labels (y) as integers starting with 0, i.e. 0, 1, 2, ..., [num_class - 1].\n",
      "  warnings.warn(label_encoder_deprecation_msg, UserWarning)\n"
     ]
    },
    {
     "name": "stdout",
     "output_type": "stream",
     "text": [
      "[15:11:09] WARNING: C:/Users/Administrator/workspace/xgboost-win64_release_1.5.0/src/learner.cc:1115: Starting in XGBoost 1.3.0, the default evaluation metric used with the objective 'binary:logistic' was changed from 'error' to 'logloss'. Explicitly set eval_metric if you'd like to restore the old behavior.\n"
     ]
    },
    {
     "name": "stderr",
     "output_type": "stream",
     "text": [
      "C:\\Users\\rishw\\anaconda3\\lib\\site-packages\\xgboost\\sklearn.py:1224: UserWarning: The use of label encoder in XGBClassifier is deprecated and will be removed in a future release. To remove this warning, do the following: 1) Pass option use_label_encoder=False when constructing XGBClassifier object; and 2) Encode your labels (y) as integers starting with 0, i.e. 0, 1, 2, ..., [num_class - 1].\n",
      "  warnings.warn(label_encoder_deprecation_msg, UserWarning)\n"
     ]
    },
    {
     "name": "stdout",
     "output_type": "stream",
     "text": [
      "[15:11:10] WARNING: C:/Users/Administrator/workspace/xgboost-win64_release_1.5.0/src/learner.cc:1115: Starting in XGBoost 1.3.0, the default evaluation metric used with the objective 'binary:logistic' was changed from 'error' to 'logloss'. Explicitly set eval_metric if you'd like to restore the old behavior.\n"
     ]
    },
    {
     "name": "stderr",
     "output_type": "stream",
     "text": [
      "C:\\Users\\rishw\\anaconda3\\lib\\site-packages\\xgboost\\sklearn.py:1224: UserWarning: The use of label encoder in XGBClassifier is deprecated and will be removed in a future release. To remove this warning, do the following: 1) Pass option use_label_encoder=False when constructing XGBClassifier object; and 2) Encode your labels (y) as integers starting with 0, i.e. 0, 1, 2, ..., [num_class - 1].\n",
      "  warnings.warn(label_encoder_deprecation_msg, UserWarning)\n"
     ]
    },
    {
     "name": "stdout",
     "output_type": "stream",
     "text": [
      "[15:11:10] WARNING: C:/Users/Administrator/workspace/xgboost-win64_release_1.5.0/src/learner.cc:1115: Starting in XGBoost 1.3.0, the default evaluation metric used with the objective 'binary:logistic' was changed from 'error' to 'logloss'. Explicitly set eval_metric if you'd like to restore the old behavior.\n"
     ]
    },
    {
     "name": "stderr",
     "output_type": "stream",
     "text": [
      "C:\\Users\\rishw\\anaconda3\\lib\\site-packages\\xgboost\\sklearn.py:1224: UserWarning: The use of label encoder in XGBClassifier is deprecated and will be removed in a future release. To remove this warning, do the following: 1) Pass option use_label_encoder=False when constructing XGBClassifier object; and 2) Encode your labels (y) as integers starting with 0, i.e. 0, 1, 2, ..., [num_class - 1].\n",
      "  warnings.warn(label_encoder_deprecation_msg, UserWarning)\n"
     ]
    },
    {
     "name": "stdout",
     "output_type": "stream",
     "text": [
      "[15:11:10] WARNING: C:/Users/Administrator/workspace/xgboost-win64_release_1.5.0/src/learner.cc:1115: Starting in XGBoost 1.3.0, the default evaluation metric used with the objective 'binary:logistic' was changed from 'error' to 'logloss'. Explicitly set eval_metric if you'd like to restore the old behavior.\n"
     ]
    },
    {
     "name": "stderr",
     "output_type": "stream",
     "text": [
      "C:\\Users\\rishw\\anaconda3\\lib\\site-packages\\xgboost\\sklearn.py:1224: UserWarning: The use of label encoder in XGBClassifier is deprecated and will be removed in a future release. To remove this warning, do the following: 1) Pass option use_label_encoder=False when constructing XGBClassifier object; and 2) Encode your labels (y) as integers starting with 0, i.e. 0, 1, 2, ..., [num_class - 1].\n",
      "  warnings.warn(label_encoder_deprecation_msg, UserWarning)\n"
     ]
    },
    {
     "name": "stdout",
     "output_type": "stream",
     "text": [
      "[15:11:10] WARNING: C:/Users/Administrator/workspace/xgboost-win64_release_1.5.0/src/learner.cc:1115: Starting in XGBoost 1.3.0, the default evaluation metric used with the objective 'binary:logistic' was changed from 'error' to 'logloss'. Explicitly set eval_metric if you'd like to restore the old behavior.\n"
     ]
    },
    {
     "name": "stderr",
     "output_type": "stream",
     "text": [
      "C:\\Users\\rishw\\anaconda3\\lib\\site-packages\\xgboost\\sklearn.py:1224: UserWarning: The use of label encoder in XGBClassifier is deprecated and will be removed in a future release. To remove this warning, do the following: 1) Pass option use_label_encoder=False when constructing XGBClassifier object; and 2) Encode your labels (y) as integers starting with 0, i.e. 0, 1, 2, ..., [num_class - 1].\n",
      "  warnings.warn(label_encoder_deprecation_msg, UserWarning)\n"
     ]
    },
    {
     "name": "stdout",
     "output_type": "stream",
     "text": [
      "[15:11:11] WARNING: C:/Users/Administrator/workspace/xgboost-win64_release_1.5.0/src/learner.cc:1115: Starting in XGBoost 1.3.0, the default evaluation metric used with the objective 'binary:logistic' was changed from 'error' to 'logloss'. Explicitly set eval_metric if you'd like to restore the old behavior.\n"
     ]
    },
    {
     "name": "stderr",
     "output_type": "stream",
     "text": [
      "C:\\Users\\rishw\\anaconda3\\lib\\site-packages\\xgboost\\sklearn.py:1224: UserWarning: The use of label encoder in XGBClassifier is deprecated and will be removed in a future release. To remove this warning, do the following: 1) Pass option use_label_encoder=False when constructing XGBClassifier object; and 2) Encode your labels (y) as integers starting with 0, i.e. 0, 1, 2, ..., [num_class - 1].\n",
      "  warnings.warn(label_encoder_deprecation_msg, UserWarning)\n"
     ]
    },
    {
     "name": "stdout",
     "output_type": "stream",
     "text": [
      "[15:11:11] WARNING: C:/Users/Administrator/workspace/xgboost-win64_release_1.5.0/src/learner.cc:1115: Starting in XGBoost 1.3.0, the default evaluation metric used with the objective 'binary:logistic' was changed from 'error' to 'logloss'. Explicitly set eval_metric if you'd like to restore the old behavior.\n"
     ]
    },
    {
     "name": "stderr",
     "output_type": "stream",
     "text": [
      "C:\\Users\\rishw\\anaconda3\\lib\\site-packages\\xgboost\\sklearn.py:1224: UserWarning: The use of label encoder in XGBClassifier is deprecated and will be removed in a future release. To remove this warning, do the following: 1) Pass option use_label_encoder=False when constructing XGBClassifier object; and 2) Encode your labels (y) as integers starting with 0, i.e. 0, 1, 2, ..., [num_class - 1].\n",
      "  warnings.warn(label_encoder_deprecation_msg, UserWarning)\n"
     ]
    },
    {
     "name": "stdout",
     "output_type": "stream",
     "text": [
      "[15:11:11] WARNING: C:/Users/Administrator/workspace/xgboost-win64_release_1.5.0/src/learner.cc:1115: Starting in XGBoost 1.3.0, the default evaluation metric used with the objective 'binary:logistic' was changed from 'error' to 'logloss'. Explicitly set eval_metric if you'd like to restore the old behavior.\n"
     ]
    },
    {
     "name": "stderr",
     "output_type": "stream",
     "text": [
      "C:\\Users\\rishw\\anaconda3\\lib\\site-packages\\xgboost\\sklearn.py:1224: UserWarning: The use of label encoder in XGBClassifier is deprecated and will be removed in a future release. To remove this warning, do the following: 1) Pass option use_label_encoder=False when constructing XGBClassifier object; and 2) Encode your labels (y) as integers starting with 0, i.e. 0, 1, 2, ..., [num_class - 1].\n",
      "  warnings.warn(label_encoder_deprecation_msg, UserWarning)\n"
     ]
    },
    {
     "name": "stdout",
     "output_type": "stream",
     "text": [
      "[15:11:11] WARNING: C:/Users/Administrator/workspace/xgboost-win64_release_1.5.0/src/learner.cc:1115: Starting in XGBoost 1.3.0, the default evaluation metric used with the objective 'binary:logistic' was changed from 'error' to 'logloss'. Explicitly set eval_metric if you'd like to restore the old behavior.\n"
     ]
    },
    {
     "name": "stderr",
     "output_type": "stream",
     "text": [
      "C:\\Users\\rishw\\anaconda3\\lib\\site-packages\\xgboost\\sklearn.py:1224: UserWarning: The use of label encoder in XGBClassifier is deprecated and will be removed in a future release. To remove this warning, do the following: 1) Pass option use_label_encoder=False when constructing XGBClassifier object; and 2) Encode your labels (y) as integers starting with 0, i.e. 0, 1, 2, ..., [num_class - 1].\n",
      "  warnings.warn(label_encoder_deprecation_msg, UserWarning)\n"
     ]
    },
    {
     "name": "stdout",
     "output_type": "stream",
     "text": [
      "[15:11:12] WARNING: C:/Users/Administrator/workspace/xgboost-win64_release_1.5.0/src/learner.cc:1115: Starting in XGBoost 1.3.0, the default evaluation metric used with the objective 'binary:logistic' was changed from 'error' to 'logloss'. Explicitly set eval_metric if you'd like to restore the old behavior.\n"
     ]
    },
    {
     "name": "stderr",
     "output_type": "stream",
     "text": [
      "C:\\Users\\rishw\\anaconda3\\lib\\site-packages\\xgboost\\sklearn.py:1224: UserWarning: The use of label encoder in XGBClassifier is deprecated and will be removed in a future release. To remove this warning, do the following: 1) Pass option use_label_encoder=False when constructing XGBClassifier object; and 2) Encode your labels (y) as integers starting with 0, i.e. 0, 1, 2, ..., [num_class - 1].\n",
      "  warnings.warn(label_encoder_deprecation_msg, UserWarning)\n"
     ]
    },
    {
     "name": "stdout",
     "output_type": "stream",
     "text": [
      "[15:11:12] WARNING: C:/Users/Administrator/workspace/xgboost-win64_release_1.5.0/src/learner.cc:1115: Starting in XGBoost 1.3.0, the default evaluation metric used with the objective 'binary:logistic' was changed from 'error' to 'logloss'. Explicitly set eval_metric if you'd like to restore the old behavior.\n"
     ]
    },
    {
     "name": "stderr",
     "output_type": "stream",
     "text": [
      "C:\\Users\\rishw\\anaconda3\\lib\\site-packages\\xgboost\\sklearn.py:1224: UserWarning: The use of label encoder in XGBClassifier is deprecated and will be removed in a future release. To remove this warning, do the following: 1) Pass option use_label_encoder=False when constructing XGBClassifier object; and 2) Encode your labels (y) as integers starting with 0, i.e. 0, 1, 2, ..., [num_class - 1].\n",
      "  warnings.warn(label_encoder_deprecation_msg, UserWarning)\n"
     ]
    },
    {
     "name": "stdout",
     "output_type": "stream",
     "text": [
      "[15:11:12] WARNING: C:/Users/Administrator/workspace/xgboost-win64_release_1.5.0/src/learner.cc:1115: Starting in XGBoost 1.3.0, the default evaluation metric used with the objective 'binary:logistic' was changed from 'error' to 'logloss'. Explicitly set eval_metric if you'd like to restore the old behavior.\n"
     ]
    },
    {
     "name": "stderr",
     "output_type": "stream",
     "text": [
      "C:\\Users\\rishw\\anaconda3\\lib\\site-packages\\xgboost\\sklearn.py:1224: UserWarning: The use of label encoder in XGBClassifier is deprecated and will be removed in a future release. To remove this warning, do the following: 1) Pass option use_label_encoder=False when constructing XGBClassifier object; and 2) Encode your labels (y) as integers starting with 0, i.e. 0, 1, 2, ..., [num_class - 1].\n",
      "  warnings.warn(label_encoder_deprecation_msg, UserWarning)\n"
     ]
    },
    {
     "name": "stdout",
     "output_type": "stream",
     "text": [
      "[15:11:12] WARNING: C:/Users/Administrator/workspace/xgboost-win64_release_1.5.0/src/learner.cc:1115: Starting in XGBoost 1.3.0, the default evaluation metric used with the objective 'binary:logistic' was changed from 'error' to 'logloss'. Explicitly set eval_metric if you'd like to restore the old behavior.\n"
     ]
    },
    {
     "name": "stderr",
     "output_type": "stream",
     "text": [
      "C:\\Users\\rishw\\anaconda3\\lib\\site-packages\\xgboost\\sklearn.py:1224: UserWarning: The use of label encoder in XGBClassifier is deprecated and will be removed in a future release. To remove this warning, do the following: 1) Pass option use_label_encoder=False when constructing XGBClassifier object; and 2) Encode your labels (y) as integers starting with 0, i.e. 0, 1, 2, ..., [num_class - 1].\n",
      "  warnings.warn(label_encoder_deprecation_msg, UserWarning)\n"
     ]
    },
    {
     "name": "stdout",
     "output_type": "stream",
     "text": [
      "[15:11:13] WARNING: C:/Users/Administrator/workspace/xgboost-win64_release_1.5.0/src/learner.cc:1115: Starting in XGBoost 1.3.0, the default evaluation metric used with the objective 'binary:logistic' was changed from 'error' to 'logloss'. Explicitly set eval_metric if you'd like to restore the old behavior.\n"
     ]
    },
    {
     "name": "stderr",
     "output_type": "stream",
     "text": [
      "C:\\Users\\rishw\\anaconda3\\lib\\site-packages\\xgboost\\sklearn.py:1224: UserWarning: The use of label encoder in XGBClassifier is deprecated and will be removed in a future release. To remove this warning, do the following: 1) Pass option use_label_encoder=False when constructing XGBClassifier object; and 2) Encode your labels (y) as integers starting with 0, i.e. 0, 1, 2, ..., [num_class - 1].\n",
      "  warnings.warn(label_encoder_deprecation_msg, UserWarning)\n",
      "C:\\Users\\rishw\\anaconda3\\lib\\site-packages\\xgboost\\sklearn.py:1224: UserWarning: The use of label encoder in XGBClassifier is deprecated and will be removed in a future release. To remove this warning, do the following: 1) Pass option use_label_encoder=False when constructing XGBClassifier object; and 2) Encode your labels (y) as integers starting with 0, i.e. 0, 1, 2, ..., [num_class - 1].\n",
      "  warnings.warn(label_encoder_deprecation_msg, UserWarning)\n"
     ]
    },
    {
     "name": "stdout",
     "output_type": "stream",
     "text": [
      "[15:11:13] WARNING: C:/Users/Administrator/workspace/xgboost-win64_release_1.5.0/src/learner.cc:1115: Starting in XGBoost 1.3.0, the default evaluation metric used with the objective 'binary:logistic' was changed from 'error' to 'logloss'. Explicitly set eval_metric if you'd like to restore the old behavior.\n",
      "[15:11:13] WARNING: C:/Users/Administrator/workspace/xgboost-win64_release_1.5.0/src/learner.cc:1115: Starting in XGBoost 1.3.0, the default evaluation metric used with the objective 'binary:logistic' was changed from 'error' to 'logloss'. Explicitly set eval_metric if you'd like to restore the old behavior.\n"
     ]
    },
    {
     "name": "stderr",
     "output_type": "stream",
     "text": [
      "C:\\Users\\rishw\\anaconda3\\lib\\site-packages\\xgboost\\sklearn.py:1224: UserWarning: The use of label encoder in XGBClassifier is deprecated and will be removed in a future release. To remove this warning, do the following: 1) Pass option use_label_encoder=False when constructing XGBClassifier object; and 2) Encode your labels (y) as integers starting with 0, i.e. 0, 1, 2, ..., [num_class - 1].\n",
      "  warnings.warn(label_encoder_deprecation_msg, UserWarning)\n"
     ]
    },
    {
     "name": "stdout",
     "output_type": "stream",
     "text": [
      "[15:11:13] WARNING: C:/Users/Administrator/workspace/xgboost-win64_release_1.5.0/src/learner.cc:1115: Starting in XGBoost 1.3.0, the default evaluation metric used with the objective 'binary:logistic' was changed from 'error' to 'logloss'. Explicitly set eval_metric if you'd like to restore the old behavior.\n"
     ]
    },
    {
     "name": "stderr",
     "output_type": "stream",
     "text": [
      "C:\\Users\\rishw\\anaconda3\\lib\\site-packages\\xgboost\\sklearn.py:1224: UserWarning: The use of label encoder in XGBClassifier is deprecated and will be removed in a future release. To remove this warning, do the following: 1) Pass option use_label_encoder=False when constructing XGBClassifier object; and 2) Encode your labels (y) as integers starting with 0, i.e. 0, 1, 2, ..., [num_class - 1].\n",
      "  warnings.warn(label_encoder_deprecation_msg, UserWarning)\n"
     ]
    },
    {
     "name": "stdout",
     "output_type": "stream",
     "text": [
      "[15:11:14] WARNING: C:/Users/Administrator/workspace/xgboost-win64_release_1.5.0/src/learner.cc:1115: Starting in XGBoost 1.3.0, the default evaluation metric used with the objective 'binary:logistic' was changed from 'error' to 'logloss'. Explicitly set eval_metric if you'd like to restore the old behavior.\n"
     ]
    },
    {
     "name": "stderr",
     "output_type": "stream",
     "text": [
      "C:\\Users\\rishw\\anaconda3\\lib\\site-packages\\xgboost\\sklearn.py:1224: UserWarning: The use of label encoder in XGBClassifier is deprecated and will be removed in a future release. To remove this warning, do the following: 1) Pass option use_label_encoder=False when constructing XGBClassifier object; and 2) Encode your labels (y) as integers starting with 0, i.e. 0, 1, 2, ..., [num_class - 1].\n",
      "  warnings.warn(label_encoder_deprecation_msg, UserWarning)\n"
     ]
    },
    {
     "name": "stdout",
     "output_type": "stream",
     "text": [
      "[15:11:14] WARNING: C:/Users/Administrator/workspace/xgboost-win64_release_1.5.0/src/learner.cc:1115: Starting in XGBoost 1.3.0, the default evaluation metric used with the objective 'binary:logistic' was changed from 'error' to 'logloss'. Explicitly set eval_metric if you'd like to restore the old behavior.\n"
     ]
    },
    {
     "name": "stderr",
     "output_type": "stream",
     "text": [
      "C:\\Users\\rishw\\anaconda3\\lib\\site-packages\\xgboost\\sklearn.py:1224: UserWarning: The use of label encoder in XGBClassifier is deprecated and will be removed in a future release. To remove this warning, do the following: 1) Pass option use_label_encoder=False when constructing XGBClassifier object; and 2) Encode your labels (y) as integers starting with 0, i.e. 0, 1, 2, ..., [num_class - 1].\n",
      "  warnings.warn(label_encoder_deprecation_msg, UserWarning)\n"
     ]
    },
    {
     "name": "stdout",
     "output_type": "stream",
     "text": [
      "[15:11:14] WARNING: C:/Users/Administrator/workspace/xgboost-win64_release_1.5.0/src/learner.cc:1115: Starting in XGBoost 1.3.0, the default evaluation metric used with the objective 'binary:logistic' was changed from 'error' to 'logloss'. Explicitly set eval_metric if you'd like to restore the old behavior.\n"
     ]
    },
    {
     "name": "stderr",
     "output_type": "stream",
     "text": [
      "C:\\Users\\rishw\\anaconda3\\lib\\site-packages\\xgboost\\sklearn.py:1224: UserWarning: The use of label encoder in XGBClassifier is deprecated and will be removed in a future release. To remove this warning, do the following: 1) Pass option use_label_encoder=False when constructing XGBClassifier object; and 2) Encode your labels (y) as integers starting with 0, i.e. 0, 1, 2, ..., [num_class - 1].\n",
      "  warnings.warn(label_encoder_deprecation_msg, UserWarning)\n",
      "C:\\Users\\rishw\\anaconda3\\lib\\site-packages\\xgboost\\sklearn.py:1224: UserWarning: The use of label encoder in XGBClassifier is deprecated and will be removed in a future release. To remove this warning, do the following: 1) Pass option use_label_encoder=False when constructing XGBClassifier object; and 2) Encode your labels (y) as integers starting with 0, i.e. 0, 1, 2, ..., [num_class - 1].\n",
      "  warnings.warn(label_encoder_deprecation_msg, UserWarning)\n"
     ]
    },
    {
     "name": "stdout",
     "output_type": "stream",
     "text": [
      "[15:11:14] WARNING: C:/Users/Administrator/workspace/xgboost-win64_release_1.5.0/src/learner.cc:1115: Starting in XGBoost 1.3.0, the default evaluation metric used with the objective 'binary:logistic' was changed from 'error' to 'logloss'. Explicitly set eval_metric if you'd like to restore the old behavior.\n",
      "[15:11:14] WARNING: C:/Users/Administrator/workspace/xgboost-win64_release_1.5.0/src/learner.cc:1115: Starting in XGBoost 1.3.0, the default evaluation metric used with the objective 'binary:logistic' was changed from 'error' to 'logloss'. Explicitly set eval_metric if you'd like to restore the old behavior.\n"
     ]
    },
    {
     "name": "stderr",
     "output_type": "stream",
     "text": [
      "C:\\Users\\rishw\\anaconda3\\lib\\site-packages\\xgboost\\sklearn.py:1224: UserWarning: The use of label encoder in XGBClassifier is deprecated and will be removed in a future release. To remove this warning, do the following: 1) Pass option use_label_encoder=False when constructing XGBClassifier object; and 2) Encode your labels (y) as integers starting with 0, i.e. 0, 1, 2, ..., [num_class - 1].\n",
      "  warnings.warn(label_encoder_deprecation_msg, UserWarning)\n",
      "C:\\Users\\rishw\\anaconda3\\lib\\site-packages\\xgboost\\sklearn.py:1224: UserWarning: The use of label encoder in XGBClassifier is deprecated and will be removed in a future release. To remove this warning, do the following: 1) Pass option use_label_encoder=False when constructing XGBClassifier object; and 2) Encode your labels (y) as integers starting with 0, i.e. 0, 1, 2, ..., [num_class - 1].\n",
      "  warnings.warn(label_encoder_deprecation_msg, UserWarning)\n",
      "C:\\Users\\rishw\\anaconda3\\lib\\site-packages\\xgboost\\sklearn.py:1224: UserWarning: The use of label encoder in XGBClassifier is deprecated and will be removed in a future release. To remove this warning, do the following: 1) Pass option use_label_encoder=False when constructing XGBClassifier object; and 2) Encode your labels (y) as integers starting with 0, i.e. 0, 1, 2, ..., [num_class - 1].\n",
      "  warnings.warn(label_encoder_deprecation_msg, UserWarning)\n"
     ]
    },
    {
     "name": "stdout",
     "output_type": "stream",
     "text": [
      "[15:11:15] WARNING: C:/Users/Administrator/workspace/xgboost-win64_release_1.5.0/src/learner.cc:1115: Starting in XGBoost 1.3.0, the default evaluation metric used with the objective 'binary:logistic' was changed from 'error' to 'logloss'. Explicitly set eval_metric if you'd like to restore the old behavior.\n",
      "[15:11:15] WARNING: C:/Users/Administrator/workspace/xgboost-win64_release_1.5.0/src/learner.cc:1115: Starting in XGBoost 1.3.0, the default evaluation metric used with the objective 'binary:logistic' was changed from 'error' to 'logloss'. Explicitly set eval_metric if you'd like to restore the old behavior.\n",
      "[15:11:15] WARNING: C:/Users/Administrator/workspace/xgboost-win64_release_1.5.0/src/learner.cc:1115: Starting in XGBoost 1.3.0, the default evaluation metric used with the objective 'binary:logistic' was changed from 'error' to 'logloss'. Explicitly set eval_metric if you'd like to restore the old behavior.\n",
      "0.6942129357905857 0.8843163538873995\n",
      "              precision    recall  f1-score   support\n",
      "\n",
      "           0    0.96149   0.91193   0.93606     13853\n",
      "           1    0.31499   0.52577   0.39396      1067\n",
      "\n",
      "    accuracy                        0.88432     14920\n",
      "   macro avg    0.63824   0.71885   0.66501     14920\n",
      "weighted avg    0.91525   0.88432   0.89729     14920\n",
      "\n",
      "\n"
     ]
    },
    {
     "name": "stderr",
     "output_type": "stream",
     "text": [
      "C:\\Users\\rishw\\anaconda3\\lib\\site-packages\\xgboost\\data.py:250: FutureWarning: pandas.Int64Index is deprecated and will be removed from pandas in a future version. Use pandas.Index with the appropriate dtype instead.\n",
      "  elif isinstance(data.columns, (pd.Int64Index, pd.RangeIndex)):\n"
     ]
    }
   ],
   "source": [
    "ClassifierApplier(model_list_ensemble, X_train2_under, y_train2_under, X_test2, y_test2)"
   ]
  },
  {
   "cell_type": "code",
   "execution_count": 125,
   "id": "9da15d73",
   "metadata": {},
   "outputs": [],
   "source": [
    "# finding bet fraction fr the undersmapling"
   ]
  },
  {
   "cell_type": "code",
   "execution_count": 126,
   "id": "ca9fe206",
   "metadata": {},
   "outputs": [],
   "source": [
    "# From above models we conclude that we need to "
   ]
  },
  {
   "cell_type": "markdown",
   "id": "a5abf9fd",
   "metadata": {},
   "source": [
    "# Tuning the parameter"
   ]
  },
  {
   "cell_type": "code",
   "execution_count": 127,
   "id": "771289c2",
   "metadata": {},
   "outputs": [
    {
     "data": {
      "text/plain": [
       "(           age   balance       day  duration  campaign     pdays  previous  \\\n",
       " 0     0.291667  0.071460  0.333333  0.029687  0.032258  0.258028  0.003636   \n",
       " 1     0.322917  0.079839  0.500000  0.025214  0.016129  0.000000  0.000000   \n",
       " 2     0.312500  0.078432  0.566667  0.014640  0.032258  0.000000  0.000000   \n",
       " 3     0.302083  0.075563  0.433333  0.104921  0.000000  0.000000  0.000000   \n",
       " 4     0.364583  0.078124  0.066667  0.008743  0.064516  0.302752  0.007273   \n",
       " ...        ...       ...       ...       ...       ...       ...       ...   \n",
       " 8514  0.302083  0.079721  0.566667  0.023383  0.032258  0.000000  0.000000   \n",
       " 8515  0.489583  0.078868  0.466667  0.256812  0.016129  0.000000  0.000000   \n",
       " 8516  0.447917  0.081165  0.133333  0.107971  0.032258  0.000000  0.000000   \n",
       " 8517  0.697917  0.073285  0.366667  0.114274  0.048387  0.000000  0.000000   \n",
       " 8518  0.260417  0.079059  0.233333  0.128101  0.000000  0.000000  0.000000   \n",
       " \n",
       "       job_blue-collar  job_entrepreneur  job_housemaid  ...  month_jul  \\\n",
       " 0                 0.0               0.0            0.0  ...        0.0   \n",
       " 1                 0.0               0.0            0.0  ...        0.0   \n",
       " 2                 0.0               0.0            0.0  ...        0.0   \n",
       " 3                 0.0               0.0            0.0  ...        0.0   \n",
       " 4                 0.0               0.0            0.0  ...        0.0   \n",
       " ...               ...               ...            ...  ...        ...   \n",
       " 8514              0.0               0.0            0.0  ...        0.0   \n",
       " 8515              1.0               0.0            0.0  ...        0.0   \n",
       " 8516              0.0               0.0            0.0  ...        0.0   \n",
       " 8517              0.0               0.0            0.0  ...        1.0   \n",
       " 8518              0.0               0.0            0.0  ...        0.0   \n",
       " \n",
       "       month_jun  month_mar  month_may  month_nov  month_oct  month_sep  \\\n",
       " 0           0.0        0.0        0.0        0.0        0.0        1.0   \n",
       " 1           1.0        0.0        0.0        0.0        0.0        0.0   \n",
       " 2           1.0        0.0        0.0        0.0        0.0        0.0   \n",
       " 3           1.0        0.0        0.0        0.0        0.0        0.0   \n",
       " 4           0.0        0.0        0.0        0.0        0.0        0.0   \n",
       " ...         ...        ...        ...        ...        ...        ...   \n",
       " 8514        0.0        0.0        0.0        0.0        0.0        1.0   \n",
       " 8515        0.0        0.0        1.0        0.0        0.0        0.0   \n",
       " 8516        0.0        0.0        0.0        0.0        0.0        0.0   \n",
       " 8517        0.0        0.0        0.0        0.0        0.0        0.0   \n",
       " 8518        0.0        0.0        0.0        0.0        0.0        1.0   \n",
       " \n",
       "       poutcome_other  poutcome_success  poutcome_unknown  \n",
       " 0                1.0               0.0               0.0  \n",
       " 1                0.0               0.0               1.0  \n",
       " 2                0.0               0.0               1.0  \n",
       " 3                0.0               0.0               1.0  \n",
       " 4                0.0               0.0               0.0  \n",
       " ...              ...               ...               ...  \n",
       " 8514             0.0               0.0               1.0  \n",
       " 8515             0.0               0.0               1.0  \n",
       " 8516             0.0               0.0               1.0  \n",
       " 8517             0.0               0.0               1.0  \n",
       " 8518             0.0               0.0               1.0  \n",
       " \n",
       " [8519 rows x 42 columns],\n",
       " 0       0\n",
       " 1       0\n",
       " 2       0\n",
       " 3       0\n",
       " 4       0\n",
       "        ..\n",
       " 8514    1\n",
       " 8515    1\n",
       " 8516    1\n",
       " 8517    1\n",
       " 8518    1\n",
       " Name: y, Length: 8519, dtype: int64,\n",
       "             age   balance       day  duration  campaign     pdays  previous  \\\n",
       " 3776   0.322917  0.070025  0.500000  0.041277  0.000000  0.000000  0.000000   \n",
       " 9928   0.479167  0.075309  0.266667  0.070354  0.016129  0.000000  0.000000   \n",
       " 33409  0.302083  0.081583  0.633333  0.035380  0.000000  0.384174  0.003636   \n",
       " 31885  0.562500  0.099059  0.266667  0.107157  0.032258  0.000000  0.000000   \n",
       " 15738  0.531250  0.079849  0.666667  0.040667  0.016129  0.000000  0.000000   \n",
       " ...         ...       ...       ...       ...       ...       ...       ...   \n",
       " 25573  0.322917  0.077533  0.600000  0.131761  0.000000  0.000000  0.000000   \n",
       " 6395   0.260417  0.072803  0.866667  0.060797  0.000000  0.000000  0.000000   \n",
       " 24513  0.572917  0.059957  0.533333  0.027450  0.000000  0.000000  0.000000   \n",
       " 34048  0.437500  0.077225  0.966667  0.031924  0.000000  0.000000  0.000000   \n",
       " 39097  0.364583  0.127395  0.566667  0.124441  0.000000  0.000000  0.000000   \n",
       " \n",
       "        job_blue-collar  job_entrepreneur  job_housemaid  ...  month_jul  \\\n",
       " 3776               0.0               0.0            0.0  ...        0.0   \n",
       " 9928               0.0               0.0            0.0  ...        0.0   \n",
       " 33409              0.0               0.0            0.0  ...        0.0   \n",
       " 31885              0.0               0.0            0.0  ...        0.0   \n",
       " 15738              0.0               0.0            0.0  ...        1.0   \n",
       " ...                ...               ...            ...  ...        ...   \n",
       " 25573              0.0               0.0            0.0  ...        0.0   \n",
       " 6395               0.0               0.0            0.0  ...        0.0   \n",
       " 24513              0.0               0.0            0.0  ...        0.0   \n",
       " 34048              0.0               0.0            0.0  ...        0.0   \n",
       " 39097              0.0               0.0            0.0  ...        0.0   \n",
       " \n",
       "        month_jun  month_mar  month_may  month_nov  month_oct  month_sep  \\\n",
       " 3776         0.0        0.0        1.0        0.0        0.0        0.0   \n",
       " 9928         1.0        0.0        0.0        0.0        0.0        0.0   \n",
       " 33409        0.0        0.0        0.0        0.0        0.0        0.0   \n",
       " 31885        0.0        0.0        0.0        0.0        0.0        0.0   \n",
       " 15738        0.0        0.0        0.0        0.0        0.0        0.0   \n",
       " ...          ...        ...        ...        ...        ...        ...   \n",
       " 25573        0.0        0.0        0.0        1.0        0.0        0.0   \n",
       " 6395         0.0        0.0        1.0        0.0        0.0        0.0   \n",
       " 24513        0.0        0.0        0.0        1.0        0.0        0.0   \n",
       " 34048        0.0        0.0        0.0        0.0        0.0        0.0   \n",
       " 39097        0.0        0.0        1.0        0.0        0.0        0.0   \n",
       " \n",
       "        poutcome_other  poutcome_success  poutcome_unknown  \n",
       " 3776              0.0               0.0               1.0  \n",
       " 9928              0.0               0.0               1.0  \n",
       " 33409             0.0               0.0               0.0  \n",
       " 31885             0.0               0.0               1.0  \n",
       " 15738             0.0               0.0               1.0  \n",
       " ...               ...               ...               ...  \n",
       " 25573             0.0               0.0               1.0  \n",
       " 6395              0.0               0.0               1.0  \n",
       " 24513             0.0               0.0               1.0  \n",
       " 34048             0.0               0.0               1.0  \n",
       " 39097             0.0               0.0               1.0  \n",
       " \n",
       " [14920 rows x 42 columns],\n",
       " 3776     0\n",
       " 9928     0\n",
       " 33409    0\n",
       " 31885    1\n",
       " 15738    0\n",
       "         ..\n",
       " 25573    0\n",
       " 6395     0\n",
       " 24513    0\n",
       " 34048    0\n",
       " 39097    1\n",
       " Name: y, Length: 14920, dtype: int64)"
      ]
     },
     "execution_count": 127,
     "metadata": {},
     "output_type": "execute_result"
    }
   ],
   "source": [
    "X_train2_under, y_train2_under, X_test2, y_test2"
   ]
  },
  {
   "cell_type": "code",
   "execution_count": 128,
   "id": "a89b4344",
   "metadata": {},
   "outputs": [],
   "source": [
    "from sklearn.metrics import SCORERS"
   ]
  },
  {
   "cell_type": "code",
   "execution_count": 129,
   "id": "237f0dbd",
   "metadata": {},
   "outputs": [
    {
     "data": {
      "text/plain": [
       "dict_keys(['explained_variance', 'r2', 'max_error', 'neg_median_absolute_error', 'neg_mean_absolute_error', 'neg_mean_absolute_percentage_error', 'neg_mean_squared_error', 'neg_mean_squared_log_error', 'neg_root_mean_squared_error', 'neg_mean_poisson_deviance', 'neg_mean_gamma_deviance', 'accuracy', 'top_k_accuracy', 'roc_auc', 'roc_auc_ovr', 'roc_auc_ovo', 'roc_auc_ovr_weighted', 'roc_auc_ovo_weighted', 'balanced_accuracy', 'average_precision', 'neg_log_loss', 'neg_brier_score', 'adjusted_rand_score', 'rand_score', 'homogeneity_score', 'completeness_score', 'v_measure_score', 'mutual_info_score', 'adjusted_mutual_info_score', 'normalized_mutual_info_score', 'fowlkes_mallows_score', 'precision', 'precision_macro', 'precision_micro', 'precision_samples', 'precision_weighted', 'recall', 'recall_macro', 'recall_micro', 'recall_samples', 'recall_weighted', 'f1', 'f1_macro', 'f1_micro', 'f1_samples', 'f1_weighted', 'jaccard', 'jaccard_macro', 'jaccard_micro', 'jaccard_samples', 'jaccard_weighted'])"
      ]
     },
     "execution_count": 129,
     "metadata": {},
     "output_type": "execute_result"
    }
   ],
   "source": [
    "SCORERS.keys()"
   ]
  },
  {
   "cell_type": "code",
   "execution_count": 133,
   "id": "d4375931",
   "metadata": {},
   "outputs": [
    {
     "name": "stdout",
     "output_type": "stream",
     "text": [
      "Fitting 3 folds for each of 6 candidates, totalling 18 fits\n",
      "CPU times: total: 172 ms\n",
      "Wall time: 4.39 s\n"
     ]
    },
    {
     "data": {
      "text/plain": [
       "GridSearchCV(cv=3,\n",
       "             estimator=LogisticRegression(max_iter=500, n_jobs=-1,\n",
       "                                          penalty='elasticnet', solver='saga'),\n",
       "             n_jobs=-1, param_grid={'l1_ratio': [0, 1, 0.2, 0.4, 0.6, 0.8]},\n",
       "             scoring='f1_weighted', verbose=2)"
      ]
     },
     "execution_count": 133,
     "metadata": {},
     "output_type": "execute_result"
    }
   ],
   "source": [
    "%%time\n",
    "estimator = LogisticRegression(max_iter= 500, n_jobs=-1, penalty = 'elasticnet', solver='saga')\n",
    "param = {'l1_ratio':[0,1,0.2,0.4,0.6,0.8] }\n",
    "grid = GridSearchCV(estimator= estimator,param_grid = param, cv= 3,verbose=2, n_jobs=-1, scoring='f1_weighted')\n",
    "grid.fit(X_train2_under, y_train2_under  )"
   ]
  },
  {
   "cell_type": "code",
   "execution_count": 134,
   "id": "4c42bbf2",
   "metadata": {},
   "outputs": [
    {
     "data": {
      "text/plain": [
       "{'l1_ratio': 1}"
      ]
     },
     "execution_count": 134,
     "metadata": {},
     "output_type": "execute_result"
    }
   ],
   "source": [
    "grid.best_params_"
   ]
  },
  {
   "cell_type": "code",
   "execution_count": 135,
   "id": "69139b20",
   "metadata": {},
   "outputs": [
    {
     "name": "stdout",
     "output_type": "stream",
     "text": [
      "0.8265054583871346 0.8688337801608579\n",
      "              precision    recall  f1-score   support\n",
      "\n",
      "           0    0.88576   0.96230   0.92244     12094\n",
      "           1    0.74396   0.46886   0.57521      2826\n",
      "\n",
      "    accuracy                        0.86883     14920\n",
      "   macro avg    0.81486   0.71558   0.74883     14920\n",
      "weighted avg    0.85890   0.86883   0.85667     14920\n",
      "\n",
      "\n"
     ]
    }
   ],
   "source": [
    "classifier = LogisticRegression(max_iter= 500, n_jobs=-1, penalty = 'elasticnet', solver='saga',l1_ratio=1)\n",
    "classifier.fit(X_train2_under,y_train2_under)\n",
    "print(classifier.score(X_train2_under, y_train2_under),\n",
    "      classifier.score(X_test2,y_test2))\n",
    "\n",
    "prediction = classifier.predict(X_test2)\n",
    "print(classification_report(prediction, y_test2,digits=5))\n",
    "print()"
   ]
  },
  {
   "cell_type": "markdown",
   "id": "39faf3af",
   "metadata": {},
   "source": [
    "# Approach 4 \n",
    "### balancing the data with outliers treatment"
   ]
  },
  {
   "cell_type": "code",
   "execution_count": 136,
   "id": "174aef33",
   "metadata": {},
   "outputs": [
    {
     "name": "stdout",
     "output_type": "stream",
     "text": [
      "X_train's shape (57136, 26)\n",
      "X test's shape' (14284, 26)\n",
      "y_train's shape (57136,)\n",
      "y_test's shape (14284,)\n",
      "train value count for the target variables 1    0.500525\n",
      "0    0.499475\n",
      "Name: y, dtype: float64\n",
      "test value count for the target variables 0    0.5021\n",
      "1    0.4979\n",
      "Name: y, dtype: float64\n",
      "Logistic Regression Model\n",
      "test score 0.8186082329879586\n",
      "train score 0.8226337160459255\n",
      "test classification               precision    recall  f1-score   support\n",
      "\n",
      "           0    0.82048   0.81762   0.81905      7172\n",
      "           1    0.81673   0.81960   0.81816      7112\n",
      "\n",
      "    accuracy                        0.81861     14284\n",
      "   macro avg    0.81861   0.81861   0.81861     14284\n",
      "weighted avg    0.81861   0.81861   0.81861     14284\n",
      "\n",
      "train classification               precision    recall  f1-score   support\n",
      "\n",
      "           0    0.82261   0.82220   0.82240     28538\n",
      "           1    0.82266   0.82306   0.82286     28598\n",
      "\n",
      "    accuracy                        0.82263     57136\n",
      "   macro avg    0.82263   0.82263   0.82263     57136\n",
      "weighted avg    0.82263   0.82263   0.82263     57136\n",
      "\n"
     ]
    }
   ],
   "source": [
    "# removing job, pdays and previous featues as these are not significant features (known from the wald' test)\n",
    "X= toTrain.drop(['job','pdays','previous','y'],axis =1)\n",
    "y = toTrain['y']\n",
    "smote = SMOTE(random_state=42)\n",
    "X, y = smote.fit_resample(X, y)\n",
    "X_train, X_test, y_train, y_test = train_test_split(  X, y, \n",
    "                                        test_size=0.2, random_state=42) # splitting the data in ratio 80:20\n",
    "\n",
    "print(\"X_train's shape\",X_train.shape)\n",
    "print(\"X test's shape'\",X_test.shape)\n",
    "print(\"y_train's shape\",y_train.shape)\n",
    "print(\"y_test's shape\",y_test.shape)\n",
    "\n",
    "print('train value count for the target variables',y_train.value_counts()/len(y_train))\n",
    "print('test value count for the target variables',y_test.value_counts()/len(y_test))\n",
    "\n",
    "# Building logistic model \n",
    "model_logistic = LogisticRegression(max_iter=500)\n",
    "model_logistic.fit(X_train, y_train)\n",
    "print('Logistic Regression Model')\n",
    "print('test score',model_logistic.score(X_test, y_test))\n",
    "print('train score',model_logistic.score(X_train, y_train))\n",
    "print('test classification',metrics.classification_report(y_test,model_logistic.predict(X_test),digits=5))\n",
    "print('train classification',metrics.classification_report(y_train, model_logistic.predict(X_train),digits=5))"
   ]
  },
  {
   "cell_type": "code",
   "execution_count": 137,
   "id": "36b6b4b5",
   "metadata": {},
   "outputs": [],
   "source": [
    "model_list = [('log',LogisticRegression(max_iter=500)),('dc',DecisionTreeClassifier()),(\n",
    "    'naive bayes', GaussianNB())]"
   ]
  },
  {
   "cell_type": "code",
   "execution_count": 138,
   "id": "eb652173",
   "metadata": {},
   "outputs": [],
   "source": [
    "def ClassifierApplier(list_classifier, X_train2, y_train2, X_test2, y_test2): # [(name, classifier)]\n",
    "    for model in list_classifier:\n",
    "        print(f\"model name: {model[0]}\")\n",
    "        classifier = model[1]\n",
    "        try:\n",
    "            selector = RFE(classifier, n_features_to_select=5, step=1) # applying RFE elimination approach\n",
    "            selector = selector.fit(X_train2, y_train2)\n",
    "            selected_columns = list(selector.get_feature_names_out())\n",
    "        except:\n",
    "            selected_columns = list(X_train2.columns)\n",
    "\n",
    "        classifier.fit(X_train2[selected_columns],y_train2)\n",
    "        print('train score',classifier.score(X_train2[selected_columns], y_train2),\n",
    "              'test score',classifier.score(X_test2[selected_columns],y_test2))\n",
    "\n",
    "        prediction = classifier.predict(X_test2[selected_columns])\n",
    "        prediction_train = classifier.predict(X_train2[selected_columns])\n",
    "        print(\"Classification report\")\n",
    "        print('train ',classification_report(prediction_train, y_train2,digits=5))\n",
    "        print('test',classification_report(prediction, y_test2,digits=5))\n"
   ]
  },
  {
   "cell_type": "code",
   "execution_count": 139,
   "id": "9a2bb7f4",
   "metadata": {},
   "outputs": [
    {
     "name": "stdout",
     "output_type": "stream",
     "text": [
      "model name: log\n",
      "train score 0.8060417250070009 test score 0.802646317558107\n",
      "Classification report\n",
      "train                precision    recall  f1-score   support\n",
      "\n",
      "           0    0.81898   0.79801   0.80836     29288\n",
      "           1    0.79313   0.81449   0.80367     27848\n",
      "\n",
      "    accuracy                        0.80604     57136\n",
      "   macro avg    0.80606   0.80625   0.80601     57136\n",
      "weighted avg    0.80638   0.80604   0.80607     57136\n",
      "\n",
      "test               precision    recall  f1-score   support\n",
      "\n",
      "           0    0.81999   0.79376   0.80667      7409\n",
      "           1    0.78515   0.81222   0.79846      6875\n",
      "\n",
      "    accuracy                        0.80265     14284\n",
      "   macro avg    0.80257   0.80299   0.80256     14284\n",
      "weighted avg    0.80322   0.80265   0.80271     14284\n",
      "\n",
      "model name: dc\n",
      "train score 0.999982497899748 test score 0.8910669280313638\n",
      "Classification report\n",
      "train                precision    recall  f1-score   support\n",
      "\n",
      "           0    1.00000   0.99996   0.99998     28539\n",
      "           1    0.99997   1.00000   0.99998     28597\n",
      "\n",
      "    accuracy                        0.99998     57136\n",
      "   macro avg    0.99998   0.99998   0.99998     57136\n",
      "weighted avg    0.99998   0.99998   0.99998     57136\n",
      "\n",
      "test               precision    recall  f1-score   support\n",
      "\n",
      "           0    0.89180   0.89130   0.89155      7176\n",
      "           1    0.89033   0.89083   0.89058      7108\n",
      "\n",
      "    accuracy                        0.89107     14284\n",
      "   macro avg    0.89106   0.89107   0.89106     14284\n",
      "weighted avg    0.89107   0.89107   0.89107     14284\n",
      "\n",
      "model name: naive bayes\n",
      "train score 0.7304676561187342 test score 0.7296275553066368\n",
      "Classification report\n",
      "train                precision    recall  f1-score   support\n",
      "\n",
      "           0    0.61217   0.80130   0.69408     21802\n",
      "           1    0.84852   0.68676   0.75912     35334\n",
      "\n",
      "    accuracy                        0.73047     57136\n",
      "   macro avg    0.73034   0.74403   0.72660     57136\n",
      "weighted avg    0.75833   0.73047   0.73430     57136\n",
      "\n",
      "test               precision    recall  f1-score   support\n",
      "\n",
      "           0    0.60959   0.80456   0.69364      5434\n",
      "           1    0.85067   0.68362   0.75805      8850\n",
      "\n",
      "    accuracy                        0.72963     14284\n",
      "   macro avg    0.73013   0.74409   0.72584     14284\n",
      "weighted avg    0.75896   0.72963   0.73355     14284\n",
      "\n"
     ]
    }
   ],
   "source": [
    "ClassifierApplier(model_list, X_train,y_train, X_test, y_test)"
   ]
  },
  {
   "cell_type": "code",
   "execution_count": 140,
   "id": "13fa6ba4",
   "metadata": {},
   "outputs": [],
   "source": [
    "# Here tree base algorithms is doing very well but it is little bit over fit let's try to deal with it boosting and bagging"
   ]
  },
  {
   "cell_type": "code",
   "execution_count": 141,
   "id": "13a3b93f",
   "metadata": {},
   "outputs": [
    {
     "name": "stdout",
     "output_type": "stream",
     "text": [
      "model name: rf\n",
      "train score 1.0 test score 0.9059787174460935\n",
      "Classification report\n",
      "train                precision    recall  f1-score   support\n",
      "\n",
      "           0    1.00000   1.00000   1.00000     28538\n",
      "           1    1.00000   1.00000   1.00000     28598\n",
      "\n",
      "    accuracy                        1.00000     57136\n",
      "   macro avg    1.00000   1.00000   1.00000     57136\n",
      "weighted avg    1.00000   1.00000   1.00000     57136\n",
      "\n",
      "test               precision    recall  f1-score   support\n",
      "\n",
      "           0    0.91327   0.90084   0.90701      7271\n",
      "           1    0.89862   0.91131   0.90492      7013\n",
      "\n",
      "    accuracy                        0.90598     14284\n",
      "   macro avg    0.90595   0.90607   0.90597     14284\n",
      "weighted avg    0.90608   0.90598   0.90599     14284\n",
      "\n",
      "model name: ada\n",
      "train score 0.8478717446093531 test score 0.8418510221226547\n",
      "Classification report\n",
      "train                precision    recall  f1-score   support\n",
      "\n",
      "           0    0.84673   0.84840   0.84756     28482\n",
      "           1    0.84901   0.84735   0.84818     28654\n",
      "\n",
      "    accuracy                        0.84787     57136\n",
      "   macro avg    0.84787   0.84787   0.84787     57136\n",
      "weighted avg    0.84787   0.84787   0.84787     57136\n",
      "\n",
      "test               precision    recall  f1-score   support\n",
      "\n",
      "           0    0.84133   0.84333   0.84233      7155\n",
      "           1    0.84238   0.84037   0.84137      7129\n",
      "\n",
      "    accuracy                        0.84185     14284\n",
      "   macro avg    0.84185   0.84185   0.84185     14284\n",
      "weighted avg    0.84185   0.84185   0.84185     14284\n",
      "\n",
      "model name: Gradient\n",
      "train score 0.8803206384766172 test score 0.8762251470176421\n",
      "Classification report\n",
      "train                precision    recall  f1-score   support\n",
      "\n",
      "           0    0.87420   0.88481   0.87947     28196\n",
      "           1    0.88643   0.87595   0.88116     28940\n",
      "\n",
      "    accuracy                        0.88032     57136\n",
      "   macro avg    0.88031   0.88038   0.88031     57136\n",
      "weighted avg    0.88039   0.88032   0.88033     57136\n",
      "\n",
      "test               precision    recall  f1-score   support\n",
      "\n",
      "           0    0.86824   0.88326   0.87569      7050\n",
      "           1    0.88428   0.86937   0.87676      7234\n",
      "\n",
      "    accuracy                        0.87623     14284\n",
      "   macro avg    0.87626   0.87631   0.87622     14284\n",
      "weighted avg    0.87636   0.87623   0.87623     14284\n",
      "\n"
     ]
    }
   ],
   "source": [
    "model_list_ensemble = [('rf',RandomForestClassifier())\n",
    "                       ,('ada', AdaBoostClassifier()),('Gradient',GradientBoostingClassifier())]\n",
    "ClassifierApplier(model_list_ensemble, X_train,y_train, X_test, y_test)"
   ]
  },
  {
   "cell_type": "code",
   "execution_count": null,
   "id": "fdc29d16",
   "metadata": {},
   "outputs": [],
   "source": [
    "# From here random forest is doing well "
   ]
  },
  {
   "cell_type": "markdown",
   "id": "59369f0a",
   "metadata": {},
   "source": [
    "## Tuning Random Forest"
   ]
  },
  {
   "cell_type": "code",
   "execution_count": 142,
   "id": "f4e6d385",
   "metadata": {},
   "outputs": [
    {
     "data": {
      "text/plain": [
       "['age', 'balance', 'day', 'duration', 'campaign']"
      ]
     },
     "execution_count": 142,
     "metadata": {},
     "output_type": "execute_result"
    }
   ],
   "source": [
    "selector = RFE(RandomForestClassifier(), n_features_to_select=5, step=1) # applying RFE elimination approach\n",
    "selector = selector.fit(X_train, y_train)\n",
    "selected_columns = list(selector.get_feature_names_out())\n",
    "selected_columns "
   ]
  },
  {
   "cell_type": "code",
   "execution_count": 143,
   "id": "61a63baf",
   "metadata": {},
   "outputs": [
    {
     "name": "stdout",
     "output_type": "stream",
     "text": [
      "Fitting 2 folds for each of 132 candidates, totalling 264 fits\n",
      "CPU times: total: 12.7 s\n",
      "Wall time: 2min 25s\n"
     ]
    },
    {
     "data": {
      "text/plain": [
       "GridSearchCV(cv=2, estimator=RandomForestClassifier(), n_jobs=-1,\n",
       "             param_grid={'max_depth': [10, 20, 30, 40, 50, 60, 70, 80, 90, 100,\n",
       "                                       None],\n",
       "                         'min_samples_split': [2, 5, 10],\n",
       "                         'n_estimators': [50, 100, 150, 200]},\n",
       "             scoring='f1_weighted', verbose=2)"
      ]
     },
     "execution_count": 143,
     "metadata": {},
     "output_type": "execute_result"
    }
   ],
   "source": [
    "%%time\n",
    "# tuning the max_depth, min_split and n_estimator of the model\n",
    "estimator = RandomForestClassifier()\n",
    "param = {'n_estimators':[50, 100, 150, 200],'max_depth':[10, 20, 30, 40, 50, 60, 70, 80, 90, 100, None],\n",
    "                       'min_samples_split': [2, 5, 10] }\n",
    "grid = GridSearchCV(estimator= estimator,param_grid = param, cv= 2,verbose=2, n_jobs=-1, scoring='f1_weighted')\n",
    "grid.fit(X_train[selected_columns], y_train  )"
   ]
  },
  {
   "cell_type": "code",
   "execution_count": 144,
   "id": "fd6a1f4b",
   "metadata": {},
   "outputs": [
    {
     "data": {
      "text/plain": [
       "{'max_depth': 100, 'min_samples_split': 2, 'n_estimators': 200}"
      ]
     },
     "execution_count": 144,
     "metadata": {},
     "output_type": "execute_result"
    }
   ],
   "source": [
    "grid.best_params_"
   ]
  },
  {
   "cell_type": "code",
   "execution_count": 145,
   "id": "9825c111",
   "metadata": {},
   "outputs": [
    {
     "name": "stdout",
     "output_type": "stream",
     "text": [
      "Final Random forest Model\n",
      "test score 0.908008961075329\n",
      "train score 1.0\n",
      "test classification               precision    recall  f1-score   support\n",
      "\n",
      "           0    0.90025   0.91857   0.90932      7172\n",
      "           1    0.91616   0.89736   0.90666      7112\n",
      "\n",
      "    accuracy                        0.90801     14284\n",
      "   macro avg    0.90821   0.90796   0.90799     14284\n",
      "weighted avg    0.90817   0.90801   0.90800     14284\n",
      "\n",
      "train classification               precision    recall  f1-score   support\n",
      "\n",
      "           0    1.00000   1.00000   1.00000     28538\n",
      "           1    1.00000   1.00000   1.00000     28598\n",
      "\n",
      "    accuracy                        1.00000     57136\n",
      "   macro avg    1.00000   1.00000   1.00000     57136\n",
      "weighted avg    1.00000   1.00000   1.00000     57136\n",
      "\n"
     ]
    }
   ],
   "source": [
    "model = RandomForestClassifier(max_depth= 80, min_samples_split= 2, n_estimators= 100)\n",
    "model.fit(X_train[selected_columns], y_train)\n",
    "print('Final Random forest Model')\n",
    "print('test score',model.score(X_test[selected_columns], y_test))\n",
    "print('train score',model.score(X_train[selected_columns], y_train))\n",
    "print('test classification',metrics.classification_report(y_test,model.predict(X_test[selected_columns]),digits=5))\n",
    "print('train classification',metrics.classification_report(y_train, model.predict(X_train[selected_columns]),digits=5))"
   ]
  },
  {
   "cell_type": "code",
   "execution_count": 151,
   "id": "2738d3bb",
   "metadata": {},
   "outputs": [],
   "source": [
    "#import pickle"
   ]
  },
  {
   "cell_type": "code",
   "execution_count": 147,
   "id": "2aa2163c",
   "metadata": {},
   "outputs": [],
   "source": [
    "#filename = 'finalized_model.sav'\n",
    "#pickle.dump(model, open(filename, 'wb'))"
   ]
  },
  {
   "cell_type": "code",
   "execution_count": 152,
   "id": "1ea0a617",
   "metadata": {},
   "outputs": [],
   "source": [
    "#selected_columns = ['age', 'balance', 'day', 'duration', 'campaign']\n",
    "\n",
    "#model =pickle.load(open('finalized_model.sav','rb'))\n",
    "#model.predict(X_test[selected_columns])"
   ]
  },
  {
   "cell_type": "markdown",
   "id": "1d9a2b9a",
   "metadata": {},
   "source": [
    "## Coclusion"
   ]
  },
  {
   "cell_type": "markdown",
   "id": "ee559e34",
   "metadata": {},
   "source": [
    "1. The data contains null values that were dropped as these were very few in number\n",
    "\n",
    "2. Chi square test informs that the all categorical features are relevant and impact target variable\n",
    "\n",
    "3. From walt test it was known that only numerical features were significant except job  , pdays, and previous\n",
    "\n",
    "4. From visualisation it was clears that all categorical variables affected the target variables as the mean of both classes was different \n",
    "\n",
    "5. There was correlation between age and balance , it is significant correlation as proved from the spearmant test. However the strength of correlation was very less. \n",
    "\n",
    "6. Many models were built but these were not successful when checked with classification report as the data was imbalance it contain no class with around 90% while the representation of yes class was only 10%\n",
    "\n",
    "7. The oversampling and undersampling technique both were implemented to improve model but the performance was still poor\n",
    "\n",
    "8. Later, outlier treatment was done and  implemented a smote technique to balance the class. Checking several models we obtained Random forest performed very well which was tuned further. Recursive elminiation approach is preferred for feature selection.\n",
    "\n",
    "9. The accuracy of the final is 90%, the model was able to classify with almost same precision and recall. The feature required for the test and training of the model includes 'age', 'balance', 'day', 'duration' and 'campaign.\n",
    "\n",
    "10. Now the model is ready to find the credit eligibiltiy of person based on 'age', 'balance', 'day', 'duration' and 'campaign."
   ]
  },
  {
   "cell_type": "code",
   "execution_count": null,
   "id": "7a939dc6",
   "metadata": {},
   "outputs": [],
   "source": []
  }
 ],
 "metadata": {
  "kernelspec": {
   "display_name": "Python 3 (ipykernel)",
   "language": "python",
   "name": "python3"
  },
  "language_info": {
   "codemirror_mode": {
    "name": "ipython",
    "version": 3
   },
   "file_extension": ".py",
   "mimetype": "text/x-python",
   "name": "python",
   "nbconvert_exporter": "python",
   "pygments_lexer": "ipython3",
   "version": "3.8.8"
  }
 },
 "nbformat": 4,
 "nbformat_minor": 5
}
